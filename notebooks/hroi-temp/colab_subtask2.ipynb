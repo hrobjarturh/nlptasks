{
  "cells": [
    {
      "cell_type": "code",
      "execution_count": 1,
      "metadata": {
        "colab": {
          "base_uri": "https://localhost:8080/"
        },
        "id": "27oY-Iy-gCwM",
        "outputId": "ae0a5112-bef9-438d-f0e0-a254a550866f"
      },
      "outputs": [
        {
          "name": "stdout",
          "output_type": "stream",
          "text": [
            "Drive already mounted at /content/drive; to attempt to forcibly remount, call drive.mount(\"/content/drive\", force_remount=True).\n"
          ]
        }
      ],
      "source": [
        "from google.colab import drive\n",
        "drive.mount('/content/drive')"
      ]
    },
    {
      "cell_type": "code",
      "execution_count": 6,
      "metadata": {
        "colab": {
          "base_uri": "https://localhost:8080/"
        },
        "id": "0PdmJU-Nhz2Q",
        "outputId": "4fd6fbb7-c269-4121-f552-f521aaf8c512"
      },
      "outputs": [
        {
          "name": "stdout",
          "output_type": "stream",
          "text": [
            "Looking in indexes: https://pypi.org/simple, https://us-python.pkg.dev/colab-wheels/public/simple/\n",
            "Requirement already satisfied: bpemb in /usr/local/lib/python3.7/dist-packages (0.3.4)\n",
            "Requirement already satisfied: tqdm in /usr/local/lib/python3.7/dist-packages (from bpemb) (4.64.1)\n",
            "Requirement already satisfied: numpy in /usr/local/lib/python3.7/dist-packages (from bpemb) (1.21.6)\n",
            "Requirement already satisfied: sentencepiece in /usr/local/lib/python3.7/dist-packages (from bpemb) (0.1.97)\n",
            "Requirement already satisfied: gensim in /usr/local/lib/python3.7/dist-packages (from bpemb) (3.6.0)\n",
            "Requirement already satisfied: requests in /usr/local/lib/python3.7/dist-packages (from bpemb) (2.23.0)\n",
            "Requirement already satisfied: scipy>=0.18.1 in /usr/local/lib/python3.7/dist-packages (from gensim->bpemb) (1.7.3)\n",
            "Requirement already satisfied: six>=1.5.0 in /usr/local/lib/python3.7/dist-packages (from gensim->bpemb) (1.15.0)\n",
            "Requirement already satisfied: smart-open>=1.2.1 in /usr/local/lib/python3.7/dist-packages (from gensim->bpemb) (5.2.1)\n",
            "Requirement already satisfied: idna<3,>=2.5 in /usr/local/lib/python3.7/dist-packages (from requests->bpemb) (2.10)\n",
            "Requirement already satisfied: chardet<4,>=3.0.2 in /usr/local/lib/python3.7/dist-packages (from requests->bpemb) (3.0.4)\n",
            "Requirement already satisfied: urllib3!=1.25.0,!=1.25.1,<1.26,>=1.21.1 in /usr/local/lib/python3.7/dist-packages (from requests->bpemb) (1.24.3)\n",
            "Requirement already satisfied: certifi>=2017.4.17 in /usr/local/lib/python3.7/dist-packages (from requests->bpemb) (2022.6.15)\n"
          ]
        }
      ],
      "source": [
        "!pip install bpemb"
      ]
    },
    {
      "cell_type": "code",
      "execution_count": 5,
      "metadata": {
        "colab": {
          "base_uri": "https://localhost:8080/"
        },
        "id": "MxTGVzzzg1Bq",
        "outputId": "dca200e3-d7e8-4369-95ac-b68b7bbf5f4a"
      },
      "outputs": [
        {
          "name": "stdout",
          "output_type": "stream",
          "text": [
            "/content/drive/MyDrive/Colab Notebooks/nlptasks/notebooks/hroi-temp\n"
          ]
        }
      ],
      "source": [
        "!pwd"
      ]
    },
    {
      "cell_type": "code",
      "execution_count": 3,
      "metadata": {
        "colab": {
          "base_uri": "https://localhost:8080/"
        },
        "id": "n7rU8bPGhwOd",
        "outputId": "2a222d4a-49f7-4dbd-c01b-2c30337ec74c"
      },
      "outputs": [
        {
          "name": "stdout",
          "output_type": "stream",
          "text": [
            "/content/drive/MyDrive/Colab Notebooks/nlptasks\n"
          ]
        }
      ],
      "source": [
        "%cd drive/MyDrive/Colab\\ Notebooks/nlptasks/notebooks/hroi-temp"
      ]
    },
    {
      "cell_type": "code",
      "execution_count": null,
      "metadata": {
        "colab": {
          "base_uri": "https://localhost:8080/"
        },
        "id": "alSxKo9lhzqy",
        "outputId": "6b6e6602-eb78-4ccc-ef6b-2ccaf911b2b0"
      },
      "outputs": [
        {
          "name": "stdout",
          "output_type": "stream",
          "text": [
            "remote: Enumerating objects: 8, done.\u001b[K\n",
            "remote: Counting objects:  12% (1/8)\u001b[K\rremote: Counting objects:  25% (2/8)\u001b[K\rremote: Counting objects:  37% (3/8)\u001b[K\rremote: Counting objects:  50% (4/8)\u001b[K\rremote: Counting objects:  62% (5/8)\u001b[K\rremote: Counting objects:  75% (6/8)\u001b[K\rremote: Counting objects:  87% (7/8)\u001b[K\rremote: Counting objects: 100% (8/8)\u001b[K\rremote: Counting objects: 100% (8/8), done.\u001b[K\n",
            "remote: Compressing objects:  33% (1/3)\u001b[K\rremote: Compressing objects:  66% (2/3)\u001b[K\rremote: Compressing objects: 100% (3/3)\u001b[K\rremote: Compressing objects: 100% (3/3), done.\u001b[K\n",
            "remote: Total 5 (delta 2), reused 5 (delta 2), pack-reused 0\u001b[K\n",
            "Unpacking objects:  20% (1/5)   \rUnpacking objects:  40% (2/5)   \rUnpacking objects:  60% (3/5)   \rUnpacking objects:  80% (4/5)   \rUnpacking objects: 100% (5/5)   \rUnpacking objects: 100% (5/5), done.\n",
            "From https://github.com/hrobjarturh/nlptasks\n",
            "   e6b7406..461a058  main       -> origin/main\n",
            "Updating e6b7406..461a058\n",
            "Fast-forward\n",
            " notebooks/hroi-temp/sub12.ipynb | 444 \u001b[32m++++++++++++++++++++++++++++++++++++++++\u001b[m\n",
            " 1 file changed, 444 insertions(+)\n",
            " create mode 100644 notebooks/hroi-temp/sub12.ipynb\n"
          ]
        }
      ],
      "source": [
        "#!git clone https://github.com/hrobjarturh/nlptasks.git\n",
        "#!git pull"
      ]
    },
    {
      "cell_type": "code",
      "execution_count": 6,
      "metadata": {
        "id": "7Wt_A87giGwW"
      },
      "outputs": [],
      "source": [
        "import pandas as pd\n",
        "import numpy as np\n",
        "import random\n",
        "from sklearn.metrics import accuracy_score\n",
        "from sklearn.linear_model import LogisticRegression\n",
        "from collections import Counter\n",
        "\n",
        "import torch\n",
        "from torch.utils.data import Dataset, DataLoader\n",
        "from typing import List, Tuple\n",
        "from bpemb import BPEmb\n",
        "import gensim.downloader\n",
        "from bpemb import BPEmb\n"
      ]
    },
    {
      "cell_type": "code",
      "execution_count": 7,
      "metadata": {
        "id": "2HZPFXuumExz"
      },
      "outputs": [],
      "source": [
        "%reload_ext autoreload\n",
        "%autoreload 2\n",
        "%matplotlib inline"
      ]
    },
    {
      "cell_type": "code",
      "execution_count": 8,
      "metadata": {
        "id": "ouMQru4UmI9x"
      },
      "outputs": [],
      "source": [
        "def enforce_reproducibility(seed=42):\n",
        "    # Sets seed manually for both CPU and CUDA\n",
        "    torch.manual_seed(seed)\n",
        "    torch.cuda.manual_seed_all(seed)\n",
        "    # For atomic operations there is currently \n",
        "    # no simple way to enforce determinism, as\n",
        "    # the order of parallel operations is not known.\n",
        "    # CUDNN\n",
        "    torch.backends.cudnn.deterministic = True\n",
        "    torch.backends.cudnn.benchmark = False\n",
        "    # System based\n",
        "    random.seed(seed)\n",
        "    np.random.seed(seed)"
      ]
    },
    {
      "cell_type": "code",
      "execution_count": 9,
      "metadata": {
        "id": "vhXTpowxmJpf"
      },
      "outputs": [],
      "source": [
        "enforce_reproducibility()"
      ]
    },
    {
      "cell_type": "code",
      "execution_count": 10,
      "metadata": {
        "colab": {
          "base_uri": "https://localhost:8080/"
        },
        "id": "HQ-9tdhRwWLz",
        "outputId": "e3b5ab2d-ee0f-460a-bd53-c8612e393e96"
      },
      "outputs": [
        {
          "name": "stdout",
          "output_type": "stream",
          "text": [
            "BPEmb fallback: en from vocab size 65320 to 200000\n"
          ]
        }
      ],
      "source": [
        "bpemb_en = BPEmb(lang='en', dim=100, vs=65320)\n",
        "# Extract the embeddings and add a randomly initialized embedding for our extra [PAD] token\n",
        "pretrained_embeddings = np.concatenate([bpemb_en.emb.vectors, np.zeros(shape=(1,100))], axis=0)"
      ]
    },
    {
      "cell_type": "code",
      "execution_count": 93,
      "metadata": {
        "colab": {
          "base_uri": "https://localhost:8080/",
          "height": 222
        },
        "id": "7TGZDmMiqYba",
        "outputId": "7e8b0572-d79a-410b-ca8f-d6909d3cff39"
      },
      "outputs": [
        {
          "ename": "ValueError",
          "evalue": "ignored",
          "output_type": "error",
          "traceback": [
            "\u001b[0;31m---------------------------------------------------------------------------\u001b[0m",
            "\u001b[0;31mValueError\u001b[0m                                Traceback (most recent call last)",
            "\u001b[0;32m<ipython-input-93-79c3deab9918>\u001b[0m in \u001b[0;36m<module>\u001b[0;34m\u001b[0m\n\u001b[0;32m----> 1\u001b[0;31m \u001b[0mnp\u001b[0m\u001b[0;34m.\u001b[0m\u001b[0mconcatenate\u001b[0m\u001b[0;34m(\u001b[0m\u001b[0;34m[\u001b[0m\u001b[0;34m[\u001b[0m\u001b[0;36m1\u001b[0m\u001b[0;34m,\u001b[0m\u001b[0;36m2\u001b[0m\u001b[0;34m]\u001b[0m\u001b[0;34m,\u001b[0m \u001b[0mnp\u001b[0m\u001b[0;34m.\u001b[0m\u001b[0mzeros\u001b[0m\u001b[0;34m(\u001b[0m\u001b[0mshape\u001b[0m\u001b[0;34m=\u001b[0m\u001b[0;34m(\u001b[0m\u001b[0;36m1\u001b[0m\u001b[0;34m,\u001b[0m\u001b[0;36m100\u001b[0m\u001b[0;34m)\u001b[0m\u001b[0;34m)\u001b[0m\u001b[0;34m]\u001b[0m\u001b[0;34m,\u001b[0m \u001b[0maxis\u001b[0m\u001b[0;34m=\u001b[0m\u001b[0;36m0\u001b[0m\u001b[0;34m)\u001b[0m\u001b[0;34m\u001b[0m\u001b[0;34m\u001b[0m\u001b[0m\n\u001b[0m",
            "\u001b[0;32m<__array_function__ internals>\u001b[0m in \u001b[0;36mconcatenate\u001b[0;34m(*args, **kwargs)\u001b[0m\n",
            "\u001b[0;31mValueError\u001b[0m: all the input arrays must have same number of dimensions, but the array at index 0 has 1 dimension(s) and the array at index 1 has 2 dimension(s)"
          ]
        }
      ],
      "source": [
        "np.concatenate([[1,2], np.zeros(shape=(1,100))], axis=0)"
      ]
    },
    {
      "cell_type": "code",
      "execution_count": 12,
      "metadata": {
        "id": "Bn2xexi6v9oA"
      },
      "outputs": [],
      "source": [
        "from torch import nn\n",
        "\n",
        "# Define a default lstm_dim\n",
        "lstm_dim = 100"
      ]
    },
    {
      "cell_type": "code",
      "execution_count": 44,
      "metadata": {
        "id": "kQwIMQ0-v9sa"
      },
      "outputs": [],
      "source": [
        "device = torch.device(\"cpu\")\n",
        "if torch.cuda.is_available():\n",
        "  device = torch.device(\"cuda\")"
      ]
    },
    {
      "cell_type": "code",
      "execution_count": 16,
      "metadata": {
        "id": "0p4_OJ9av9xS"
      },
      "outputs": [],
      "source": [
        "from torch.optim import Adam"
      ]
    },
    {
      "cell_type": "code",
      "execution_count": 17,
      "metadata": {
        "id": "WLxN8h7wv9yn"
      },
      "outputs": [],
      "source": [
        "# Define some hyperparameters\n",
        "batch_size = 32\n",
        "lr = 3e-4\n",
        "n_epochs = 2"
      ]
    },
    {
      "cell_type": "code",
      "execution_count": 18,
      "metadata": {
        "id": "LpLAPwfHv94i"
      },
      "outputs": [],
      "source": [
        "def accuracy(logits, labels):\n",
        "  logits = np.asarray(logits).reshape(-1, len(logits[0]))\n",
        "  labels = np.asarray(labels).reshape(-1)\n",
        "  return np.sum(np.argmax(logits, axis=-1) == labels).astype(np.float32) / float(labels.shape[0])"
      ]
    },
    {
      "cell_type": "code",
      "execution_count": 19,
      "metadata": {
        "id": "O5vUceyZxwYZ"
      },
      "outputs": [],
      "source": [
        "from tqdm import tqdm_notebook as tqdm"
      ]
    },
    {
      "cell_type": "code",
      "execution_count": 20,
      "metadata": {
        "id": "LuBBznxkxwas"
      },
      "outputs": [],
      "source": [
        "def evaluate(model: nn.Module, valid_dl: DataLoader):\n",
        "  \"\"\"\n",
        "  Evaluates the model on the given dataset\n",
        "  :param model: The model under evaluation\n",
        "  :param valid_dl: A `DataLoader` reading validation data\n",
        "  :return: The accuracy of the model on the dataset\n",
        "  \"\"\"\n",
        "  # VERY IMPORTANT: Put your model in \"eval\" mode -- this disables things like \n",
        "  # layer normalization and dropout\n",
        "  model.eval()\n",
        "  labels_all = []\n",
        "  logits_all = []\n",
        "\n",
        "  # ALSO IMPORTANT: Don't accumulate gradients during this process\n",
        "  with torch.no_grad():\n",
        "    for batch in tqdm(valid_dl, desc='Evaluation'):\n",
        "      batch = tuple(t.to(device) for t in batch)\n",
        "      input_ids = batch[0]\n",
        "      seq_lens = batch[1]\n",
        "      labels = batch[2]\n",
        "\n",
        "      _, logits = model(input_ids, seq_lens, labels=labels)\n",
        "      labels_all.extend(list(labels.detach().cpu().numpy()))\n",
        "      logits_all.extend(list(logits.detach().cpu().numpy()))\n",
        "    acc = accuracy(logits_all, labels_all)\n",
        "\n",
        "    return acc,labels_all,logits_all"
      ]
    },
    {
      "cell_type": "code",
      "execution_count": 21,
      "metadata": {
        "id": "55NGBIoCxwc0"
      },
      "outputs": [],
      "source": [
        "def train(\n",
        "    model: nn.Module, \n",
        "    train_dl: DataLoader, \n",
        "    valid_dl: DataLoader, \n",
        "    optimizer: torch.optim.Optimizer, \n",
        "    n_epochs: int, \n",
        "    device: torch.device,\n",
        "    patience: int = 10\n",
        "):\n",
        "  \"\"\"\n",
        "  The main training loop which will optimize a given model on a given dataset\n",
        "  :param model: The model being optimized\n",
        "  :param train_dl: The training dataset\n",
        "  :param valid_dl: A validation dataset\n",
        "  :param optimizer: The optimizer used to update the model parameters\n",
        "  :param n_epochs: Number of epochs to train for\n",
        "  :param device: The device to train on\n",
        "  :return: (model, losses) The best model and the losses per iteration\n",
        "  \"\"\"\n",
        "\n",
        "  # Keep track of the loss and best accuracy\n",
        "  losses = []\n",
        "  best_acc = 0.0\n",
        "  pcounter = 0\n",
        "\n",
        "  # Iterate through epochs\n",
        "  for ep in range(n_epochs):\n",
        "\n",
        "    loss_epoch = []\n",
        "\n",
        "    #Iterate through each batch in the dataloader\n",
        "    for batch in tqdm(train_dl):\n",
        "      # VERY IMPORTANT: Make sure the model is in training mode, which turns on \n",
        "      # things like dropout and layer normalization\n",
        "      model.train()\n",
        "\n",
        "      # VERY IMPORTANT: zero out all of the gradients on each iteration -- PyTorch\n",
        "      # keeps track of these dynamically in its computation graph so you need to explicitly\n",
        "      # zero them out\n",
        "      optimizer.zero_grad()\n",
        "\n",
        "      # Place each tensor on the GPU\n",
        "      batch = tuple(t.to(device) for t in batch)\n",
        "      input_ids = batch[0]\n",
        "      seq_lens = batch[1]\n",
        "      labels = batch[2]\n",
        "\n",
        "      # Pass the inputs through the model, get the current loss and logits\n",
        "      loss, logits = model(input_ids, seq_lens, labels=labels)\n",
        "      losses.append(loss.item())\n",
        "      loss_epoch.append(loss.item())\n",
        "      \n",
        "      # Calculate all of the gradients and weight updates for the model\n",
        "      loss.backward()\n",
        "\n",
        "      # Optional: clip gradients\n",
        "      #torch.nn.utils.clip_grad_norm_(model.parameters(), 1.0)\n",
        "\n",
        "      # Finally, update the weights of the model\n",
        "      optimizer.step()\n",
        "      #gc.collect()\n",
        "\n",
        "    # Perform inline evaluation at the end of the epoch\n",
        "    acc,_,_ = evaluate(model, valid_dl)\n",
        "    print(f'Validation accuracy: {acc}, train loss: {sum(loss_epoch) / len(loss_epoch)}')\n",
        "\n",
        "    # Keep track of the best model based on the accuracy\n",
        "    if acc > best_acc:\n",
        "      torch.save(model.state_dict(), 'best_model')\n",
        "      best_acc = acc\n",
        "      pcounter = 0\n",
        "    else:\n",
        "      pcounter += 1\n",
        "      if pcounter == patience:\n",
        "        break\n",
        "        #gc.collect()\n",
        "\n",
        "  model.load_state_dict(torch.load('best_model'))\n",
        "  return model, losses"
      ]
    },
    {
      "cell_type": "code",
      "execution_count": 22,
      "metadata": {
        "id": "4E3sVAaSNARV"
      },
      "outputs": [],
      "source": [
        "# use eval to change string list to list get the length of each row\n",
        "def create_batch(df):\n",
        "  combined = [eval(que) + eval(doc) for que, doc in zip(df[\"question_text_tokenized\"],df[\"document_plaintext_tokenized\"])]\n",
        "  flat_combined = np.array([item for sublist in combined for item in sublist])\n",
        "\n",
        "  dictionary = Counter(flat_combined) # create dict\n",
        "  dictionary_sorted = sorted(dictionary, key=dictionary.get, reverse=True) # sorted dict\n",
        "\n",
        "  text_id = [[dictionary_sorted.index(word) for word in text] for text in combined] # indexes of doc location\n",
        "\n",
        "  text_lens = [len(i) for i in combined] # length of all doc lists\n",
        "  max_length = max(text_lens) # max length of doc\n",
        "  dictionary_sorted.append('[PAD]') # add padding token to dictionary\n",
        "  pad_index = dictionary_sorted.index('[PAD]') # get pad index\n",
        "\n",
        "  padded_text_id = [(i + [pad_index] * (max_length - len(i))) for i in text_id] # ad padding to all tex id\n",
        "\n",
        "  return padded_text_id, text_lens, df.labels.values\n",
        "  "
      ]
    },
    {
      "cell_type": "code",
      "execution_count": 23,
      "metadata": {
        "id": "tXUjcrFIZ8-x"
      },
      "outputs": [],
      "source": [
        "#collate_fn=collate_batch_bilstm\n",
        "def collate_batch_bilstm_t(data):\n",
        "    #return torch.tensor(train_dataset[0]), torch.tensor(train_dataset[1]), torch.tensor(train_dataset[2])\n",
        "    return torch.tensor([f for f in train_dataset[0]]), torch.tensor([f for f in train_dataset[1]]), torch.tensor([f for f in train_dataset[2]])\n",
        "\n",
        "def collate_batch_bilstm_v(data):\n",
        "    #return torch.tensor(train_dataset[0]), torch.tensor(train_dataset[1]), torch.tensor(train_dataset[2])\n",
        "    return torch.tensor([f for f in valid_dataset[0]]), torch.tensor([f for f in valid_dataset[1]]), torch.tensor([f for f in valid_dataset[2]])\n",
        "\n",
        "def collate_batch_bilstm_test(data):\n",
        "    #return torch.tensor(train_dataset[0]), torch.tensor(train_dataset[1]), torch.tensor(train_dataset[2])\n",
        "    return torch.tensor([f for f in test_dataset[0]]), torch.tensor([f for f in test_dataset[1]]), torch.tensor([f for f in test_dataset[2]])\n"
      ]
    },
    {
      "cell_type": "code",
      "execution_count": 24,
      "metadata": {
        "id": "yFdAu6ljMjeg"
      },
      "outputs": [],
      "source": [
        "# import training data\n",
        "dft_eng = pd.read_csv('../../data/dft_eng.csv')\n",
        "\n",
        "# import validation data\n",
        "dfv_eng = pd.read_csv('../../data/dfv_eng.csv')"
      ]
    },
    {
      "cell_type": "code",
      "execution_count": 25,
      "metadata": {
        "id": "jJTU84S5hDhG"
      },
      "outputs": [],
      "source": [
        "from sklearn.utils import shuffle\n",
        "dft_eng = shuffle(dft_eng)\n",
        "dft_eng.reset_index(inplace=True, drop=True)\n",
        "dfv_eng = shuffle(dfv_eng)\n",
        "dfv_eng.reset_index(inplace=True, drop=True)"
      ]
    },
    {
      "cell_type": "code",
      "execution_count": 107,
      "metadata": {
        "id": "nB58EqfoK3Ze"
      },
      "outputs": [],
      "source": [
        "train_dataset = create_batch(dft_eng.iloc[:3]) # 500 for training\n",
        "valid_dataset = create_batch(dfv_eng.iloc[:3]) # 500 for validation\n",
        "test_dataset = create_batch(dft_eng.iloc[3:6]) # rest of training for testing"
      ]
    },
    {
      "cell_type": "code",
      "execution_count": 108,
      "metadata": {
        "id": "sKAbkfjDhGPm"
      },
      "outputs": [],
      "source": [
        "train_dl = DataLoader(train_dataset, batch_size=32, shuffle=True,collate_fn=collate_batch_bilstm_t, num_workers=8)\n",
        "valid_dl = DataLoader(valid_dataset, batch_size=32,collate_fn=collate_batch_bilstm_v, num_workers=8)\n",
        "test_dl = DataLoader(test_dataset, batch_size=32, collate_fn=collate_batch_bilstm_test, num_workers=8)"
      ]
    },
    {
      "cell_type": "code",
      "execution_count": 152,
      "metadata": {
        "colab": {
          "base_uri": "https://localhost:8080/"
        },
        "id": "1vuyuUG5owiN",
        "outputId": "34b04441-4c5a-45a7-b6f1-f04a3f1158f5"
      },
      "outputs": [
        {
          "name": "stderr",
          "output_type": "stream",
          "text": [
            "/usr/local/lib/python3.7/dist-packages/torch/nn/modules/rnn.py:65: UserWarning: dropout option adds dropout after all but last recurrent layer, so non-zero dropout expects num_layers greater than 1, but got dropout=0.1 and num_layers=1\n",
            "  \"num_layers={}\".format(dropout, num_layers))\n"
          ]
        }
      ],
      "source": [
        "# Define the model\n",
        "class BiLSTMNetwork(nn.Module):\n",
        "    \"\"\"\n",
        "    Basic BiLSTM network\n",
        "    \"\"\"\n",
        "    def __init__(\n",
        "            self,\n",
        "            pretrained_embeddings: torch.tensor,\n",
        "            lstm_dim: int,\n",
        "            dropout_prob: float = 0.1,\n",
        "            n_classes: int = 2\n",
        "    ):\n",
        "        \"\"\"\n",
        "        Initializer for basic BiLSTM network\n",
        "        :param pretrained_embeddings: A tensor containing the pretrained BPE embeddings\n",
        "        :param lstm_dim: The dimensionality of the BiLSTM network\n",
        "        :param dropout_prob: Dropout probability\n",
        "        :param n_classes: The number of output classes\n",
        "        \"\"\"\n",
        "\n",
        "        # First thing is to call the superclass initializer\n",
        "        super(BiLSTMNetwork, self).__init__()\n",
        "\n",
        "        # We'll define the network in a ModuleDict, which makes organizing the model a bit nicer\n",
        "        # The components are an embedding layer, a 2 layer BiLSTM, and a feed-forward output layer\n",
        "        self.model = nn.ModuleDict({\n",
        "            'embeddings': nn.Embedding.from_pretrained(pretrained_embeddings, padding_idx=pretrained_embeddings.shape[0] - 1),\n",
        "            'bilstm': nn.LSTM(\n",
        "                pretrained_embeddings.shape[1],\n",
        "                lstm_dim,\n",
        "                1,\n",
        "                batch_first=True,\n",
        "                dropout=dropout_prob,\n",
        "                bidirectional=True),\n",
        "            'cls': nn.Linear(2*lstm_dim, n_classes)\n",
        "        })\n",
        "        self.n_classes = n_classes\n",
        "        self.dropout = nn.Dropout(p=dropout_prob)\n",
        "\n",
        "        # add ling features\n",
        "        self.meta_input = meta_input = torch.empty(3,2)\n",
        "        # Initialize the weights of the model\n",
        "        self._init_weights()\n",
        "\n",
        "    def _init_weights(self):\n",
        "        all_params = list(self.model['bilstm'].named_parameters()) + \\\n",
        "                     list(self.model['cls'].named_parameters())\n",
        "        for n,p in all_params:\n",
        "            if 'weight' in n:\n",
        "                nn.init.xavier_normal_(p)\n",
        "            elif 'bias' in n:\n",
        "                nn.init.zeros_(p)\n",
        "\n",
        "    def forward(self, inputs, input_lens, labels = None):\n",
        "        \"\"\"\n",
        "        Defines how tensors flow through the model\n",
        "        :param inputs: (b x sl) The IDs into the vocabulary of the input samples\n",
        "        :param input_lens: (b) The length of each input sequence\n",
        "        :param labels: (b) The label of each sample\n",
        "        :return: (loss, logits) if `labels` is not None, otherwise just (logits,)\n",
        "        \"\"\"\n",
        "\n",
        "        # Get embeddings (b x sl x edim)\n",
        "        embeds = self.model['embeddings'](inputs)\n",
        "\n",
        "        # Pack padded: This is necessary for padded batches input to an RNN\n",
        "        lstm_in = nn.utils.rnn.pack_padded_sequence(\n",
        "            embeds,\n",
        "            input_lens.cpu(),\n",
        "            batch_first=True,\n",
        "            enforce_sorted=False\n",
        "        )\n",
        "\n",
        "        # Pass the packed sequence through the BiLSTM\n",
        "        lstm_out, hidden = self.model['bilstm'](lstm_in)\n",
        "\n",
        "        # Unpack the packed sequence --> (b x sl x 2*lstm_dim)\n",
        "        lstm_out,_ = nn.utils.rnn.pad_packed_sequence(lstm_out, batch_first=True)\n",
        "\n",
        "        #cat = (torch.cat((self.meta_input, lstm_out)),)\n",
        "        #print(cat.shape)\n",
        "        #print(lstm_out.shape)\n",
        "        #print(lstm_out)\n",
        "\n",
        "        # Max pool along the last dimension\n",
        "        ff_in = self.dropout(torch.max(lstm_out, 1)[0])\n",
        "        # Some magic to get the last output of the BiLSTM for classification (b x 2*lstm_dim)\n",
        "        #ff_in = lstm_out.gather(1, input_lens.view(-1,1,1).expand(lstm_out.size(0), 1, lstm_out.size(2)) - 1).squeeze()\n",
        "\n",
        "        #ff_in = torch.cat((ff_in, self.meta_input), 1)\n",
        "\n",
        "        # Get logits (b x n_classes)\n",
        "        logits = self.model['cls'](ff_in).view(-1, self.n_classes)\n",
        "        outputs = (logits,)\n",
        "        if labels is not None:\n",
        "            # Xentropy loss\n",
        "            loss_fn = nn.CrossEntropyLoss()\n",
        "            loss = loss_fn(logits, labels)\n",
        "            outputs = (loss,) + outputs\n",
        "\n",
        "        return outputs\n",
        "\n",
        "\n",
        "# Create the model\n",
        "model = BiLSTMNetwork(\n",
        "    pretrained_embeddings=torch.FloatTensor(pretrained_embeddings), \n",
        "    lstm_dim=lstm_dim, \n",
        "    dropout_prob=0.1, \n",
        "    n_classes=2\n",
        "  ).to(device)"
      ]
    },
    {
      "cell_type": "code",
      "execution_count": 153,
      "metadata": {
        "colab": {
          "base_uri": "https://localhost:8080/",
          "height": 477,
          "referenced_widgets": [
            "e8be0e730bfb4f8d8f3f0ccd94045159",
            "7cb90c5a12c741438342070a1d12ce8a",
            "7974acfc75374449a2f4d11d9e00fe38",
            "8e1531284bca4a0b9ccace389713c488",
            "a561e7ef95da4974b339c65fd0139f5a",
            "7b86a773e5ea47bea0fd07728f8576f4",
            "b60ca9c9772b44c68f4202083766b238",
            "1ffc778e15584ef3a7caa6fc1ae709e1",
            "e7087cff60a046e787c26e1c7b88a05b",
            "d642f33f21224a6f8ddbbc2d73500910",
            "126fb310f42447738972a4de64e67068"
          ]
        },
        "id": "wzwk-oeaxwe5",
        "outputId": "08fb8b22-c526-4bca-b209-6d0d28f350a7"
      },
      "outputs": [
        {
          "name": "stderr",
          "output_type": "stream",
          "text": [
            "/usr/local/lib/python3.7/dist-packages/ipykernel_launcher.py:32: TqdmDeprecationWarning: This function will be removed in tqdm==5.0.0\n",
            "Please use `tqdm.notebook.tqdm` instead of `tqdm.tqdm_notebook`\n"
          ]
        },
        {
          "data": {
            "application/vnd.jupyter.widget-view+json": {
              "model_id": "e8be0e730bfb4f8d8f3f0ccd94045159",
              "version_major": 2,
              "version_minor": 0
            },
            "text/plain": [
              "  0%|          | 0/1 [00:00<?, ?it/s]"
            ]
          },
          "metadata": {},
          "output_type": "display_data"
        },
        {
          "name": "stderr",
          "output_type": "stream",
          "text": [
            "/usr/local/lib/python3.7/dist-packages/torch/utils/data/dataloader.py:566: UserWarning: This DataLoader will create 8 worker processes in total. Our suggested max number of worker in current system is 2, which is smaller than what this DataLoader is going to create. Please be aware that excessive worker creation might get DataLoader running slow or even freeze, lower the worker number to avoid potential slowness/freeze if necessary.\n",
            "  cpuset_checked))\n"
          ]
        },
        {
          "ename": "RuntimeError",
          "evalue": "ignored",
          "output_type": "error",
          "traceback": [
            "\u001b[0;31m---------------------------------------------------------------------------\u001b[0m",
            "\u001b[0;31mRuntimeError\u001b[0m                              Traceback (most recent call last)",
            "\u001b[0;32m<ipython-input-153-b1ac910bd971>\u001b[0m in \u001b[0;36m<module>\u001b[0;34m\u001b[0m\n\u001b[1;32m      3\u001b[0m \u001b[0;34m\u001b[0m\u001b[0m\n\u001b[1;32m      4\u001b[0m \u001b[0;31m# Train\u001b[0m\u001b[0;34m\u001b[0m\u001b[0;34m\u001b[0m\u001b[0;34m\u001b[0m\u001b[0m\n\u001b[0;32m----> 5\u001b[0;31m \u001b[0mmodel\u001b[0m\u001b[0;34m,\u001b[0m \u001b[0mlosses\u001b[0m \u001b[0;34m=\u001b[0m \u001b[0mtrain\u001b[0m\u001b[0;34m(\u001b[0m\u001b[0mmodel\u001b[0m\u001b[0;34m,\u001b[0m \u001b[0mtrain_dl\u001b[0m\u001b[0;34m,\u001b[0m \u001b[0mvalid_dl\u001b[0m\u001b[0;34m,\u001b[0m \u001b[0moptimizer\u001b[0m\u001b[0;34m,\u001b[0m \u001b[0mn_epochs\u001b[0m\u001b[0;34m,\u001b[0m \u001b[0mdevice\u001b[0m\u001b[0;34m)\u001b[0m\u001b[0;34m\u001b[0m\u001b[0;34m\u001b[0m\u001b[0m\n\u001b[0m",
            "\u001b[0;32m<ipython-input-21-7b15e5412fc5>\u001b[0m in \u001b[0;36mtrain\u001b[0;34m(model, train_dl, valid_dl, optimizer, n_epochs, device, patience)\u001b[0m\n\u001b[1;32m     47\u001b[0m \u001b[0;34m\u001b[0m\u001b[0m\n\u001b[1;32m     48\u001b[0m       \u001b[0;31m# Pass the inputs through the model, get the current loss and logits\u001b[0m\u001b[0;34m\u001b[0m\u001b[0;34m\u001b[0m\u001b[0;34m\u001b[0m\u001b[0m\n\u001b[0;32m---> 49\u001b[0;31m       \u001b[0mloss\u001b[0m\u001b[0;34m,\u001b[0m \u001b[0mlogits\u001b[0m \u001b[0;34m=\u001b[0m \u001b[0mmodel\u001b[0m\u001b[0;34m(\u001b[0m\u001b[0minput_ids\u001b[0m\u001b[0;34m,\u001b[0m \u001b[0mseq_lens\u001b[0m\u001b[0;34m,\u001b[0m \u001b[0mlabels\u001b[0m\u001b[0;34m=\u001b[0m\u001b[0mlabels\u001b[0m\u001b[0;34m)\u001b[0m\u001b[0;34m\u001b[0m\u001b[0;34m\u001b[0m\u001b[0m\n\u001b[0m\u001b[1;32m     50\u001b[0m       \u001b[0mlosses\u001b[0m\u001b[0;34m.\u001b[0m\u001b[0mappend\u001b[0m\u001b[0;34m(\u001b[0m\u001b[0mloss\u001b[0m\u001b[0;34m.\u001b[0m\u001b[0mitem\u001b[0m\u001b[0;34m(\u001b[0m\u001b[0;34m)\u001b[0m\u001b[0;34m)\u001b[0m\u001b[0;34m\u001b[0m\u001b[0;34m\u001b[0m\u001b[0m\n\u001b[1;32m     51\u001b[0m       \u001b[0mloss_epoch\u001b[0m\u001b[0;34m.\u001b[0m\u001b[0mappend\u001b[0m\u001b[0;34m(\u001b[0m\u001b[0mloss\u001b[0m\u001b[0;34m.\u001b[0m\u001b[0mitem\u001b[0m\u001b[0;34m(\u001b[0m\u001b[0;34m)\u001b[0m\u001b[0;34m)\u001b[0m\u001b[0;34m\u001b[0m\u001b[0;34m\u001b[0m\u001b[0m\n",
            "\u001b[0;32m/usr/local/lib/python3.7/dist-packages/torch/nn/modules/module.py\u001b[0m in \u001b[0;36m_call_impl\u001b[0;34m(self, *input, **kwargs)\u001b[0m\n\u001b[1;32m   1128\u001b[0m         if not (self._backward_hooks or self._forward_hooks or self._forward_pre_hooks or _global_backward_hooks\n\u001b[1;32m   1129\u001b[0m                 or _global_forward_hooks or _global_forward_pre_hooks):\n\u001b[0;32m-> 1130\u001b[0;31m             \u001b[0;32mreturn\u001b[0m \u001b[0mforward_call\u001b[0m\u001b[0;34m(\u001b[0m\u001b[0;34m*\u001b[0m\u001b[0minput\u001b[0m\u001b[0;34m,\u001b[0m \u001b[0;34m**\u001b[0m\u001b[0mkwargs\u001b[0m\u001b[0;34m)\u001b[0m\u001b[0;34m\u001b[0m\u001b[0;34m\u001b[0m\u001b[0m\n\u001b[0m\u001b[1;32m   1131\u001b[0m         \u001b[0;31m# Do not call functions when jit is used\u001b[0m\u001b[0;34m\u001b[0m\u001b[0;34m\u001b[0m\u001b[0;34m\u001b[0m\u001b[0m\n\u001b[1;32m   1132\u001b[0m         \u001b[0mfull_backward_hooks\u001b[0m\u001b[0;34m,\u001b[0m \u001b[0mnon_full_backward_hooks\u001b[0m \u001b[0;34m=\u001b[0m \u001b[0;34m[\u001b[0m\u001b[0;34m]\u001b[0m\u001b[0;34m,\u001b[0m \u001b[0;34m[\u001b[0m\u001b[0;34m]\u001b[0m\u001b[0;34m\u001b[0m\u001b[0;34m\u001b[0m\u001b[0m\n",
            "\u001b[0;32m<ipython-input-152-49ad5986b355>\u001b[0m in \u001b[0;36mforward\u001b[0;34m(self, inputs, input_lens, labels)\u001b[0m\n\u001b[1;32m     91\u001b[0m \u001b[0;34m\u001b[0m\u001b[0m\n\u001b[1;32m     92\u001b[0m         \u001b[0;31m# Get logits (b x n_classes)\u001b[0m\u001b[0;34m\u001b[0m\u001b[0;34m\u001b[0m\u001b[0;34m\u001b[0m\u001b[0m\n\u001b[0;32m---> 93\u001b[0;31m         \u001b[0mlogits\u001b[0m \u001b[0;34m=\u001b[0m \u001b[0mself\u001b[0m\u001b[0;34m.\u001b[0m\u001b[0mmodel\u001b[0m\u001b[0;34m[\u001b[0m\u001b[0;34m'cls'\u001b[0m\u001b[0;34m]\u001b[0m\u001b[0;34m(\u001b[0m\u001b[0mff_in\u001b[0m\u001b[0;34m)\u001b[0m\u001b[0;34m.\u001b[0m\u001b[0mview\u001b[0m\u001b[0;34m(\u001b[0m\u001b[0;34m-\u001b[0m\u001b[0;36m1\u001b[0m\u001b[0;34m,\u001b[0m \u001b[0mself\u001b[0m\u001b[0;34m.\u001b[0m\u001b[0mn_classes\u001b[0m\u001b[0;34m)\u001b[0m\u001b[0;34m\u001b[0m\u001b[0;34m\u001b[0m\u001b[0m\n\u001b[0m\u001b[1;32m     94\u001b[0m         \u001b[0moutputs\u001b[0m \u001b[0;34m=\u001b[0m \u001b[0;34m(\u001b[0m\u001b[0mlogits\u001b[0m\u001b[0;34m,\u001b[0m\u001b[0;34m)\u001b[0m\u001b[0;34m\u001b[0m\u001b[0;34m\u001b[0m\u001b[0m\n\u001b[1;32m     95\u001b[0m         \u001b[0;32mif\u001b[0m \u001b[0mlabels\u001b[0m \u001b[0;32mis\u001b[0m \u001b[0;32mnot\u001b[0m \u001b[0;32mNone\u001b[0m\u001b[0;34m:\u001b[0m\u001b[0;34m\u001b[0m\u001b[0;34m\u001b[0m\u001b[0m\n",
            "\u001b[0;32m/usr/local/lib/python3.7/dist-packages/torch/nn/modules/module.py\u001b[0m in \u001b[0;36m_call_impl\u001b[0;34m(self, *input, **kwargs)\u001b[0m\n\u001b[1;32m   1128\u001b[0m         if not (self._backward_hooks or self._forward_hooks or self._forward_pre_hooks or _global_backward_hooks\n\u001b[1;32m   1129\u001b[0m                 or _global_forward_hooks or _global_forward_pre_hooks):\n\u001b[0;32m-> 1130\u001b[0;31m             \u001b[0;32mreturn\u001b[0m \u001b[0mforward_call\u001b[0m\u001b[0;34m(\u001b[0m\u001b[0;34m*\u001b[0m\u001b[0minput\u001b[0m\u001b[0;34m,\u001b[0m \u001b[0;34m**\u001b[0m\u001b[0mkwargs\u001b[0m\u001b[0;34m)\u001b[0m\u001b[0;34m\u001b[0m\u001b[0;34m\u001b[0m\u001b[0m\n\u001b[0m\u001b[1;32m   1131\u001b[0m         \u001b[0;31m# Do not call functions when jit is used\u001b[0m\u001b[0;34m\u001b[0m\u001b[0;34m\u001b[0m\u001b[0;34m\u001b[0m\u001b[0m\n\u001b[1;32m   1132\u001b[0m         \u001b[0mfull_backward_hooks\u001b[0m\u001b[0;34m,\u001b[0m \u001b[0mnon_full_backward_hooks\u001b[0m \u001b[0;34m=\u001b[0m \u001b[0;34m[\u001b[0m\u001b[0;34m]\u001b[0m\u001b[0;34m,\u001b[0m \u001b[0;34m[\u001b[0m\u001b[0;34m]\u001b[0m\u001b[0;34m\u001b[0m\u001b[0;34m\u001b[0m\u001b[0m\n",
            "\u001b[0;32m/usr/local/lib/python3.7/dist-packages/torch/nn/modules/linear.py\u001b[0m in \u001b[0;36mforward\u001b[0;34m(self, input)\u001b[0m\n\u001b[1;32m    112\u001b[0m \u001b[0;34m\u001b[0m\u001b[0m\n\u001b[1;32m    113\u001b[0m     \u001b[0;32mdef\u001b[0m \u001b[0mforward\u001b[0m\u001b[0;34m(\u001b[0m\u001b[0mself\u001b[0m\u001b[0;34m,\u001b[0m \u001b[0minput\u001b[0m\u001b[0;34m:\u001b[0m \u001b[0mTensor\u001b[0m\u001b[0;34m)\u001b[0m \u001b[0;34m->\u001b[0m \u001b[0mTensor\u001b[0m\u001b[0;34m:\u001b[0m\u001b[0;34m\u001b[0m\u001b[0;34m\u001b[0m\u001b[0m\n\u001b[0;32m--> 114\u001b[0;31m         \u001b[0;32mreturn\u001b[0m \u001b[0mF\u001b[0m\u001b[0;34m.\u001b[0m\u001b[0mlinear\u001b[0m\u001b[0;34m(\u001b[0m\u001b[0minput\u001b[0m\u001b[0;34m,\u001b[0m \u001b[0mself\u001b[0m\u001b[0;34m.\u001b[0m\u001b[0mweight\u001b[0m\u001b[0;34m,\u001b[0m \u001b[0mself\u001b[0m\u001b[0;34m.\u001b[0m\u001b[0mbias\u001b[0m\u001b[0;34m)\u001b[0m\u001b[0;34m\u001b[0m\u001b[0;34m\u001b[0m\u001b[0m\n\u001b[0m\u001b[1;32m    115\u001b[0m \u001b[0;34m\u001b[0m\u001b[0m\n\u001b[1;32m    116\u001b[0m     \u001b[0;32mdef\u001b[0m \u001b[0mextra_repr\u001b[0m\u001b[0;34m(\u001b[0m\u001b[0mself\u001b[0m\u001b[0;34m)\u001b[0m \u001b[0;34m->\u001b[0m \u001b[0mstr\u001b[0m\u001b[0;34m:\u001b[0m\u001b[0;34m\u001b[0m\u001b[0;34m\u001b[0m\u001b[0m\n",
            "\u001b[0;31mRuntimeError\u001b[0m: mat1 and mat2 shapes cannot be multiplied (3x202 and 200x2)"
          ]
        }
      ],
      "source": [
        "# Create the optimizer\n",
        "optimizer = Adam(model.parameters(), lr=lr)\n",
        "\n",
        "# Train\n",
        "model, losses = train(model, train_dl, valid_dl, optimizer, n_epochs, device)"
      ]
    },
    {
      "cell_type": "code",
      "execution_count": 111,
      "metadata": {
        "id": "ogX5zrBppJv-"
      },
      "outputs": [],
      "source": [
        "Input = torch.tensor([[2],[2],[139],[200]])\n",
        "lstm = torch.tensor([[[],[],[]],[[[],[],[]]])\n"
      ]
    },
    {
      "cell_type": "code",
      "execution_count": 147,
      "metadata": {
        "id": "QSz7lkJivduw"
      },
      "outputs": [],
      "source": [
        "lstm_out = torch.empty(3, 200)\n",
        "meta_input = torch.empty(3,2)"
      ]
    },
    {
      "cell_type": "code",
      "execution_count": 148,
      "metadata": {
        "colab": {
          "base_uri": "https://localhost:8080/"
        },
        "id": "JxAFsv6pxgXT",
        "outputId": "0ba17079-5671-413d-acfe-175124f9174c"
      },
      "outputs": [
        {
          "data": {
            "text/plain": [
              "tensor([[2.6988e-30, 0.0000e+00],\n",
              "        [2.5631e-01, 0.0000e+00],\n",
              "        [       nan, 0.0000e+00]])"
            ]
          },
          "execution_count": 148,
          "metadata": {},
          "output_type": "execute_result"
        }
      ],
      "source": [
        "meta_input"
      ]
    },
    {
      "cell_type": "code",
      "execution_count": 151,
      "metadata": {
        "colab": {
          "base_uri": "https://localhost:8080/"
        },
        "id": "peFVzDkWs-ev",
        "outputId": "92c47912-b8d8-4bd1-b563-73b84ae587d4"
      },
      "outputs": [
        {
          "data": {
            "text/plain": [
              "tensor([[6.9438e-21, 0.0000e+00, 0.0000e+00, 0.0000e+00, 1.2173e+16, 4.5768e-41,\n",
              "         6.0750e-38, 0.0000e+00, 1.4013e-45, 0.0000e+00,        nan,        nan,\n",
              "                nan,        nan, 0.0000e+00, 0.0000e+00, 1.4013e-45, 2.5639e-09,\n",
              "         0.0000e+00, 0.0000e+00, 1.2612e-44, 0.0000e+00, 1.2173e+16, 4.5768e-41,\n",
              "         6.0759e-38, 0.0000e+00,        nan,        nan, 0.0000e+00, 0.0000e+00,\n",
              "                nan,        nan, 0.0000e+00, 0.0000e+00, 1.4013e-45, 9.8439e-12,\n",
              "         1.0089e-43, 0.0000e+00, 1.5414e-44, 0.0000e+00, 1.2173e+16, 4.5768e-41,\n",
              "         6.0770e-38, 0.0000e+00, 7.0065e-45, 0.0000e+00, 1.4013e-44, 0.0000e+00,\n",
              "                nan,        nan, 0.0000e+00, 0.0000e+00, 1.4013e-45, 1.3563e-19,\n",
              "         2.0179e-43, 0.0000e+00, 1.5414e-44, 0.0000e+00, 1.2173e+16, 4.5768e-41,\n",
              "         6.0773e-38, 0.0000e+00, 0.0000e+00, 0.0000e+00, 3.6434e-44, 0.0000e+00,\n",
              "                nan,        nan, 0.0000e+00, 0.0000e+00, 1.4013e-45, 0.0000e+00,\n",
              "         3.0268e-43, 0.0000e+00, 1.5414e-44, 0.0000e+00, 1.2173e+16, 4.5768e-41,\n",
              "         6.0773e-38, 0.0000e+00,        nan,        nan, 3.6434e-44, 0.0000e+00,\n",
              "                nan,        nan, 0.0000e+00, 0.0000e+00, 1.4013e-45, 6.4195e-10,\n",
              "         4.0357e-43, 0.0000e+00, 1.5414e-44, 0.0000e+00, 1.2173e+16, 4.5768e-41,\n",
              "         6.0773e-38, 0.0000e+00, 0.0000e+00, 0.0000e+00, 2.8026e-44, 0.0000e+00,\n",
              "                nan,        nan, 1.3710e+16, 4.5768e-41, 1.4013e-45, 4.3583e-08,\n",
              "         5.0447e-43, 0.0000e+00, 9.8091e-45, 0.0000e+00, 1.2173e+16, 4.5768e-41,\n",
              "         6.0774e-38, 0.0000e+00, 0.0000e+00, 0.0000e+00, 3.6434e-44, 0.0000e+00,\n",
              "                nan,        nan, 1.3710e+16, 4.5768e-41, 1.4013e-45, 0.0000e+00,\n",
              "         1.2173e+16, 4.5768e-41, 0.0000e+00, 0.0000e+00, 0.0000e+00, 0.0000e+00,\n",
              "         0.0000e+00, 0.0000e+00, 0.0000e+00, 0.0000e+00, 0.0000e+00, 0.0000e+00,\n",
              "         0.0000e+00, 0.0000e+00, 0.0000e+00, 0.0000e+00, 0.0000e+00, 0.0000e+00,\n",
              "         0.0000e+00, 0.0000e+00, 1.2173e+16, 4.5768e-41, 0.0000e+00, 0.0000e+00,\n",
              "         0.0000e+00, 0.0000e+00, 0.0000e+00, 0.0000e+00, 0.0000e+00, 0.0000e+00,\n",
              "         0.0000e+00, 0.0000e+00, 0.0000e+00, 0.0000e+00, 0.0000e+00, 0.0000e+00,\n",
              "         0.0000e+00, 0.0000e+00, 0.0000e+00, 0.0000e+00, 0.0000e+00, 0.0000e+00,\n",
              "         0.0000e+00, 0.0000e+00, 0.0000e+00, 0.0000e+00, 0.0000e+00, 0.0000e+00,\n",
              "         0.0000e+00, 0.0000e+00, 0.0000e+00, 0.0000e+00, 1.2173e+16, 4.5768e-41,\n",
              "         0.0000e+00, 0.0000e+00, 6.0536e-43, 0.0000e+00, 2.8026e-45, 0.0000e+00,\n",
              "         1.2173e+16, 4.5768e-41, 6.0773e-38, 0.0000e+00, 0.0000e+00, 0.0000e+00,\n",
              "         3.6434e-44, 0.0000e+00,        nan,        nan, 0.0000e+00, 0.0000e+00,\n",
              "         1.4013e-45, 0.0000e+00, 2.6988e-30, 0.0000e+00],\n",
              "        [1.0201e-42, 0.0000e+00, 1.2612e-44, 0.0000e+00, 1.2173e+16, 4.5768e-41,\n",
              "         6.0774e-38, 0.0000e+00, 1.4013e-45, 0.0000e+00, 3.6434e-44, 0.0000e+00,\n",
              "                nan,        nan, 1.3710e+16, 4.5768e-41, 1.4013e-45, 0.0000e+00,\n",
              "         1.2173e+16, 4.5768e-41, 0.0000e+00, 0.0000e+00, 0.0000e+00, 0.0000e+00,\n",
              "         0.0000e+00, 0.0000e+00, 0.0000e+00, 0.0000e+00, 0.0000e+00, 0.0000e+00,\n",
              "         0.0000e+00, 0.0000e+00, 0.0000e+00, 0.0000e+00, 0.0000e+00, 0.0000e+00,\n",
              "         0.0000e+00, 0.0000e+00, 1.2173e+16, 4.5768e-41, 0.0000e+00, 0.0000e+00,\n",
              "         0.0000e+00, 0.0000e+00, 0.0000e+00, 0.0000e+00, 0.0000e+00, 0.0000e+00,\n",
              "         0.0000e+00, 0.0000e+00, 0.0000e+00, 0.0000e+00, 0.0000e+00, 0.0000e+00,\n",
              "         0.0000e+00, 0.0000e+00, 0.0000e+00, 0.0000e+00, 0.0000e+00, 0.0000e+00,\n",
              "         0.0000e+00, 0.0000e+00, 0.0000e+00, 0.0000e+00, 0.0000e+00, 0.0000e+00,\n",
              "         0.0000e+00, 0.0000e+00, 0.0000e+00, 0.0000e+00, 1.2173e+16, 4.5768e-41,\n",
              "         1.2173e+16, 4.5768e-41, 1.1210e-42, 0.0000e+00, 2.8026e-45, 0.0000e+00,\n",
              "         1.2173e+16, 4.5768e-41, 6.0773e-38, 0.0000e+00, 0.0000e+00, 0.0000e+00,\n",
              "         3.6434e-44, 0.0000e+00,        nan,        nan, 1.2173e+16, 4.5768e-41,\n",
              "         1.4013e-45, 0.0000e+00, 1.5358e-42, 0.0000e+00, 1.2612e-44, 0.0000e+00,\n",
              "         1.2173e+16, 4.5768e-41, 6.0774e-38, 0.0000e+00, 2.8026e-45, 0.0000e+00,\n",
              "         3.6434e-44, 0.0000e+00,        nan,        nan, 1.3710e+16, 4.5768e-41,\n",
              "         1.4013e-45, 4.5768e-41, 1.6367e-42, 0.0000e+00, 4.2039e-45, 0.0000e+00,\n",
              "         1.2173e+16, 4.5768e-41, 6.0789e-38, 0.0000e+00, 0.0000e+00, 0.0000e+00,\n",
              "         0.0000e+00, 0.0000e+00, 0.0000e+00, 0.0000e+00, 0.0000e+00, 0.0000e+00,\n",
              "         1.4013e-45, 0.0000e+00, 0.0000e+00, 0.0000e+00, 1.2173e+16, 4.5768e-41,\n",
              "         0.0000e+00, 0.0000e+00, 0.0000e+00, 0.0000e+00, 0.0000e+00, 0.0000e+00,\n",
              "         0.0000e+00, 0.0000e+00, 0.0000e+00, 0.0000e+00, 0.0000e+00, 0.0000e+00,\n",
              "         0.0000e+00, 0.0000e+00, 0.0000e+00, 0.0000e+00, 0.0000e+00, 0.0000e+00,\n",
              "         0.0000e+00, 0.0000e+00, 0.0000e+00, 0.0000e+00, 0.0000e+00, 0.0000e+00,\n",
              "         0.0000e+00, 0.0000e+00, 0.0000e+00, 0.0000e+00, 0.0000e+00, 0.0000e+00,\n",
              "         1.2173e+16, 4.5768e-41, 1.2173e+16, 4.5768e-41, 1.6367e-42, 0.0000e+00,\n",
              "         2.8026e-45, 0.0000e+00, 1.2173e+16, 4.5768e-41, 6.0773e-38, 0.0000e+00,\n",
              "                nan,        nan, 3.6434e-44, 0.0000e+00,        nan,        nan,\n",
              "         1.2595e-01, 7.2261e-02, 1.4013e-45, 1.4254e-01, 2.0515e-42, 0.0000e+00,\n",
              "         1.2612e-44, 0.0000e+00, 1.2173e+16, 4.5768e-41, 6.0774e-38, 0.0000e+00,\n",
              "         1.2673e-01, 7.8715e-02, 1.1677e-01, 1.5888e-01, 1.0506e-01, 1.1344e-01,\n",
              "         9.8813e-02, 1.3675e-01, 2.5631e-01, 0.0000e+00],\n",
              "        [1.4013e-45, 1.7908e-01, 2.6959e-02, 5.6456e-02, 3.0666e-01, 7.7455e-03,\n",
              "         1.1748e-01, 2.6292e-02, 1.1890e-01, 1.2987e-01, 6.6302e-02, 2.5728e-01,\n",
              "         2.2513e-01, 7.5724e-02, 8.2588e-02, 2.5219e-01, 1.5672e-01, 1.7271e-01,\n",
              "         3.4591e-02, 1.3065e-01, 1.0941e-01, 6.3606e-02, 1.2354e-01, 1.0770e-01,\n",
              "         3.0114e-02, 2.7091e-01, 9.7658e-02, 2.3343e-01, 8.1001e-02, 6.0251e-02,\n",
              "         1.2400e-01, 1.4714e-01, 2.0678e-01, 1.4760e-01, 2.0321e-01, 5.0956e-02,\n",
              "         2.2070e-01, 2.4451e-01, 7.0455e-02, 1.8084e-01, 1.3842e-01, 9.6696e-02,\n",
              "         1.3040e-01, 2.8223e-03, 7.9587e-02, 2.9396e-01, 9.4153e-02, 7.5541e-02,\n",
              "         2.5230e-01, 1.2178e-01, 1.7532e-01, 8.0389e-03, 9.8420e-02, 2.2510e-01,\n",
              "         1.7083e-01, 5.0993e-02, 1.1483e-01, 3.7806e-02, 6.5500e-02, 9.9270e-02,\n",
              "         1.2666e-01, 3.4881e-02, 3.5544e-02, 9.9297e-02, 2.8726e-02, 1.0726e-01,\n",
              "         1.7671e-01, 1.0740e-01, 1.3402e-01, 2.9855e-01, 1.8626e-01, 2.0706e-01,\n",
              "         2.0992e-01, 9.0798e-02, 2.6340e-02, 2.9069e-01, 2.5401e-02, 9.5201e-02,\n",
              "         5.3038e-02, 1.9895e-01, 2.4306e-01, 1.8549e-01, 8.9273e-02, 1.8516e-01,\n",
              "         2.4616e-01, 1.9584e-01, 2.2741e-01, 1.6474e-01, 2.1172e-01, 1.1031e-01,\n",
              "         2.7912e-02, 8.3732e-02, 5.7204e-02, 1.2668e-01, 2.6630e-01, 3.0254e-02,\n",
              "         1.5348e-01, 2.1158e-01, 1.2062e-01, 1.3710e-01, 1.6148e-01, 1.4080e-01,\n",
              "         5.2754e-02, 7.5261e-02, 1.2288e-01, 2.9563e-01, 1.5763e-01, 2.7559e-01,\n",
              "         1.7825e-01, 1.7562e-01, 2.1952e-01, 1.9567e-01, 5.1921e-02, 9.1143e-02,\n",
              "         1.2094e-01, 1.5403e-01, 2.2852e-01, 1.2095e-01, 3.0492e-01, 1.2105e-01,\n",
              "         6.9653e-02, 2.0595e-01, 2.2773e-01, 7.2137e-02, 5.7676e-02, 1.4677e-01,\n",
              "         5.2073e-02, 2.2288e-01, 2.4587e-01, 2.5241e-01, 1.6736e-01, 2.8814e-02,\n",
              "         6.7625e-02, 6.6249e-02, 2.0632e-01, 1.5943e-01, 7.7033e-02, 2.4814e-01,\n",
              "         2.7811e-01, 1.3492e-01, 4.5995e-02, 1.3670e-01, 1.0080e-01, 2.0196e-01,\n",
              "         1.0449e-01, 2.6813e-01, 1.0034e-01, 2.2767e-01, 1.3217e-01, 2.5709e-01,\n",
              "         4.1116e-02, 3.6302e-01, 1.5242e-01, 5.8738e-02, 9.4301e-02, 4.1921e-02,\n",
              "         2.9509e-02, 1.2287e-01, 2.4244e-02, 2.7471e-02, 1.1614e-01, 1.2602e-01,\n",
              "         1.3005e-01, 1.1976e-01, 5.1803e-02, 5.6189e-02, 5.8304e-02, 1.6393e-01,\n",
              "         7.1392e-02, 1.1349e-01, 1.3734e-01, 1.0199e-01, 1.9794e-01, 9.7454e-02,\n",
              "         2.7291e-01, 2.6493e-01, 1.1136e-01, 8.0742e-02, 8.7384e-02, 2.3366e-01,\n",
              "         8.5132e-02, 3.4208e-03, 1.3662e-01, 1.4897e-01, 1.3734e-01, 1.0199e-01,\n",
              "         1.9794e-01, 9.7454e-02, 2.7291e-01, 2.6493e-01, 1.1136e-01, 8.0742e-02,\n",
              "         0.0000e+00, 8.7384e-02, 2.3366e-01, 8.5132e-02, 0.0000e+00, 3.4208e-03,\n",
              "         1.3662e-01, 1.4897e-01,        nan, 0.0000e+00]])"
            ]
          },
          "execution_count": 151,
          "metadata": {},
          "output_type": "execute_result"
        }
      ],
      "source": [
        "torch.cat((lstm_out, meta_input), 1)"
      ]
    },
    {
      "cell_type": "code",
      "execution_count": 145,
      "metadata": {
        "colab": {
          "base_uri": "https://localhost:8080/"
        },
        "id": "H4uPq09ixHD1",
        "outputId": "8d0f7cce-1bbc-4735-ff79-91d3a96503cc"
      },
      "outputs": [
        {
          "data": {
            "text/plain": [
              "tensor([[ 6.9479e-21,  0.0000e+00,  0.0000e+00,  0.0000e+00,  1.2121e+16,\n",
              "          4.5768e-41,  6.0750e-38,  0.0000e+00,  1.4013e-45,  0.0000e+00,\n",
              "                 nan,         nan,         nan,         nan,  0.0000e+00,\n",
              "          0.0000e+00,  1.4013e-45,  1.5046e-36,  0.0000e+00,  0.0000e+00,\n",
              "          1.2612e-44,  0.0000e+00,  1.2121e+16,  4.5768e-41,  6.0759e-38,\n",
              "          0.0000e+00,         nan,         nan,  0.0000e+00,  0.0000e+00,\n",
              "                 nan,         nan,  0.0000e+00,  0.0000e+00,  1.4013e-45,\n",
              "          4.5768e-41,  1.0089e-43,  0.0000e+00,  1.5414e-44,  0.0000e+00,\n",
              "          1.2121e+16,  4.5768e-41,  6.0770e-38,  0.0000e+00,  7.0065e-45,\n",
              "          0.0000e+00,  1.4013e-44,  0.0000e+00,         nan,         nan,\n",
              "          0.0000e+00,  0.0000e+00,  1.4013e-45,  4.5768e-41,  2.0179e-43,\n",
              "          0.0000e+00,  1.5414e-44,  0.0000e+00,  1.2121e+16,  4.5768e-41,\n",
              "          6.0773e-38,  0.0000e+00, -9.8528e+26,  3.6318e+28,  3.6434e-44,\n",
              "          0.0000e+00,         nan,         nan,  0.0000e+00,  0.0000e+00,\n",
              "          1.4013e-45,  4.5768e-41,  3.0268e-43,  0.0000e+00,  1.5414e-44,\n",
              "          0.0000e+00,  1.2121e+16,  4.5768e-41,  6.0773e-38,  0.0000e+00,\n",
              "                 nan,         nan,  3.6434e-44,  0.0000e+00,         nan,\n",
              "                 nan,  0.0000e+00,  0.0000e+00,  1.4013e-45,  4.5768e-41,\n",
              "          4.0357e-43,  0.0000e+00,  1.5414e-44,  0.0000e+00,  1.2121e+16,\n",
              "          4.5768e-41,  6.0773e-38,  0.0000e+00,  0.0000e+00,  0.0000e+00,\n",
              "          2.8026e-44,  0.0000e+00,         nan,         nan,  1.4633e+16,\n",
              "          4.5768e-41,  1.4013e-45,  4.5768e-41,  5.0447e-43,  0.0000e+00,\n",
              "          9.8091e-45,  0.0000e+00,  1.2121e+16,  4.5768e-41,  6.0774e-38,\n",
              "          0.0000e+00,  0.0000e+00,  0.0000e+00,  3.6434e-44,  0.0000e+00,\n",
              "                 nan,         nan,  1.4633e+16,  4.5768e-41,  1.4013e-45,\n",
              "          0.0000e+00,  1.2121e+16,  4.5768e-41,  0.0000e+00,  0.0000e+00,\n",
              "          0.0000e+00,  0.0000e+00,  0.0000e+00,  0.0000e+00,  0.0000e+00,\n",
              "          0.0000e+00,  0.0000e+00,  0.0000e+00,  0.0000e+00,  0.0000e+00,\n",
              "          0.0000e+00,  0.0000e+00,  0.0000e+00,  0.0000e+00,  0.0000e+00,\n",
              "          0.0000e+00,  1.2121e+16,  4.5768e-41,  0.0000e+00,  0.0000e+00,\n",
              "          0.0000e+00,  0.0000e+00,  0.0000e+00,  0.0000e+00,  0.0000e+00,\n",
              "          0.0000e+00,  0.0000e+00,  0.0000e+00,  0.0000e+00,  0.0000e+00,\n",
              "          0.0000e+00,  0.0000e+00,  0.0000e+00,  0.0000e+00,  0.0000e+00,\n",
              "          0.0000e+00,  0.0000e+00,  0.0000e+00,  0.0000e+00,  0.0000e+00,\n",
              "          0.0000e+00,  0.0000e+00,  0.0000e+00,  0.0000e+00,  0.0000e+00,\n",
              "          0.0000e+00,  0.0000e+00,  0.0000e+00,  1.2121e+16,  4.5768e-41,\n",
              "          0.0000e+00,  0.0000e+00,  6.0536e-43,  0.0000e+00,  2.8026e-45,\n",
              "          0.0000e+00,  1.2121e+16,  4.5768e-41,  6.0773e-38,  0.0000e+00,\n",
              "          0.0000e+00,  0.0000e+00,  3.6434e-44,  0.0000e+00,         nan,\n",
              "                 nan,  0.0000e+00,  0.0000e+00,  1.4013e-45,  0.0000e+00],\n",
              "        [ 1.0201e-42,  0.0000e+00,  1.2612e-44,  0.0000e+00,  1.2121e+16,\n",
              "          4.5768e-41,  6.0774e-38,  0.0000e+00,  1.4013e-45,  0.0000e+00,\n",
              "          3.6434e-44,  0.0000e+00,         nan,         nan,  1.4633e+16,\n",
              "          4.5768e-41,  1.4013e-45,  0.0000e+00,  1.2121e+16,  4.5768e-41,\n",
              "          0.0000e+00,  0.0000e+00,  0.0000e+00,  0.0000e+00,  0.0000e+00,\n",
              "          0.0000e+00,  0.0000e+00,  0.0000e+00,  0.0000e+00,  0.0000e+00,\n",
              "          0.0000e+00,  0.0000e+00,  0.0000e+00,  0.0000e+00,  0.0000e+00,\n",
              "          0.0000e+00,  0.0000e+00,  0.0000e+00,  1.2121e+16,  4.5768e-41,\n",
              "          0.0000e+00,  0.0000e+00,  0.0000e+00,  0.0000e+00,  0.0000e+00,\n",
              "          0.0000e+00,  0.0000e+00,  0.0000e+00,  0.0000e+00,  0.0000e+00,\n",
              "          0.0000e+00,  0.0000e+00,  0.0000e+00,  0.0000e+00,  0.0000e+00,\n",
              "          0.0000e+00,  0.0000e+00,  0.0000e+00,  0.0000e+00,  0.0000e+00,\n",
              "          0.0000e+00,  0.0000e+00,  0.0000e+00,  0.0000e+00,  0.0000e+00,\n",
              "          0.0000e+00,  0.0000e+00,  0.0000e+00,  0.0000e+00,  0.0000e+00,\n",
              "          1.2121e+16,  4.5768e-41,  1.2121e+16,  4.5768e-41,  1.1210e-42,\n",
              "          0.0000e+00,  2.8026e-45,  0.0000e+00,  1.2121e+16,  4.5768e-41,\n",
              "          6.0773e-38,  0.0000e+00,  0.0000e+00,  0.0000e+00,  3.6434e-44,\n",
              "          0.0000e+00,         nan,         nan,  1.2121e+16,  4.5768e-41,\n",
              "          1.4013e-45,  0.0000e+00,  1.5358e-42,  0.0000e+00,  1.2612e-44,\n",
              "          0.0000e+00,  1.2121e+16,  4.5768e-41,  6.0774e-38,  0.0000e+00,\n",
              "          2.8026e-45,  0.0000e+00,  3.6434e-44,  0.0000e+00,         nan,\n",
              "                 nan,  1.4633e+16,  4.5768e-41,  1.4013e-45,  4.5768e-41,\n",
              "          1.6367e-42,  0.0000e+00,  4.2039e-45,  0.0000e+00,  1.2121e+16,\n",
              "          4.5768e-41,  6.0789e-38,  0.0000e+00,  0.0000e+00,  0.0000e+00,\n",
              "          0.0000e+00,  0.0000e+00,  0.0000e+00,  0.0000e+00,  0.0000e+00,\n",
              "          0.0000e+00,  1.4013e-45,  0.0000e+00,  0.0000e+00,  0.0000e+00,\n",
              "          1.2121e+16,  4.5768e-41,  0.0000e+00,  0.0000e+00,  0.0000e+00,\n",
              "          0.0000e+00,  0.0000e+00,  0.0000e+00,  0.0000e+00,  0.0000e+00,\n",
              "          0.0000e+00,  0.0000e+00,  0.0000e+00,  0.0000e+00,  0.0000e+00,\n",
              "          0.0000e+00,  0.0000e+00,  0.0000e+00,  0.0000e+00,  0.0000e+00,\n",
              "          0.0000e+00,  0.0000e+00,  0.0000e+00,  0.0000e+00,  0.0000e+00,\n",
              "          0.0000e+00,  0.0000e+00,  0.0000e+00,  0.0000e+00,  0.0000e+00,\n",
              "          0.0000e+00,  0.0000e+00,  1.2121e+16,  4.5768e-41,  1.2121e+16,\n",
              "          4.5768e-41,  1.6367e-42,  0.0000e+00,  2.8026e-45,  0.0000e+00,\n",
              "          1.2121e+16,  4.5768e-41,  6.0773e-38,  0.0000e+00,         nan,\n",
              "                 nan,  3.6434e-44,  0.0000e+00,         nan,         nan,\n",
              "          1.2595e-01,  7.2261e-02,  1.4013e-45,  1.4254e-01,  2.0515e-42,\n",
              "          0.0000e+00,  1.2612e-44,  0.0000e+00,  1.2121e+16,  4.5768e-41,\n",
              "          6.0774e-38,  0.0000e+00,  1.2673e-01,  7.8715e-02,  1.1677e-01,\n",
              "          1.5888e-01,  1.0506e-01,  1.1344e-01,  9.8813e-02,  1.3675e-01],\n",
              "        [ 1.4013e-45,  1.7908e-01,  2.6959e-02,  5.6456e-02,  3.0666e-01,\n",
              "          7.7455e-03,  1.1748e-01,  2.6292e-02,  1.1890e-01,  1.2987e-01,\n",
              "          6.6302e-02,  2.5728e-01,  2.2513e-01,  7.5724e-02,  8.2588e-02,\n",
              "          2.5219e-01,  1.5672e-01,  1.7271e-01,  3.4591e-02,  1.3065e-01,\n",
              "          1.0941e-01,  6.3606e-02,  1.2354e-01,  1.0770e-01,  3.0114e-02,\n",
              "          2.7091e-01,  9.7658e-02,  2.3343e-01,  8.1001e-02,  6.0251e-02,\n",
              "          1.2400e-01,  1.4714e-01,  2.0678e-01,  1.4760e-01,  2.0321e-01,\n",
              "          5.0956e-02,  2.2070e-01,  2.4451e-01,  7.0455e-02,  1.8084e-01,\n",
              "          1.3842e-01,  9.6696e-02,  1.3040e-01,  2.8223e-03,  7.9587e-02,\n",
              "          2.9396e-01,  9.4153e-02,  7.5541e-02,  2.5230e-01,  1.2178e-01,\n",
              "          1.7532e-01,  8.0389e-03,  9.8420e-02,  2.2510e-01,  1.7083e-01,\n",
              "          5.0993e-02,  1.1483e-01,  3.7806e-02,  6.5500e-02,  9.9270e-02,\n",
              "          1.2666e-01,  3.4881e-02,  3.5544e-02,  9.9297e-02,  2.8726e-02,\n",
              "          1.0726e-01,  1.7671e-01,  1.0740e-01,  1.3402e-01,  2.9855e-01,\n",
              "          1.8626e-01,  2.0706e-01,  2.0992e-01,  9.0798e-02,  2.6340e-02,\n",
              "          2.9069e-01,  2.5401e-02,  9.5201e-02,  5.3038e-02,  1.9895e-01,\n",
              "          2.4306e-01,  1.8549e-01,  8.9273e-02,  1.8516e-01,  2.4616e-01,\n",
              "          1.9584e-01,  2.2741e-01,  1.6474e-01,  2.1172e-01,  1.1031e-01,\n",
              "          2.7912e-02,  8.3732e-02,  5.7204e-02,  1.2668e-01,  2.6630e-01,\n",
              "          3.0254e-02,  1.5348e-01,  2.1158e-01,  1.2062e-01,  1.3710e-01,\n",
              "          1.6148e-01,  1.4080e-01,  5.2754e-02,  7.5261e-02,  1.2288e-01,\n",
              "          2.9563e-01,  1.5763e-01,  2.7559e-01,  1.7825e-01,  1.7562e-01,\n",
              "          2.1952e-01,  1.9567e-01,  5.1921e-02,  9.1143e-02,  1.2094e-01,\n",
              "          1.5403e-01,  2.2852e-01,  1.2095e-01,  3.0492e-01,  1.2105e-01,\n",
              "          6.9653e-02,  2.0595e-01,  2.2773e-01,  7.2137e-02,  5.7676e-02,\n",
              "          1.4677e-01,  5.2073e-02,  2.2288e-01,  2.4587e-01,  2.5241e-01,\n",
              "          1.6736e-01,  2.8814e-02,  6.7625e-02,  6.6249e-02,  2.0632e-01,\n",
              "          1.5943e-01,  7.7033e-02,  2.4814e-01,  2.7811e-01,  1.3492e-01,\n",
              "          4.5995e-02,  1.3670e-01,  1.0080e-01,  2.0196e-01,  1.0449e-01,\n",
              "          2.6813e-01,  1.0034e-01,  2.2767e-01,  1.3217e-01,  2.5709e-01,\n",
              "          4.1116e-02,  3.6302e-01,  1.5242e-01,  5.8738e-02,  9.4301e-02,\n",
              "          4.1921e-02,  2.9509e-02,  1.2287e-01,  2.4244e-02,  2.7471e-02,\n",
              "          1.1614e-01,  1.2602e-01,  1.3005e-01,  1.1976e-01,  5.1803e-02,\n",
              "          5.6189e-02,  5.8304e-02,  1.6393e-01,  7.1392e-02,  1.1349e-01,\n",
              "          1.3734e-01,  1.0199e-01,  1.9794e-01,  9.7454e-02,  2.7291e-01,\n",
              "          2.6493e-01,  1.1136e-01,  8.0742e-02,  8.7384e-02,  2.3366e-01,\n",
              "          8.5132e-02,  3.4208e-03,  1.3662e-01,  1.4897e-01,  1.3734e-01,\n",
              "          1.0199e-01,  1.9794e-01,  9.7454e-02,  2.7291e-01,  2.6493e-01,\n",
              "          1.1136e-01,  8.0742e-02,  0.0000e+00,  8.7384e-02,  2.3366e-01,\n",
              "          8.5132e-02,  0.0000e+00,  3.4208e-03,  1.3662e-01,  1.4897e-01]])"
            ]
          },
          "execution_count": 145,
          "metadata": {},
          "output_type": "execute_result"
        }
      ],
      "source": [
        "lstm_out"
      ]
    },
    {
      "cell_type": "code",
      "execution_count": 29,
      "metadata": {
        "colab": {
          "base_uri": "https://localhost:8080/",
          "height": 283
        },
        "id": "lU4kxptY-Z3t",
        "outputId": "151c2b83-8a03-4634-d14b-027c344418a5"
      },
      "outputs": [
        {
          "data": {
            "text/plain": [
              "[<matplotlib.lines.Line2D at 0x7f955aedc550>]"
            ]
          },
          "execution_count": 29,
          "metadata": {},
          "output_type": "execute_result"
        },
        {
          "data": {
            "image/png": "[encoded data removed]",
            "text/plain": [
              "<Figure size 432x288 with 1 Axes>"
            ]
          },
          "metadata": {
            "needs_background": "light"
          },
          "output_type": "display_data"
        }
      ],
      "source": [
        "import matplotlib.pyplot as plt\n",
        "\n",
        "plt.plot(losses)"
      ]
    },
    {
      "cell_type": "code",
      "execution_count": 30,
      "metadata": {
        "colab": {
          "base_uri": "https://localhost:8080/",
          "height": 190,
          "referenced_widgets": [
            "bc49150a142947b38a601de35a2c5de7",
            "67ccf6ea51744162a574e486ea529643",
            "11cfb18d3b124f2facb031c24ce027d6",
            "353205bb28a1407c9a74cd31013ca0e9",
            "6338df2ff94c43f797c20e2a5845bad1",
            "82a771491bac427baa781f9a864f65b8",
            "9d0446f0a07f4a25b010d46146c7eeab",
            "e4ac8bd0297b4ed2808d35af8cd09895",
            "4714da84f69e4b2f855c653635742a63",
            "622d47e13d354e438578a59ac255ecd8",
            "089be7502fe145fd9f6e9eb9f69bb0da",
            "af5a26dc6ab5499b98d51f750c6f5809",
            "c71189804e914eeebea6a7398e880caf",
            "b20354dd3cd648f38acc2606d4a7508d",
            "58e699be167f4b2095c95e21e8e17743",
            "27f06733cf4f4b26abf024c1ea70c930",
            "ef33c2bd1f1643048b0d54729953aaed",
            "6f202491b18d4de6b0b4712913d85330",
            "7b2671ea4c31494981824299a9a56765",
            "a784a42db65c44319a93f868b38a9ea0",
            "8bbf2ba1b6654990acf0541598156f58",
            "724b3cefaffc4564a40c5d12298bcebf"
          ]
        },
        "id": "6QMiBvC3x0lq",
        "outputId": "49012d9a-9b1c-482a-8d1e-117480d783f1"
      },
      "outputs": [
        {
          "name": "stderr",
          "output_type": "stream",
          "text": [
            "/usr/local/lib/python3.7/dist-packages/ipykernel_launcher.py:16: TqdmDeprecationWarning: This function will be removed in tqdm==5.0.0\n",
            "Please use `tqdm.notebook.tqdm` instead of `tqdm.tqdm_notebook`\n",
            "  app.launch_new_instance()\n"
          ]
        },
        {
          "data": {
            "application/vnd.jupyter.widget-view+json": {
              "model_id": "bc49150a142947b38a601de35a2c5de7",
              "version_major": 2,
              "version_minor": 0
            },
            "text/plain": [
              "Evaluation:   0%|          | 0/1 [00:00<?, ?it/s]"
            ]
          },
          "metadata": {},
          "output_type": "display_data"
        },
        {
          "data": {
            "application/vnd.jupyter.widget-view+json": {
              "model_id": "af5a26dc6ab5499b98d51f750c6f5809",
              "version_major": 2,
              "version_minor": 0
            },
            "text/plain": [
              "Evaluation:   0%|          | 0/1 [00:00<?, ?it/s]"
            ]
          },
          "metadata": {},
          "output_type": "display_data"
        },
        {
          "name": "stdout",
          "output_type": "stream",
          "text": [
            "Valiation accuracy: 0.48\n",
            "Test accuracy: 0.5\n"
          ]
        }
      ],
      "source": [
        "val_acc,_,_ = evaluate(model, valid_dl)\n",
        "test_acc,labs,logs = evaluate(model, test_dl)\n",
        "print(f\"Valiation accuracy: {val_acc}\")\n",
        "print(f\"Test accuracy: {test_acc}\")"
      ]
    },
    {
      "cell_type": "code",
      "execution_count": null,
      "metadata": {
        "id": "IniCaZy8itkf"
      },
      "outputs": [],
      "source": []
    },
    {
      "cell_type": "code",
      "execution_count": null,
      "metadata": {
        "id": "mlVqleRLitm1"
      },
      "outputs": [],
      "source": []
    },
    {
      "cell_type": "code",
      "execution_count": null,
      "metadata": {
        "id": "K7CL5OLpitor"
      },
      "outputs": [],
      "source": []
    },
    {
      "cell_type": "code",
      "execution_count": null,
      "metadata": {
        "colab": {
          "base_uri": "https://localhost:8080/"
        },
        "id": "M2V28ta00KLh",
        "outputId": "7fa060c3-cbae-473d-fb58-9610415cd54f"
      },
      "outputs": [
        {
          "data": {
            "text/plain": [
              "3"
            ]
          },
          "execution_count": 71,
          "metadata": {},
          "output_type": "execute_result"
        }
      ],
      "source": [
        "len(test_dataset)"
      ]
    },
    {
      "cell_type": "code",
      "execution_count": null,
      "metadata": {
        "id": "HEVdZ2qVSmPk"
      },
      "outputs": [],
      "source": [
        "dfv_eng = pd.read_csv('data/dfv_eng.csv')"
      ]
    },
    {
      "cell_type": "code",
      "execution_count": null,
      "metadata": {
        "id": "noGK_thAS1Iu"
      },
      "outputs": [],
      "source": [
        "dfv_eng = shuffle(dfv_eng)\n",
        "dfv_eng.reset_index(inplace=True, drop=True)"
      ]
    },
    {
      "cell_type": "code",
      "execution_count": null,
      "metadata": {
        "id": "___Tz5uZS2Ed"
      },
      "outputs": [],
      "source": [
        "test_dataset = create_batch(dfv_eng)\n",
        "test_dl = DataLoader(test_dataset, batch_size=len(test_dataset), collate_fn=collate_batch_bilstm_test, num_workers=8)"
      ]
    },
    {
      "cell_type": "code",
      "execution_count": null,
      "metadata": {
        "colab": {
          "base_uri": "https://localhost:8080/"
        },
        "id": "WJq-b0qSTn_n",
        "outputId": "07fc7420-2911-4aae-87f5-59fb472fa917"
      },
      "outputs": [
        {
          "data": {
            "text/plain": [
              "990"
            ]
          },
          "execution_count": 95,
          "metadata": {},
          "output_type": "execute_result"
        }
      ],
      "source": [
        "len(test_dataset[0])"
      ]
    },
    {
      "cell_type": "code",
      "execution_count": null,
      "metadata": {
        "colab": {
          "base_uri": "https://localhost:8080/"
        },
        "id": "ywIjjRsUUIOy",
        "outputId": "59c19ec4-03b4-499f-d9ea-298e0225e8be"
      },
      "outputs": [
        {
          "data": {
            "text/plain": [
              "7389"
            ]
          },
          "execution_count": 90,
          "metadata": {},
          "output_type": "execute_result"
        }
      ],
      "source": [
        "len(dfv_eng)"
      ]
    },
    {
      "cell_type": "code",
      "execution_count": null,
      "metadata": {
        "id": "k79l830nUSsK"
      },
      "outputs": [],
      "source": []
    }
  ],
  "metadata": {
    "colab": {
      "collapsed_sections": [],
      "provenance": []
    },
    "kernelspec": {
      "display_name": "Python 3.10.6 ('venv': venv)",
      "language": "python",
      "name": "python3"
    },
    "language_info": {
      "name": "python",
      "version": "3.10.6"
    },
    "vscode": {
      "interpreter": {
        "hash": "962a7dd07f2ed9e1b57b96ee9c6defc8592f1a66c3054bde378394e0c30efb85"
      }
    },
    "widgets": {
      "application/vnd.jupyter.widget-state+json": {
        "089be7502fe145fd9f6e9eb9f69bb0da": {
          "model_module": "@jupyter-widgets/controls",
          "model_module_version": "1.5.0",
          "model_name": "DescriptionStyleModel",
          "state": {
            "_model_module": "@jupyter-widgets/controls",
            "_model_module_version": "1.5.0",
            "_model_name": "DescriptionStyleModel",
            "_view_count": null,
            "_view_module": "@jupyter-widgets/base",
            "_view_module_version": "1.2.0",
            "_view_name": "StyleView",
            "description_width": ""
          }
        },
        "11cfb18d3b124f2facb031c24ce027d6": {
          "model_module": "@jupyter-widgets/controls",
          "model_module_version": "1.5.0",
          "model_name": "FloatProgressModel",
          "state": {
            "_dom_classes": [],
            "_model_module": "@jupyter-widgets/controls",
            "_model_module_version": "1.5.0",
            "_model_name": "FloatProgressModel",
            "_view_count": null,
            "_view_module": "@jupyter-widgets/controls",
            "_view_module_version": "1.5.0",
            "_view_name": "ProgressView",
            "bar_style": "success",
            "description": "",
            "description_tooltip": null,
            "layout": "IPY_MODEL_e4ac8bd0297b4ed2808d35af8cd09895",
            "max": 1,
            "min": 0,
            "orientation": "horizontal",
            "style": "IPY_MODEL_4714da84f69e4b2f855c653635742a63",
            "value": 1
          }
        },
        "126fb310f42447738972a4de64e67068": {
          "model_module": "@jupyter-widgets/controls",
          "model_module_version": "1.5.0",
          "model_name": "DescriptionStyleModel",
          "state": {
            "_model_module": "@jupyter-widgets/controls",
            "_model_module_version": "1.5.0",
            "_model_name": "DescriptionStyleModel",
            "_view_count": null,
            "_view_module": "@jupyter-widgets/base",
            "_view_module_version": "1.2.0",
            "_view_name": "StyleView",
            "description_width": ""
          }
        },
        "1ffc778e15584ef3a7caa6fc1ae709e1": {
          "model_module": "@jupyter-widgets/base",
          "model_module_version": "1.2.0",
          "model_name": "LayoutModel",
          "state": {
            "_model_module": "@jupyter-widgets/base",
            "_model_module_version": "1.2.0",
            "_model_name": "LayoutModel",
            "_view_count": null,
            "_view_module": "@jupyter-widgets/base",
            "_view_module_version": "1.2.0",
            "_view_name": "LayoutView",
            "align_content": null,
            "align_items": null,
            "align_self": null,
            "border": null,
            "bottom": null,
            "display": null,
            "flex": null,
            "flex_flow": null,
            "grid_area": null,
            "grid_auto_columns": null,
            "grid_auto_flow": null,
            "grid_auto_rows": null,
            "grid_column": null,
            "grid_gap": null,
            "grid_row": null,
            "grid_template_areas": null,
            "grid_template_columns": null,
            "grid_template_rows": null,
            "height": null,
            "justify_content": null,
            "justify_items": null,
            "left": null,
            "margin": null,
            "max_height": null,
            "max_width": null,
            "min_height": null,
            "min_width": null,
            "object_fit": null,
            "object_position": null,
            "order": null,
            "overflow": null,
            "overflow_x": null,
            "overflow_y": null,
            "padding": null,
            "right": null,
            "top": null,
            "visibility": null,
            "width": null
          }
        },
        "27f06733cf4f4b26abf024c1ea70c930": {
          "model_module": "@jupyter-widgets/base",
          "model_module_version": "1.2.0",
          "model_name": "LayoutModel",
          "state": {
            "_model_module": "@jupyter-widgets/base",
            "_model_module_version": "1.2.0",
            "_model_name": "LayoutModel",
            "_view_count": null,
            "_view_module": "@jupyter-widgets/base",
            "_view_module_version": "1.2.0",
            "_view_name": "LayoutView",
            "align_content": null,
            "align_items": null,
            "align_self": null,
            "border": null,
            "bottom": null,
            "display": null,
            "flex": null,
            "flex_flow": null,
            "grid_area": null,
            "grid_auto_columns": null,
            "grid_auto_flow": null,
            "grid_auto_rows": null,
            "grid_column": null,
            "grid_gap": null,
            "grid_row": null,
            "grid_template_areas": null,
            "grid_template_columns": null,
            "grid_template_rows": null,
            "height": null,
            "justify_content": null,
            "justify_items": null,
            "left": null,
            "margin": null,
            "max_height": null,
            "max_width": null,
            "min_height": null,
            "min_width": null,
            "object_fit": null,
            "object_position": null,
            "order": null,
            "overflow": null,
            "overflow_x": null,
            "overflow_y": null,
            "padding": null,
            "right": null,
            "top": null,
            "visibility": null,
            "width": null
          }
        },
        "353205bb28a1407c9a74cd31013ca0e9": {
          "model_module": "@jupyter-widgets/controls",
          "model_module_version": "1.5.0",
          "model_name": "HTMLModel",
          "state": {
            "_dom_classes": [],
            "_model_module": "@jupyter-widgets/controls",
            "_model_module_version": "1.5.0",
            "_model_name": "HTMLModel",
            "_view_count": null,
            "_view_module": "@jupyter-widgets/controls",
            "_view_module_version": "1.5.0",
            "_view_name": "HTMLView",
            "description": "",
            "description_tooltip": null,
            "layout": "IPY_MODEL_622d47e13d354e438578a59ac255ecd8",
            "placeholder": "​",
            "style": "IPY_MODEL_089be7502fe145fd9f6e9eb9f69bb0da",
            "value": " 1/1 [00:00&lt;00:00,  1.81it/s]"
          }
        },
        "4714da84f69e4b2f855c653635742a63": {
          "model_module": "@jupyter-widgets/controls",
          "model_module_version": "1.5.0",
          "model_name": "ProgressStyleModel",
          "state": {
            "_model_module": "@jupyter-widgets/controls",
            "_model_module_version": "1.5.0",
            "_model_name": "ProgressStyleModel",
            "_view_count": null,
            "_view_module": "@jupyter-widgets/base",
            "_view_module_version": "1.2.0",
            "_view_name": "StyleView",
            "bar_color": null,
            "description_width": ""
          }
        },
        "58e699be167f4b2095c95e21e8e17743": {
          "model_module": "@jupyter-widgets/controls",
          "model_module_version": "1.5.0",
          "model_name": "HTMLModel",
          "state": {
            "_dom_classes": [],
            "_model_module": "@jupyter-widgets/controls",
            "_model_module_version": "1.5.0",
            "_model_name": "HTMLModel",
            "_view_count": null,
            "_view_module": "@jupyter-widgets/controls",
            "_view_module_version": "1.5.0",
            "_view_name": "HTMLView",
            "description": "",
            "description_tooltip": null,
            "layout": "IPY_MODEL_8bbf2ba1b6654990acf0541598156f58",
            "placeholder": "​",
            "style": "IPY_MODEL_724b3cefaffc4564a40c5d12298bcebf",
            "value": " 1/1 [00:00&lt;00:00,  2.66it/s]"
          }
        },
        "622d47e13d354e438578a59ac255ecd8": {
          "model_module": "@jupyter-widgets/base",
          "model_module_version": "1.2.0",
          "model_name": "LayoutModel",
          "state": {
            "_model_module": "@jupyter-widgets/base",
            "_model_module_version": "1.2.0",
            "_model_name": "LayoutModel",
            "_view_count": null,
            "_view_module": "@jupyter-widgets/base",
            "_view_module_version": "1.2.0",
            "_view_name": "LayoutView",
            "align_content": null,
            "align_items": null,
            "align_self": null,
            "border": null,
            "bottom": null,
            "display": null,
            "flex": null,
            "flex_flow": null,
            "grid_area": null,
            "grid_auto_columns": null,
            "grid_auto_flow": null,
            "grid_auto_rows": null,
            "grid_column": null,
            "grid_gap": null,
            "grid_row": null,
            "grid_template_areas": null,
            "grid_template_columns": null,
            "grid_template_rows": null,
            "height": null,
            "justify_content": null,
            "justify_items": null,
            "left": null,
            "margin": null,
            "max_height": null,
            "max_width": null,
            "min_height": null,
            "min_width": null,
            "object_fit": null,
            "object_position": null,
            "order": null,
            "overflow": null,
            "overflow_x": null,
            "overflow_y": null,
            "padding": null,
            "right": null,
            "top": null,
            "visibility": null,
            "width": null
          }
        },
        "6338df2ff94c43f797c20e2a5845bad1": {
          "model_module": "@jupyter-widgets/base",
          "model_module_version": "1.2.0",
          "model_name": "LayoutModel",
          "state": {
            "_model_module": "@jupyter-widgets/base",
            "_model_module_version": "1.2.0",
            "_model_name": "LayoutModel",
            "_view_count": null,
            "_view_module": "@jupyter-widgets/base",
            "_view_module_version": "1.2.0",
            "_view_name": "LayoutView",
            "align_content": null,
            "align_items": null,
            "align_self": null,
            "border": null,
            "bottom": null,
            "display": null,
            "flex": null,
            "flex_flow": null,
            "grid_area": null,
            "grid_auto_columns": null,
            "grid_auto_flow": null,
            "grid_auto_rows": null,
            "grid_column": null,
            "grid_gap": null,
            "grid_row": null,
            "grid_template_areas": null,
            "grid_template_columns": null,
            "grid_template_rows": null,
            "height": null,
            "justify_content": null,
            "justify_items": null,
            "left": null,
            "margin": null,
            "max_height": null,
            "max_width": null,
            "min_height": null,
            "min_width": null,
            "object_fit": null,
            "object_position": null,
            "order": null,
            "overflow": null,
            "overflow_x": null,
            "overflow_y": null,
            "padding": null,
            "right": null,
            "top": null,
            "visibility": null,
            "width": null
          }
        },
        "67ccf6ea51744162a574e486ea529643": {
          "model_module": "@jupyter-widgets/controls",
          "model_module_version": "1.5.0",
          "model_name": "HTMLModel",
          "state": {
            "_dom_classes": [],
            "_model_module": "@jupyter-widgets/controls",
            "_model_module_version": "1.5.0",
            "_model_name": "HTMLModel",
            "_view_count": null,
            "_view_module": "@jupyter-widgets/controls",
            "_view_module_version": "1.5.0",
            "_view_name": "HTMLView",
            "description": "",
            "description_tooltip": null,
            "layout": "IPY_MODEL_82a771491bac427baa781f9a864f65b8",
            "placeholder": "​",
            "style": "IPY_MODEL_9d0446f0a07f4a25b010d46146c7eeab",
            "value": "Evaluation: 100%"
          }
        },
        "6f202491b18d4de6b0b4712913d85330": {
          "model_module": "@jupyter-widgets/controls",
          "model_module_version": "1.5.0",
          "model_name": "DescriptionStyleModel",
          "state": {
            "_model_module": "@jupyter-widgets/controls",
            "_model_module_version": "1.5.0",
            "_model_name": "DescriptionStyleModel",
            "_view_count": null,
            "_view_module": "@jupyter-widgets/base",
            "_view_module_version": "1.2.0",
            "_view_name": "StyleView",
            "description_width": ""
          }
        },
        "724b3cefaffc4564a40c5d12298bcebf": {
          "model_module": "@jupyter-widgets/controls",
          "model_module_version": "1.5.0",
          "model_name": "DescriptionStyleModel",
          "state": {
            "_model_module": "@jupyter-widgets/controls",
            "_model_module_version": "1.5.0",
            "_model_name": "DescriptionStyleModel",
            "_view_count": null,
            "_view_module": "@jupyter-widgets/base",
            "_view_module_version": "1.2.0",
            "_view_name": "StyleView",
            "description_width": ""
          }
        },
        "7974acfc75374449a2f4d11d9e00fe38": {
          "model_module": "@jupyter-widgets/controls",
          "model_module_version": "1.5.0",
          "model_name": "FloatProgressModel",
          "state": {
            "_dom_classes": [],
            "_model_module": "@jupyter-widgets/controls",
            "_model_module_version": "1.5.0",
            "_model_name": "FloatProgressModel",
            "_view_count": null,
            "_view_module": "@jupyter-widgets/controls",
            "_view_module_version": "1.5.0",
            "_view_name": "ProgressView",
            "bar_style": "danger",
            "description": "",
            "description_tooltip": null,
            "layout": "IPY_MODEL_1ffc778e15584ef3a7caa6fc1ae709e1",
            "max": 1,
            "min": 0,
            "orientation": "horizontal",
            "style": "IPY_MODEL_e7087cff60a046e787c26e1c7b88a05b",
            "value": 0
          }
        },
        "7b2671ea4c31494981824299a9a56765": {
          "model_module": "@jupyter-widgets/base",
          "model_module_version": "1.2.0",
          "model_name": "LayoutModel",
          "state": {
            "_model_module": "@jupyter-widgets/base",
            "_model_module_version": "1.2.0",
            "_model_name": "LayoutModel",
            "_view_count": null,
            "_view_module": "@jupyter-widgets/base",
            "_view_module_version": "1.2.0",
            "_view_name": "LayoutView",
            "align_content": null,
            "align_items": null,
            "align_self": null,
            "border": null,
            "bottom": null,
            "display": null,
            "flex": null,
            "flex_flow": null,
            "grid_area": null,
            "grid_auto_columns": null,
            "grid_auto_flow": null,
            "grid_auto_rows": null,
            "grid_column": null,
            "grid_gap": null,
            "grid_row": null,
            "grid_template_areas": null,
            "grid_template_columns": null,
            "grid_template_rows": null,
            "height": null,
            "justify_content": null,
            "justify_items": null,
            "left": null,
            "margin": null,
            "max_height": null,
            "max_width": null,
            "min_height": null,
            "min_width": null,
            "object_fit": null,
            "object_position": null,
            "order": null,
            "overflow": null,
            "overflow_x": null,
            "overflow_y": null,
            "padding": null,
            "right": null,
            "top": null,
            "visibility": null,
            "width": null
          }
        },
        "7b86a773e5ea47bea0fd07728f8576f4": {
          "model_module": "@jupyter-widgets/base",
          "model_module_version": "1.2.0",
          "model_name": "LayoutModel",
          "state": {
            "_model_module": "@jupyter-widgets/base",
            "_model_module_version": "1.2.0",
            "_model_name": "LayoutModel",
            "_view_count": null,
            "_view_module": "@jupyter-widgets/base",
            "_view_module_version": "1.2.0",
            "_view_name": "LayoutView",
            "align_content": null,
            "align_items": null,
            "align_self": null,
            "border": null,
            "bottom": null,
            "display": null,
            "flex": null,
            "flex_flow": null,
            "grid_area": null,
            "grid_auto_columns": null,
            "grid_auto_flow": null,
            "grid_auto_rows": null,
            "grid_column": null,
            "grid_gap": null,
            "grid_row": null,
            "grid_template_areas": null,
            "grid_template_columns": null,
            "grid_template_rows": null,
            "height": null,
            "justify_content": null,
            "justify_items": null,
            "left": null,
            "margin": null,
            "max_height": null,
            "max_width": null,
            "min_height": null,
            "min_width": null,
            "object_fit": null,
            "object_position": null,
            "order": null,
            "overflow": null,
            "overflow_x": null,
            "overflow_y": null,
            "padding": null,
            "right": null,
            "top": null,
            "visibility": null,
            "width": null
          }
        },
        "7cb90c5a12c741438342070a1d12ce8a": {
          "model_module": "@jupyter-widgets/controls",
          "model_module_version": "1.5.0",
          "model_name": "HTMLModel",
          "state": {
            "_dom_classes": [],
            "_model_module": "@jupyter-widgets/controls",
            "_model_module_version": "1.5.0",
            "_model_name": "HTMLModel",
            "_view_count": null,
            "_view_module": "@jupyter-widgets/controls",
            "_view_module_version": "1.5.0",
            "_view_name": "HTMLView",
            "description": "",
            "description_tooltip": null,
            "layout": "IPY_MODEL_7b86a773e5ea47bea0fd07728f8576f4",
            "placeholder": "​",
            "style": "IPY_MODEL_b60ca9c9772b44c68f4202083766b238",
            "value": "  0%"
          }
        },
        "82a771491bac427baa781f9a864f65b8": {
          "model_module": "@jupyter-widgets/base",
          "model_module_version": "1.2.0",
          "model_name": "LayoutModel",
          "state": {
            "_model_module": "@jupyter-widgets/base",
            "_model_module_version": "1.2.0",
            "_model_name": "LayoutModel",
            "_view_count": null,
            "_view_module": "@jupyter-widgets/base",
            "_view_module_version": "1.2.0",
            "_view_name": "LayoutView",
            "align_content": null,
            "align_items": null,
            "align_self": null,
            "border": null,
            "bottom": null,
            "display": null,
            "flex": null,
            "flex_flow": null,
            "grid_area": null,
            "grid_auto_columns": null,
            "grid_auto_flow": null,
            "grid_auto_rows": null,
            "grid_column": null,
            "grid_gap": null,
            "grid_row": null,
            "grid_template_areas": null,
            "grid_template_columns": null,
            "grid_template_rows": null,
            "height": null,
            "justify_content": null,
            "justify_items": null,
            "left": null,
            "margin": null,
            "max_height": null,
            "max_width": null,
            "min_height": null,
            "min_width": null,
            "object_fit": null,
            "object_position": null,
            "order": null,
            "overflow": null,
            "overflow_x": null,
            "overflow_y": null,
            "padding": null,
            "right": null,
            "top": null,
            "visibility": null,
            "width": null
          }
        },
        "8bbf2ba1b6654990acf0541598156f58": {
          "model_module": "@jupyter-widgets/base",
          "model_module_version": "1.2.0",
          "model_name": "LayoutModel",
          "state": {
            "_model_module": "@jupyter-widgets/base",
            "_model_module_version": "1.2.0",
            "_model_name": "LayoutModel",
            "_view_count": null,
            "_view_module": "@jupyter-widgets/base",
            "_view_module_version": "1.2.0",
            "_view_name": "LayoutView",
            "align_content": null,
            "align_items": null,
            "align_self": null,
            "border": null,
            "bottom": null,
            "display": null,
            "flex": null,
            "flex_flow": null,
            "grid_area": null,
            "grid_auto_columns": null,
            "grid_auto_flow": null,
            "grid_auto_rows": null,
            "grid_column": null,
            "grid_gap": null,
            "grid_row": null,
            "grid_template_areas": null,
            "grid_template_columns": null,
            "grid_template_rows": null,
            "height": null,
            "justify_content": null,
            "justify_items": null,
            "left": null,
            "margin": null,
            "max_height": null,
            "max_width": null,
            "min_height": null,
            "min_width": null,
            "object_fit": null,
            "object_position": null,
            "order": null,
            "overflow": null,
            "overflow_x": null,
            "overflow_y": null,
            "padding": null,
            "right": null,
            "top": null,
            "visibility": null,
            "width": null
          }
        },
        "8e1531284bca4a0b9ccace389713c488": {
          "model_module": "@jupyter-widgets/controls",
          "model_module_version": "1.5.0",
          "model_name": "HTMLModel",
          "state": {
            "_dom_classes": [],
            "_model_module": "@jupyter-widgets/controls",
            "_model_module_version": "1.5.0",
            "_model_name": "HTMLModel",
            "_view_count": null,
            "_view_module": "@jupyter-widgets/controls",
            "_view_module_version": "1.5.0",
            "_view_name": "HTMLView",
            "description": "",
            "description_tooltip": null,
            "layout": "IPY_MODEL_d642f33f21224a6f8ddbbc2d73500910",
            "placeholder": "​",
            "style": "IPY_MODEL_126fb310f42447738972a4de64e67068",
            "value": " 0/1 [00:00&lt;?, ?it/s]"
          }
        },
        "9d0446f0a07f4a25b010d46146c7eeab": {
          "model_module": "@jupyter-widgets/controls",
          "model_module_version": "1.5.0",
          "model_name": "DescriptionStyleModel",
          "state": {
            "_model_module": "@jupyter-widgets/controls",
            "_model_module_version": "1.5.0",
            "_model_name": "DescriptionStyleModel",
            "_view_count": null,
            "_view_module": "@jupyter-widgets/base",
            "_view_module_version": "1.2.0",
            "_view_name": "StyleView",
            "description_width": ""
          }
        },
        "a561e7ef95da4974b339c65fd0139f5a": {
          "model_module": "@jupyter-widgets/base",
          "model_module_version": "1.2.0",
          "model_name": "LayoutModel",
          "state": {
            "_model_module": "@jupyter-widgets/base",
            "_model_module_version": "1.2.0",
            "_model_name": "LayoutModel",
            "_view_count": null,
            "_view_module": "@jupyter-widgets/base",
            "_view_module_version": "1.2.0",
            "_view_name": "LayoutView",
            "align_content": null,
            "align_items": null,
            "align_self": null,
            "border": null,
            "bottom": null,
            "display": null,
            "flex": null,
            "flex_flow": null,
            "grid_area": null,
            "grid_auto_columns": null,
            "grid_auto_flow": null,
            "grid_auto_rows": null,
            "grid_column": null,
            "grid_gap": null,
            "grid_row": null,
            "grid_template_areas": null,
            "grid_template_columns": null,
            "grid_template_rows": null,
            "height": null,
            "justify_content": null,
            "justify_items": null,
            "left": null,
            "margin": null,
            "max_height": null,
            "max_width": null,
            "min_height": null,
            "min_width": null,
            "object_fit": null,
            "object_position": null,
            "order": null,
            "overflow": null,
            "overflow_x": null,
            "overflow_y": null,
            "padding": null,
            "right": null,
            "top": null,
            "visibility": null,
            "width": null
          }
        },
        "a784a42db65c44319a93f868b38a9ea0": {
          "model_module": "@jupyter-widgets/controls",
          "model_module_version": "1.5.0",
          "model_name": "ProgressStyleModel",
          "state": {
            "_model_module": "@jupyter-widgets/controls",
            "_model_module_version": "1.5.0",
            "_model_name": "ProgressStyleModel",
            "_view_count": null,
            "_view_module": "@jupyter-widgets/base",
            "_view_module_version": "1.2.0",
            "_view_name": "StyleView",
            "bar_color": null,
            "description_width": ""
          }
        },
        "af5a26dc6ab5499b98d51f750c6f5809": {
          "model_module": "@jupyter-widgets/controls",
          "model_module_version": "1.5.0",
          "model_name": "HBoxModel",
          "state": {
            "_dom_classes": [],
            "_model_module": "@jupyter-widgets/controls",
            "_model_module_version": "1.5.0",
            "_model_name": "HBoxModel",
            "_view_count": null,
            "_view_module": "@jupyter-widgets/controls",
            "_view_module_version": "1.5.0",
            "_view_name": "HBoxView",
            "box_style": "",
            "children": [
              "IPY_MODEL_c71189804e914eeebea6a7398e880caf",
              "IPY_MODEL_b20354dd3cd648f38acc2606d4a7508d",
              "IPY_MODEL_58e699be167f4b2095c95e21e8e17743"
            ],
            "layout": "IPY_MODEL_27f06733cf4f4b26abf024c1ea70c930"
          }
        },
        "b20354dd3cd648f38acc2606d4a7508d": {
          "model_module": "@jupyter-widgets/controls",
          "model_module_version": "1.5.0",
          "model_name": "FloatProgressModel",
          "state": {
            "_dom_classes": [],
            "_model_module": "@jupyter-widgets/controls",
            "_model_module_version": "1.5.0",
            "_model_name": "FloatProgressModel",
            "_view_count": null,
            "_view_module": "@jupyter-widgets/controls",
            "_view_module_version": "1.5.0",
            "_view_name": "ProgressView",
            "bar_style": "success",
            "description": "",
            "description_tooltip": null,
            "layout": "IPY_MODEL_7b2671ea4c31494981824299a9a56765",
            "max": 1,
            "min": 0,
            "orientation": "horizontal",
            "style": "IPY_MODEL_a784a42db65c44319a93f868b38a9ea0",
            "value": 1
          }
        },
        "b60ca9c9772b44c68f4202083766b238": {
          "model_module": "@jupyter-widgets/controls",
          "model_module_version": "1.5.0",
          "model_name": "DescriptionStyleModel",
          "state": {
            "_model_module": "@jupyter-widgets/controls",
            "_model_module_version": "1.5.0",
            "_model_name": "DescriptionStyleModel",
            "_view_count": null,
            "_view_module": "@jupyter-widgets/base",
            "_view_module_version": "1.2.0",
            "_view_name": "StyleView",
            "description_width": ""
          }
        },
        "bc49150a142947b38a601de35a2c5de7": {
          "model_module": "@jupyter-widgets/controls",
          "model_module_version": "1.5.0",
          "model_name": "HBoxModel",
          "state": {
            "_dom_classes": [],
            "_model_module": "@jupyter-widgets/controls",
            "_model_module_version": "1.5.0",
            "_model_name": "HBoxModel",
            "_view_count": null,
            "_view_module": "@jupyter-widgets/controls",
            "_view_module_version": "1.5.0",
            "_view_name": "HBoxView",
            "box_style": "",
            "children": [
              "IPY_MODEL_67ccf6ea51744162a574e486ea529643",
              "IPY_MODEL_11cfb18d3b124f2facb031c24ce027d6",
              "IPY_MODEL_353205bb28a1407c9a74cd31013ca0e9"
            ],
            "layout": "IPY_MODEL_6338df2ff94c43f797c20e2a5845bad1"
          }
        },
        "c71189804e914eeebea6a7398e880caf": {
          "model_module": "@jupyter-widgets/controls",
          "model_module_version": "1.5.0",
          "model_name": "HTMLModel",
          "state": {
            "_dom_classes": [],
            "_model_module": "@jupyter-widgets/controls",
            "_model_module_version": "1.5.0",
            "_model_name": "HTMLModel",
            "_view_count": null,
            "_view_module": "@jupyter-widgets/controls",
            "_view_module_version": "1.5.0",
            "_view_name": "HTMLView",
            "description": "",
            "description_tooltip": null,
            "layout": "IPY_MODEL_ef33c2bd1f1643048b0d54729953aaed",
            "placeholder": "​",
            "style": "IPY_MODEL_6f202491b18d4de6b0b4712913d85330",
            "value": "Evaluation: 100%"
          }
        },
        "d642f33f21224a6f8ddbbc2d73500910": {
          "model_module": "@jupyter-widgets/base",
          "model_module_version": "1.2.0",
          "model_name": "LayoutModel",
          "state": {
            "_model_module": "@jupyter-widgets/base",
            "_model_module_version": "1.2.0",
            "_model_name": "LayoutModel",
            "_view_count": null,
            "_view_module": "@jupyter-widgets/base",
            "_view_module_version": "1.2.0",
            "_view_name": "LayoutView",
            "align_content": null,
            "align_items": null,
            "align_self": null,
            "border": null,
            "bottom": null,
            "display": null,
            "flex": null,
            "flex_flow": null,
            "grid_area": null,
            "grid_auto_columns": null,
            "grid_auto_flow": null,
            "grid_auto_rows": null,
            "grid_column": null,
            "grid_gap": null,
            "grid_row": null,
            "grid_template_areas": null,
            "grid_template_columns": null,
            "grid_template_rows": null,
            "height": null,
            "justify_content": null,
            "justify_items": null,
            "left": null,
            "margin": null,
            "max_height": null,
            "max_width": null,
            "min_height": null,
            "min_width": null,
            "object_fit": null,
            "object_position": null,
            "order": null,
            "overflow": null,
            "overflow_x": null,
            "overflow_y": null,
            "padding": null,
            "right": null,
            "top": null,
            "visibility": null,
            "width": null
          }
        },
        "e4ac8bd0297b4ed2808d35af8cd09895": {
          "model_module": "@jupyter-widgets/base",
          "model_module_version": "1.2.0",
          "model_name": "LayoutModel",
          "state": {
            "_model_module": "@jupyter-widgets/base",
            "_model_module_version": "1.2.0",
            "_model_name": "LayoutModel",
            "_view_count": null,
            "_view_module": "@jupyter-widgets/base",
            "_view_module_version": "1.2.0",
            "_view_name": "LayoutView",
            "align_content": null,
            "align_items": null,
            "align_self": null,
            "border": null,
            "bottom": null,
            "display": null,
            "flex": null,
            "flex_flow": null,
            "grid_area": null,
            "grid_auto_columns": null,
            "grid_auto_flow": null,
            "grid_auto_rows": null,
            "grid_column": null,
            "grid_gap": null,
            "grid_row": null,
            "grid_template_areas": null,
            "grid_template_columns": null,
            "grid_template_rows": null,
            "height": null,
            "justify_content": null,
            "justify_items": null,
            "left": null,
            "margin": null,
            "max_height": null,
            "max_width": null,
            "min_height": null,
            "min_width": null,
            "object_fit": null,
            "object_position": null,
            "order": null,
            "overflow": null,
            "overflow_x": null,
            "overflow_y": null,
            "padding": null,
            "right": null,
            "top": null,
            "visibility": null,
            "width": null
          }
        },
        "e7087cff60a046e787c26e1c7b88a05b": {
          "model_module": "@jupyter-widgets/controls",
          "model_module_version": "1.5.0",
          "model_name": "ProgressStyleModel",
          "state": {
            "_model_module": "@jupyter-widgets/controls",
            "_model_module_version": "1.5.0",
            "_model_name": "ProgressStyleModel",
            "_view_count": null,
            "_view_module": "@jupyter-widgets/base",
            "_view_module_version": "1.2.0",
            "_view_name": "StyleView",
            "bar_color": null,
            "description_width": ""
          }
        },
        "e8be0e730bfb4f8d8f3f0ccd94045159": {
          "model_module": "@jupyter-widgets/controls",
          "model_module_version": "1.5.0",
          "model_name": "HBoxModel",
          "state": {
            "_dom_classes": [],
            "_model_module": "@jupyter-widgets/controls",
            "_model_module_version": "1.5.0",
            "_model_name": "HBoxModel",
            "_view_count": null,
            "_view_module": "@jupyter-widgets/controls",
            "_view_module_version": "1.5.0",
            "_view_name": "HBoxView",
            "box_style": "",
            "children": [
              "IPY_MODEL_7cb90c5a12c741438342070a1d12ce8a",
              "IPY_MODEL_7974acfc75374449a2f4d11d9e00fe38",
              "IPY_MODEL_8e1531284bca4a0b9ccace389713c488"
            ],
            "layout": "IPY_MODEL_a561e7ef95da4974b339c65fd0139f5a"
          }
        },
        "ef33c2bd1f1643048b0d54729953aaed": {
          "model_module": "@jupyter-widgets/base",
          "model_module_version": "1.2.0",
          "model_name": "LayoutModel",
          "state": {
            "_model_module": "@jupyter-widgets/base",
            "_model_module_version": "1.2.0",
            "_model_name": "LayoutModel",
            "_view_count": null,
            "_view_module": "@jupyter-widgets/base",
            "_view_module_version": "1.2.0",
            "_view_name": "LayoutView",
            "align_content": null,
            "align_items": null,
            "align_self": null,
            "border": null,
            "bottom": null,
            "display": null,
            "flex": null,
            "flex_flow": null,
            "grid_area": null,
            "grid_auto_columns": null,
            "grid_auto_flow": null,
            "grid_auto_rows": null,
            "grid_column": null,
            "grid_gap": null,
            "grid_row": null,
            "grid_template_areas": null,
            "grid_template_columns": null,
            "grid_template_rows": null,
            "height": null,
            "justify_content": null,
            "justify_items": null,
            "left": null,
            "margin": null,
            "max_height": null,
            "max_width": null,
            "min_height": null,
            "min_width": null,
            "object_fit": null,
            "object_position": null,
            "order": null,
            "overflow": null,
            "overflow_x": null,
            "overflow_y": null,
            "padding": null,
            "right": null,
            "top": null,
            "visibility": null,
            "width": null
          }
        }
      }
    }
  },
  "nbformat": 4,
  "nbformat_minor": 0
}
