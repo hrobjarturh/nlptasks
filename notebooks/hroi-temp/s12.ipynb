{
 "cells": [
  {
   "cell_type": "code",
   "execution_count": 1,
   "metadata": {},
   "outputs": [],
   "source": [
    "import pandas as pd\n",
    "import numpy as np\n",
    "from sklearn.feature_extraction.text import CountVectorizer"
   ]
  },
  {
   "cell_type": "code",
   "execution_count": 3,
   "metadata": {},
   "outputs": [],
   "source": [
    "# import training data\n",
    "dft_eng = pd.read_csv('../../data/dft_eng.csv')\n",
    "dft_jap = pd.read_csv('../../data/dft_jap.csv')\n",
    "dft_fin = pd.read_csv('../../data/dft_fin.csv')\n",
    "\n",
    "# import validation data\n",
    "dfv_eng = pd.read_csv('../../data/dfv_eng.csv')\n",
    "dfv_jap = pd.read_csv('../../data/dfv_jap.csv')\n",
    "dfv_fin = pd.read_csv('../../data/dfv_fin.csv')"
   ]
  },
  {
   "cell_type": "code",
   "execution_count": 9,
   "metadata": {},
   "outputs": [
    {
     "data": {
      "text/plain": [
       "['quantum',\n",
       " 'field',\n",
       " 'theory',\n",
       " 'naturally',\n",
       " 'began',\n",
       " 'with',\n",
       " 'the',\n",
       " 'study',\n",
       " 'of',\n",
       " 'electromagnetic',\n",
       " 'interactions',\n",
       " ',',\n",
       " 'as',\n",
       " 'the',\n",
       " 'electromagnetic',\n",
       " 'field',\n",
       " 'was',\n",
       " 'the',\n",
       " 'only',\n",
       " 'known',\n",
       " 'classical',\n",
       " 'field',\n",
       " 'as',\n",
       " 'of',\n",
       " 'the',\n",
       " '1920s.',\n",
       " '[',\n",
       " '8',\n",
       " ']',\n",
       " ':1']"
      ]
     },
     "execution_count": 9,
     "metadata": {},
     "output_type": "execute_result"
    }
   ],
   "source": [
    "eval(dft_eng.document_plaintext_tokenized[0])"
   ]
  },
  {
   "cell_type": "code",
   "execution_count": 65,
   "metadata": {},
   "outputs": [
    {
     "name": "stderr",
     "output_type": "stream",
     "text": [
      "/var/folders/t4/5wlbnmyd57v40bthjcw9tq4m0000gp/T/ipykernel_33186/111472065.py:22: FutureWarning: The frame.append method is deprecated and will be removed from pandas in a future version. Use pandas.concat instead.\n",
      "  df_all = df_all.append(df_single)\n",
      "/var/folders/t4/5wlbnmyd57v40bthjcw9tq4m0000gp/T/ipykernel_33186/111472065.py:22: FutureWarning: The frame.append method is deprecated and will be removed from pandas in a future version. Use pandas.concat instead.\n",
      "  df_all = df_all.append(df_single)\n",
      "/var/folders/t4/5wlbnmyd57v40bthjcw9tq4m0000gp/T/ipykernel_33186/111472065.py:22: FutureWarning: The frame.append method is deprecated and will be removed from pandas in a future version. Use pandas.concat instead.\n",
      "  df_all = df_all.append(df_single)\n"
     ]
    }
   ],
   "source": [
    "df_all = pd.DataFrame(data={'word': [], 'counters': [], 'norm': [], 'language': []})\n",
    "\n",
    "for df in [dft_jap,dft_eng,dft_fin]:\n",
    "    alls = []\n",
    "    language = df.language.values[0]\n",
    "    for a in df.document_plaintext_tokenized:\n",
    "        alls.extend(eval(a))\n",
    "\n",
    "    u, count = np.unique(alls, return_counts=True)\n",
    "    count_sort_ind = np.argsort(-count)\n",
    "    u_sort = u[count_sort_ind]\n",
    "    count_sort = count[count_sort_ind]\n",
    "\n",
    "    df_single = pd.DataFrame(data={'word': u_sort, 'counters': count_sort})\n",
    "\n",
    "\n",
    "    cs = count_sort * -1\n",
    "    b = (cs - np.min(cs))/np.ptp(cs)\n",
    "    df_single['norm'] = b\n",
    "    df_single['language'] = language\n",
    "\n",
    "    df_all = df_all.append(df_single)\n",
    "\n",
    "    "
   ]
  },
  {
   "cell_type": "code",
   "execution_count": 69,
   "metadata": {},
   "outputs": [
    {
     "data": {
      "text/html": [
       "<div>\n",
       "<style scoped>\n",
       "    .dataframe tbody tr th:only-of-type {\n",
       "        vertical-align: middle;\n",
       "    }\n",
       "\n",
       "    .dataframe tbody tr th {\n",
       "        vertical-align: top;\n",
       "    }\n",
       "\n",
       "    .dataframe thead th {\n",
       "        text-align: right;\n",
       "    }\n",
       "</style>\n",
       "<table border=\"1\" class=\"dataframe\">\n",
       "  <thead>\n",
       "    <tr style=\"text-align: right;\">\n",
       "      <th></th>\n",
       "      <th>word</th>\n",
       "      <th>counters</th>\n",
       "      <th>norm</th>\n",
       "      <th>language</th>\n",
       "    </tr>\n",
       "  </thead>\n",
       "  <tbody>\n",
       "    <tr>\n",
       "      <th>0</th>\n",
       "      <td>の</td>\n",
       "      <td>58790.0</td>\n",
       "      <td>0.000000</td>\n",
       "      <td>japanese</td>\n",
       "    </tr>\n",
       "    <tr>\n",
       "      <th>1</th>\n",
       "      <td>、</td>\n",
       "      <td>52354.0</td>\n",
       "      <td>0.109476</td>\n",
       "      <td>japanese</td>\n",
       "    </tr>\n",
       "    <tr>\n",
       "      <th>2</th>\n",
       "      <td>に</td>\n",
       "      <td>42765.0</td>\n",
       "      <td>0.272585</td>\n",
       "      <td>japanese</td>\n",
       "    </tr>\n",
       "    <tr>\n",
       "      <th>3</th>\n",
       "      <td>。</td>\n",
       "      <td>31939.0</td>\n",
       "      <td>0.456735</td>\n",
       "      <td>japanese</td>\n",
       "    </tr>\n",
       "    <tr>\n",
       "      <th>4</th>\n",
       "      <td>は</td>\n",
       "      <td>31421.0</td>\n",
       "      <td>0.465546</td>\n",
       "      <td>japanese</td>\n",
       "    </tr>\n",
       "    <tr>\n",
       "      <th>...</th>\n",
       "      <td>...</td>\n",
       "      <td>...</td>\n",
       "      <td>...</td>\n",
       "      <td>...</td>\n",
       "    </tr>\n",
       "    <tr>\n",
       "      <th>165173</th>\n",
       "      <td>naistenmies</td>\n",
       "      <td>1.0</td>\n",
       "      <td>1.000000</td>\n",
       "      <td>finnish</td>\n",
       "    </tr>\n",
       "    <tr>\n",
       "      <th>165174</th>\n",
       "      <td>naistenmiehenä.</td>\n",
       "      <td>1.0</td>\n",
       "      <td>1.000000</td>\n",
       "      <td>finnish</td>\n",
       "    </tr>\n",
       "    <tr>\n",
       "      <th>165175</th>\n",
       "      <td>gaullismi</td>\n",
       "      <td>1.0</td>\n",
       "      <td>1.000000</td>\n",
       "      <td>finnish</td>\n",
       "    </tr>\n",
       "    <tr>\n",
       "      <th>165176</th>\n",
       "      <td>gaugamelan</td>\n",
       "      <td>1.0</td>\n",
       "      <td>1.000000</td>\n",
       "      <td>finnish</td>\n",
       "    </tr>\n",
       "    <tr>\n",
       "      <th>165177</th>\n",
       "      <td>malilainen</td>\n",
       "      <td>1.0</td>\n",
       "      <td>1.000000</td>\n",
       "      <td>finnish</td>\n",
       "    </tr>\n",
       "  </tbody>\n",
       "</table>\n",
       "<p>292160 rows × 4 columns</p>\n",
       "</div>"
      ],
      "text/plain": [
       "                   word  counters      norm  language\n",
       "0                     の   58790.0  0.000000  japanese\n",
       "1                     、   52354.0  0.109476  japanese\n",
       "2                     に   42765.0  0.272585  japanese\n",
       "3                     。   31939.0  0.456735  japanese\n",
       "4                     は   31421.0  0.465546  japanese\n",
       "...                 ...       ...       ...       ...\n",
       "165173      naistenmies       1.0  1.000000   finnish\n",
       "165174  naistenmiehenä.       1.0  1.000000   finnish\n",
       "165175        gaullismi       1.0  1.000000   finnish\n",
       "165176       gaugamelan       1.0  1.000000   finnish\n",
       "165177       malilainen       1.0  1.000000   finnish\n",
       "\n",
       "[292160 rows x 4 columns]"
      ]
     },
     "execution_count": 69,
     "metadata": {},
     "output_type": "execute_result"
    }
   ],
   "source": [
    "df_all"
   ]
  },
  {
   "cell_type": "code",
   "execution_count": 70,
   "metadata": {},
   "outputs": [],
   "source": [
    "df_all.to_csv('question_word_count.csv',index=False) "
   ]
  },
  {
   "cell_type": "code",
   "execution_count": null,
   "metadata": {},
   "outputs": [],
   "source": []
  }
 ],
 "metadata": {
  "kernelspec": {
   "display_name": "Python 3.10.6 64-bit",
   "language": "python",
   "name": "python3"
  },
  "language_info": {
   "codemirror_mode": {
    "name": "ipython",
    "version": 3
   },
   "file_extension": ".py",
   "mimetype": "text/x-python",
   "name": "python",
   "nbconvert_exporter": "python",
   "pygments_lexer": "ipython3",
   "version": "3.10.6"
  },
  "orig_nbformat": 4,
  "vscode": {
   "interpreter": {
    "hash": "aee8b7b246df8f9039afb4144a1f6fd8d2ca17a180786b69acc140d282b71a49"
   }
  }
 },
 "nbformat": 4,
 "nbformat_minor": 2
}
