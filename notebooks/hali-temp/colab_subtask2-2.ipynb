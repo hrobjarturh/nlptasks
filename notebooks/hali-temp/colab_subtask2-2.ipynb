{
  "cells": [
    {
      "cell_type": "code",
      "execution_count": null,
      "metadata": {
        "colab": {
          "base_uri": "https://localhost:8080/"
        },
        "id": "27oY-Iy-gCwM",
        "outputId": "782b63c3-e90e-4b78-b13d-b7a70285aabb"
      },
      "outputs": [
        {
          "output_type": "stream",
          "name": "stdout",
          "text": [
            "Drive already mounted at /content/drive; to attempt to forcibly remount, call drive.mount(\"/content/drive\", force_remount=True).\n"
          ]
        }
      ],
      "source": [
        "from google.colab import drive\n",
        "drive.mount('/content/drive')"
      ]
    },
    {
      "cell_type": "code",
      "execution_count": null,
      "metadata": {
        "colab": {
          "base_uri": "https://localhost:8080/"
        },
        "id": "0PdmJU-Nhz2Q",
        "outputId": "7651e2f7-cc3b-479b-d1bc-a6673f6e8073"
      },
      "outputs": [
        {
          "output_type": "stream",
          "name": "stdout",
          "text": [
            "Looking in indexes: https://pypi.org/simple, https://us-python.pkg.dev/colab-wheels/public/simple/\n",
            "Requirement already satisfied: bpemb in /usr/local/lib/python3.7/dist-packages (0.3.4)\n",
            "Requirement already satisfied: sentencepiece in /usr/local/lib/python3.7/dist-packages (from bpemb) (0.1.97)\n",
            "Requirement already satisfied: gensim in /usr/local/lib/python3.7/dist-packages (from bpemb) (3.6.0)\n",
            "Requirement already satisfied: requests in /usr/local/lib/python3.7/dist-packages (from bpemb) (2.23.0)\n",
            "Requirement already satisfied: tqdm in /usr/local/lib/python3.7/dist-packages (from bpemb) (4.64.1)\n",
            "Requirement already satisfied: numpy in /usr/local/lib/python3.7/dist-packages (from bpemb) (1.21.6)\n",
            "Requirement already satisfied: smart-open>=1.2.1 in /usr/local/lib/python3.7/dist-packages (from gensim->bpemb) (5.2.1)\n",
            "Requirement already satisfied: scipy>=0.18.1 in /usr/local/lib/python3.7/dist-packages (from gensim->bpemb) (1.7.3)\n",
            "Requirement already satisfied: six>=1.5.0 in /usr/local/lib/python3.7/dist-packages (from gensim->bpemb) (1.15.0)\n",
            "Requirement already satisfied: urllib3!=1.25.0,!=1.25.1,<1.26,>=1.21.1 in /usr/local/lib/python3.7/dist-packages (from requests->bpemb) (1.24.3)\n",
            "Requirement already satisfied: idna<3,>=2.5 in /usr/local/lib/python3.7/dist-packages (from requests->bpemb) (2.10)\n",
            "Requirement already satisfied: certifi>=2017.4.17 in /usr/local/lib/python3.7/dist-packages (from requests->bpemb) (2022.9.24)\n",
            "Requirement already satisfied: chardet<4,>=3.0.2 in /usr/local/lib/python3.7/dist-packages (from requests->bpemb) (3.0.4)\n"
          ]
        }
      ],
      "source": [
        "!pip install bpemb"
      ]
    },
    {
      "cell_type": "code",
      "execution_count": null,
      "metadata": {
        "colab": {
          "base_uri": "https://localhost:8080/"
        },
        "id": "MxTGVzzzg1Bq",
        "outputId": "1df29c33-d64b-4be2-9efe-6b456cb1342f"
      },
      "outputs": [
        {
          "output_type": "stream",
          "name": "stdout",
          "text": [
            "/content\n"
          ]
        }
      ],
      "source": [
        "!pwd"
      ]
    },
    {
      "cell_type": "code",
      "execution_count": null,
      "metadata": {
        "colab": {
          "base_uri": "https://localhost:8080/"
        },
        "id": "n7rU8bPGhwOd",
        "outputId": "c8482d56-41dc-47a0-d7f7-20b33c886ab1"
      },
      "outputs": [
        {
          "output_type": "stream",
          "name": "stdout",
          "text": [
            "/content/drive/MyDrive/Colab Notebooks/nlptasks/notebooks/hroi-temp\n"
          ]
        }
      ],
      "source": [
        "%cd drive/MyDrive/Colab\\ Notebooks/nlptasks/notebooks/hroi-temp"
      ]
    },
    {
      "cell_type": "code",
      "execution_count": null,
      "metadata": {
        "colab": {
          "base_uri": "https://localhost:8080/"
        },
        "id": "TwwCKWwAjloM",
        "outputId": "38571cb1-057f-4433-a8a3-3c1af6e00715"
      },
      "outputs": [
        {
          "output_type": "stream",
          "name": "stdout",
          "text": [
            " best_model               'colab_subtask2 (6).ipynb'   s12.ipynb\n",
            " colab_subtask21.ipynb     colab_subtask2.ipynb        subtask1-2.ipynb\n",
            " colab_subtask2_20.ipynb   logres_model.sav\n"
          ]
        }
      ],
      "source": [
        "%ls"
      ]
    },
    {
      "cell_type": "code",
      "execution_count": null,
      "metadata": {
        "id": "alSxKo9lhzqy"
      },
      "outputs": [],
      "source": [
        "#!git clone https://github.com/hrobjarturh/nlptasks.git\n",
        "#!git commit -m \"update colab file\""
      ]
    },
    {
      "cell_type": "code",
      "execution_count": null,
      "metadata": {
        "id": "7Wt_A87giGwW"
      },
      "outputs": [],
      "source": [
        "import pandas as pd\n",
        "import numpy as np\n",
        "import random\n",
        "from sklearn.metrics import accuracy_score\n",
        "from sklearn.linear_model import LogisticRegression\n",
        "from collections import Counter\n",
        "\n",
        "import torch\n",
        "from torch.utils.data import Dataset, DataLoader\n",
        "from typing import List, Tuple\n",
        "from bpemb import BPEmb\n",
        "import gensim.downloader\n",
        "from bpemb import BPEmb\n"
      ]
    },
    {
      "cell_type": "code",
      "execution_count": null,
      "metadata": {
        "id": "2HZPFXuumExz"
      },
      "outputs": [],
      "source": [
        "%reload_ext autoreload\n",
        "%autoreload 2\n",
        "%matplotlib inline"
      ]
    },
    {
      "cell_type": "code",
      "execution_count": null,
      "metadata": {
        "id": "ouMQru4UmI9x"
      },
      "outputs": [],
      "source": [
        "def enforce_reproducibility(seed=42):\n",
        "    # Sets seed manually for both CPU and CUDA\n",
        "    torch.manual_seed(seed)\n",
        "    torch.cuda.manual_seed_all(seed)\n",
        "    # For atomic operations there is currently \n",
        "    # no simple way to enforce determinism, as\n",
        "    # the order of parallel operations is not known.\n",
        "    # CUDNN\n",
        "    torch.backends.cudnn.deterministic = True\n",
        "    torch.backends.cudnn.benchmark = False\n",
        "    # System based\n",
        "    random.seed(seed)\n",
        "    np.random.seed(seed)"
      ]
    },
    {
      "cell_type": "code",
      "execution_count": null,
      "metadata": {
        "id": "vhXTpowxmJpf"
      },
      "outputs": [],
      "source": [
        "enforce_reproducibility()"
      ]
    },
    {
      "cell_type": "code",
      "execution_count": null,
      "metadata": {
        "colab": {
          "base_uri": "https://localhost:8080/"
        },
        "id": "HQ-9tdhRwWLz",
        "outputId": "8fb0370c-090d-4ffe-98fb-6e0b3dd4c16a"
      },
      "outputs": [
        {
          "output_type": "stream",
          "name": "stdout",
          "text": [
            "BPEmb fallback: en from vocab size 65320 to 200000\n"
          ]
        }
      ],
      "source": [
        "bpemb_en = BPEmb(lang='en', dim=100, vs=65320)\n",
        "# Extract the embeddings and add a randomly initialized embedding for our extra [PAD] token\n",
        "pretrained_embeddings = np.concatenate([bpemb_en.emb.vectors, np.zeros(shape=(1,100))], axis=0)"
      ]
    },
    {
      "cell_type": "code",
      "execution_count": null,
      "metadata": {
        "id": "Bn2xexi6v9oA"
      },
      "outputs": [],
      "source": [
        "from torch import nn\n",
        "\n",
        "# Define a default lstm_dim\n",
        "lstm_dim = 100\n",
        "\n",
        "# Define some hyperparameters\n",
        "batch_size = 8\n",
        "lr = 3e-4\n",
        "n_epochs = 100"
      ]
    },
    {
      "cell_type": "code",
      "execution_count": null,
      "metadata": {
        "id": "kQwIMQ0-v9sa"
      },
      "outputs": [],
      "source": [
        "device = torch.device(\"cpu\")\n",
        "if torch.cuda.is_available():\n",
        "  device = torch.device(\"cuda\")"
      ]
    },
    {
      "cell_type": "code",
      "execution_count": null,
      "metadata": {
        "id": "0p4_OJ9av9xS"
      },
      "outputs": [],
      "source": [
        "from torch.optim import Adam"
      ]
    },
    {
      "cell_type": "code",
      "execution_count": null,
      "metadata": {
        "id": "LpLAPwfHv94i"
      },
      "outputs": [],
      "source": [
        "def accuracy(logits, labels):\n",
        "  logits = np.asarray(logits).reshape(-1, len(logits[0]))\n",
        "  labels = np.asarray(labels).reshape(-1)\n",
        "  return np.sum(np.argmax(logits, axis=-1) == labels).astype(np.float32) / float(labels.shape[0])"
      ]
    },
    {
      "cell_type": "code",
      "execution_count": null,
      "metadata": {
        "id": "O5vUceyZxwYZ"
      },
      "outputs": [],
      "source": [
        "from tqdm import tqdm_notebook as tqdm"
      ]
    },
    {
      "cell_type": "code",
      "execution_count": null,
      "metadata": {
        "id": "LuBBznxkxwas"
      },
      "outputs": [],
      "source": [
        "def evaluate(model: nn.Module, valid_dl: DataLoader):\n",
        "  \"\"\"\n",
        "  Evaluates the model on the given dataset\n",
        "  :param model: The model under evaluation\n",
        "  :param valid_dl: A `DataLoader` reading validation data\n",
        "  :return: The accuracy of the model on the dataset\n",
        "  \"\"\"\n",
        "  # VERY IMPORTANT: Put your model in \"eval\" mode -- this disables things like \n",
        "  # layer normalization and dropout\n",
        "  model.eval()\n",
        "  labels_all = []\n",
        "  logits_all = []\n",
        "\n",
        "  # ALSO IMPORTANT: Don't accumulate gradients during this process\n",
        "  with torch.no_grad():\n",
        "    for batch in tqdm(valid_dl, desc='Evaluation'):\n",
        "      batch = tuple(t.to(device) for t in batch)\n",
        "      input_ids = batch[0]\n",
        "      seq_lens = batch[1]\n",
        "      labels = batch[2]\n",
        "      meta_inputs = batch[3]\n",
        "\n",
        "      _, logits = model(input_ids, seq_lens, labels,meta_inputs)\n",
        "      labels_all.extend(list(labels.detach().cpu().numpy()))\n",
        "      logits_all.extend(list(logits.detach().cpu().numpy()))\n",
        "    acc = accuracy(logits_all, labels_all)\n",
        "\n",
        "    return acc,labels_all,logits_all"
      ]
    },
    {
      "cell_type": "code",
      "execution_count": null,
      "metadata": {
        "id": "55NGBIoCxwc0"
      },
      "outputs": [],
      "source": [
        "def train(\n",
        "    model: nn.Module, \n",
        "    train_dl: DataLoader, \n",
        "    valid_dl: DataLoader, \n",
        "    optimizer: torch.optim.Optimizer, \n",
        "    n_epochs: int, \n",
        "    device: torch.device,\n",
        "    patience: int = 10\n",
        "):\n",
        "  \"\"\"\n",
        "  The main training loop which will optimize a given model on a given dataset\n",
        "  :param model: The model being optimized\n",
        "  :param train_dl: The training dataset\n",
        "  :param valid_dl: A validation dataset\n",
        "  :param optimizer: The optimizer used to update the model parameters\n",
        "  :param n_epochs: Number of epochs to train for\n",
        "  :param device: The device to train on\n",
        "  :return: (model, losses) The best model and the losses per iteration\n",
        "  \"\"\"\n",
        "\n",
        "  # Keep track of the loss and best accuracy\n",
        "  losses = []\n",
        "  best_acc = 0.0\n",
        "  pcounter = 0\n",
        "\n",
        "  # Iterate through epochs\n",
        "  for ep in range(n_epochs):\n",
        "\n",
        "    loss_epoch = []\n",
        "\n",
        "    #Iterate through each batch in the dataloader\n",
        "    for batch in tqdm(train_dl):\n",
        "      # VERY IMPORTANT: Make sure the model is in training mode, which turns on \n",
        "      # things like dropout and layer normalization\n",
        "      model.train()\n",
        "\n",
        "      # VERY IMPORTANT: zero out all of the gradients on each iteration -- PyTorch\n",
        "      # keeps track of these dynamically in its computation graph so you need to explicitly\n",
        "      # zero them out\n",
        "      optimizer.zero_grad()\n",
        "\n",
        "      # Place each tensor on the GPU\n",
        "      batch = tuple(t.to(device) for t in batch)\n",
        "      input_ids = batch[0]\n",
        "      seq_lens = batch[1]\n",
        "      labels = batch[2]\n",
        "      meta_inputs = batch[3]\n",
        "\n",
        "      # Pass the inputs through the model, get the current loss and logits\n",
        "      loss, logits = model(input_ids, seq_lens, labels, meta_inputs)\n",
        "      losses.append(loss.item())\n",
        "      loss_epoch.append(loss.item())\n",
        "      \n",
        "      # Calculate all of the gradients and weight updates for the model\n",
        "      loss.backward()\n",
        "\n",
        "      # Optional: clip gradients\n",
        "      #torch.nn.utils.clip_grad_norm_(model.parameters(), 1.0)\n",
        "\n",
        "      # Finally, update the weights of the model\n",
        "      optimizer.step()\n",
        "      #gc.collect()\n",
        "\n",
        "    # Perform inline evaluation at the end of the epoch\n",
        "    acc,_,_ = evaluate(model, valid_dl)\n",
        "    print(f'Validation accuracy: {acc}, train loss: {sum(loss_epoch) / len(loss_epoch)}')\n",
        "\n",
        "    # Keep track of the best model based on the accuracy\n",
        "    if acc > best_acc:\n",
        "      torch.save(model.state_dict(), 'best_model')\n",
        "      best_acc = acc\n",
        "      pcounter = 0\n",
        "    else:\n",
        "      pcounter += 1\n",
        "      if pcounter == patience:\n",
        "        break\n",
        "        #gc.collect()\n",
        "\n",
        "  model.load_state_dict(torch.load('best_model'))\n",
        "  return model, losses"
      ]
    },
    {
      "cell_type": "code",
      "execution_count": null,
      "metadata": {
        "id": "4E3sVAaSNARV"
      },
      "outputs": [],
      "source": [
        "# use eval to change string list to list get the length of each row\n",
        "def create_batch(df, meta):\n",
        "  combined = [eval(que) + eval(doc) for que, doc in zip(df[\"question_text_tokenized\"],df[\"document_plaintext_tokenized\"])]\n",
        "  flat_combined = np.array([item for sublist in combined for item in sublist])\n",
        "\n",
        "  dictionary = Counter(flat_combined) # create dict\n",
        "  dictionary_sorted = sorted(dictionary, key=dictionary.get, reverse=True) # sorted dict\n",
        "\n",
        "  text_id = [[dictionary_sorted.index(word) for word in text] for text in combined] # indexes of doc location\n",
        "\n",
        "  text_lens = [len(i) for i in combined] # length of all doc lists\n",
        "  max_length = max(text_lens) # max length of doc\n",
        "  dictionary_sorted.append('[PAD]') # add padding token to dictionary\n",
        "  pad_index = dictionary_sorted.index('[PAD]') # get pad index\n",
        "\n",
        "  padded_text_id = [(i + [pad_index] * (max_length - len(i))) for i in text_id] # ad padding to all tex id\n",
        "\n",
        "  return padded_text_id, text_lens, df.labels.values, meta\n",
        "  "
      ]
    },
    {
      "cell_type": "code",
      "execution_count": null,
      "metadata": {
        "id": "DS3nsUzU5Q4d"
      },
      "outputs": [],
      "source": [
        "# Functions to create BoW vectors\n",
        "def make_bow_vector(sentence, countt_comb):\n",
        "    vec = np.zeros(len(countt_comb))\n",
        "    for word in sentence:\n",
        "        vec[countt_comb[word]] += 1\n",
        "    return vec\n",
        "\n",
        "def getLogRes(dft,dfv):\n",
        "  t_comb = [eval(que) + eval(doc) for que, doc in zip(dft[\"question_text_tokenized\"],dft[\"document_plaintext_tokenized\"])]\n",
        "  v_comb = [eval(que) + eval(doc) for que, doc in zip(dfv[\"question_text_tokenized\"],dfv[\"document_plaintext_tokenized\"])]\n",
        "\n",
        "  flat_tcomb = np.array([item for sublist in t_comb for item in sublist])\n",
        "  flat_vcomb = np.array([item for sublist in v_comb for item in sublist])\n",
        "\n",
        "  countt_comb = Counter(flat_tcomb)\n",
        "\n",
        "  l1 = [make_bow_vector(comb,countt_comb) for comb in t_comb]\n",
        "  v1 = [make_bow_vector(comb,countt_comb) for comb in v_comb]\n",
        "\n",
        "  X_train = np.array(l1)\n",
        "  X_val = np.array(v1)\n",
        "\n",
        "  y_train = dft.labels.values\n",
        "  y_val = dfv.labels.values\n",
        "\n",
        "  clf = LogisticRegression(C=1000, penalty='l1', random_state=1, solver='liblinear').fit(X_train, y_train)\n",
        "  return clf, countt_comb\n"
      ]
    },
    {
      "cell_type": "code",
      "execution_count": null,
      "metadata": {
        "id": "z44I3fhT6_xY"
      },
      "outputs": [],
      "source": [
        "def getFlat(dft, countt_comb):\n",
        "  t_comb = [eval(que) + eval(doc) for que, doc in zip(dft[\"question_text_tokenized\"],dft[\"document_plaintext_tokenized\"])]\n",
        "  flat_tcomb = np.array([item for sublist in t_comb for item in sublist])\n",
        "  l1 = [make_bow_vector(comb,countt_comb) for comb in t_comb]\n",
        "  return l1"
      ]
    },
    {
      "cell_type": "code",
      "execution_count": null,
      "metadata": {
        "id": "yFdAu6ljMjeg"
      },
      "outputs": [],
      "source": [
        "# import training data\n",
        "dft_eng = pd.read_csv('../../data/dft_eng_word_freq.csv')\n",
        "\n",
        "# import validation data\n",
        "dfv_eng = pd.read_csv('../../data/dfv_eng_word_freq.csv')"
      ]
    },
    {
      "cell_type": "code",
      "execution_count": null,
      "metadata": {
        "id": "Wte_sU0o02Wk"
      },
      "outputs": [],
      "source": [
        "import pickle"
      ]
    },
    {
      "cell_type": "code",
      "execution_count": null,
      "metadata": {
        "colab": {
          "base_uri": "https://localhost:8080/"
        },
        "id": "tcIsxMJh00eo",
        "outputId": "2ac1fa37-2f77-4059-bb41-a2f6e63b6edd"
      },
      "outputs": [
        {
          "output_type": "stream",
          "name": "stderr",
          "text": [
            "/usr/local/lib/python3.7/dist-packages/sklearn/base.py:338: UserWarning: Trying to unpickle estimator LogisticRegression from version 1.1.2 when using version 1.0.2. This might lead to breaking code or invalid results. Use at your own risk. For more info please refer to:\n",
            "https://scikit-learn.org/stable/modules/model_persistence.html#security-maintainability-limitations\n",
            "  UserWarning,\n"
          ]
        }
      ],
      "source": [
        "logres_model = pickle.load(open('logres_model.sav', 'rb'))"
      ]
    },
    {
      "cell_type": "code",
      "execution_count": null,
      "metadata": {
        "id": "4w_cHCiw1Kda",
        "colab": {
          "base_uri": "https://localhost:8080/"
        },
        "outputId": "991552e2-2d88-485d-b08d-866fb4df4397"
      },
      "outputs": [
        {
          "output_type": "execute_result",
          "data": {
            "text/plain": [
              "LogisticRegression(C=1000, penalty='l1', random_state=1, solver='liblinear')"
            ]
          },
          "metadata": {},
          "execution_count": 25
        }
      ],
      "source": [
        "logres_model"
      ]
    },
    {
      "cell_type": "code",
      "execution_count": null,
      "metadata": {
        "id": "dx2oXD5S5XED"
      },
      "outputs": [],
      "source": [
        "logres, countt_comb = getLogRes(dft_eng,dfv_eng)"
      ]
    },
    {
      "cell_type": "code",
      "execution_count": null,
      "metadata": {
        "id": "jJTU84S5hDhG"
      },
      "outputs": [],
      "source": [
        "from sklearn.utils import shuffle\n",
        "dft_eng = shuffle(dft_eng)\n",
        "dft_eng.reset_index(inplace=True, drop=True)\n",
        "dfv_eng = shuffle(dfv_eng)\n",
        "dfv_eng.reset_index(inplace=True, drop=True)"
      ]
    },
    {
      "cell_type": "code",
      "execution_count": null,
      "metadata": {
        "id": "ZaN2n9up9iz1"
      },
      "outputs": [],
      "source": [
        "train_df = dft_eng.iloc[:2000]\n",
        "valid_df = dft_eng.iloc[2000:3000]\n",
        "test_df = dfv_eng"
      ]
    },
    {
      "cell_type": "code",
      "execution_count": null,
      "metadata": {
        "id": "9H4Xtj7I5j_X"
      },
      "outputs": [],
      "source": [
        "train_pred = logres.predict(getFlat(train_df,countt_comb))\n",
        "valid_pred = logres.predict(getFlat(valid_df,countt_comb))\n",
        "test_pred = logres.predict(getFlat(test_df,countt_comb))"
      ]
    },
    {
      "cell_type": "code",
      "execution_count": null,
      "metadata": {
        "id": "HJnXbJY46fQX"
      },
      "outputs": [],
      "source": [
        "wf_train = train_df.word_frequency_score.values\n",
        "wf_valid = valid_df.word_frequency_score.values\n",
        "wf_test = test_df.word_frequency_score.values"
      ]
    },
    {
      "cell_type": "code",
      "execution_count": null,
      "metadata": {
        "id": "qRAgID1f-FcC"
      },
      "outputs": [],
      "source": [
        "train_meta = []\n",
        "valid_meta = []\n",
        "test_meta = []\n",
        "for index in range(len(wf_train)):\n",
        "  train_meta.append([train_pred[index],wf_train[index]])\n",
        "for index in range(len(wf_valid)):\n",
        "  valid_meta.append([valid_pred[index],wf_valid[index]])\n",
        "for index in range(len(wf_test)):\n",
        "  test_meta.append([test_pred[index],wf_test[index]])"
      ]
    },
    {
      "cell_type": "code",
      "execution_count": null,
      "metadata": {
        "id": "CzhA6izn3meT"
      },
      "outputs": [],
      "source": [
        "train_dataset = create_batch(train_df,train_meta) # 500 for training\n",
        "valid_dataset = create_batch(valid_df,valid_meta) # 500 for validation\n",
        "test_dataset = create_batch(test_df,test_meta) # rest of training for testing"
      ]
    },
    {
      "cell_type": "code",
      "execution_count": null,
      "metadata": {
        "id": "b5PAanvZ4K37"
      },
      "outputs": [],
      "source": [
        "#collate_fn=collate_batch_bilstm\n",
        "def collate_batch_bilstm_t(data):\n",
        "    #return torch.tensor(train_dataset[0]), torch.tensor(train_dataset[1]), torch.tensor(train_dataset[2])\n",
        "    return torch.tensor([f for f in train_dataset[0]]), torch.tensor([f for f in train_dataset[1]]), torch.tensor([f for f in train_dataset[2]]), torch.tensor([f for f in train_dataset[3]]).float()\n",
        "\n",
        "def collate_batch_bilstm_v(data):\n",
        "    #return torch.tensor(train_dataset[0]), torch.tensor(train_dataset[1]), torch.tensor(train_dataset[2])\n",
        "    return torch.tensor([f for f in valid_dataset[0]]), torch.tensor([f for f in valid_dataset[1]]), torch.tensor([f for f in valid_dataset[2]]), torch.tensor([f for f in valid_dataset[3]]).float()\n",
        "\n",
        "def collate_batch_bilstm_test(data):\n",
        "    #return torch.tensor(train_dataset[0]), torch.tensor(train_dataset[1]), torch.tensor(train_dataset[2])\n",
        "    return torch.tensor([f for f in test_dataset[0]]), torch.tensor([f for f in test_dataset[1]]), torch.tensor([f for f in test_dataset[2]]), torch.tensor([f for f in test_dataset[3]]).float()\n"
      ]
    },
    {
      "cell_type": "code",
      "execution_count": null,
      "metadata": {
        "id": "sKAbkfjDhGPm",
        "colab": {
          "base_uri": "https://localhost:8080/"
        },
        "outputId": "2623f1ea-cbf2-482d-c3c9-ad7a4582a012"
      },
      "outputs": [
        {
          "output_type": "stream",
          "name": "stderr",
          "text": [
            "/usr/local/lib/python3.7/dist-packages/torch/utils/data/dataloader.py:566: UserWarning: This DataLoader will create 8 worker processes in total. Our suggested max number of worker in current system is 2, which is smaller than what this DataLoader is going to create. Please be aware that excessive worker creation might get DataLoader running slow or even freeze, lower the worker number to avoid potential slowness/freeze if necessary.\n",
            "  cpuset_checked))\n"
          ]
        }
      ],
      "source": [
        "train_dl = DataLoader(train_dataset, batch_size=32, shuffle=True,collate_fn=collate_batch_bilstm_t, num_workers=8)\n",
        "valid_dl = DataLoader(valid_dataset, batch_size=32,collate_fn=collate_batch_bilstm_v, num_workers=8)\n",
        "test_dl = DataLoader(test_dataset, batch_size=32, collate_fn=collate_batch_bilstm_test, num_workers=8)"
      ]
    },
    {
      "cell_type": "code",
      "execution_count": null,
      "metadata": {
        "id": "1vuyuUG5owiN",
        "colab": {
          "base_uri": "https://localhost:8080/"
        },
        "outputId": "7edec37e-53ce-42f7-8b6f-367db5bceadf"
      },
      "outputs": [
        {
          "output_type": "stream",
          "name": "stderr",
          "text": [
            "/usr/local/lib/python3.7/dist-packages/torch/nn/modules/rnn.py:65: UserWarning: dropout option adds dropout after all but last recurrent layer, so non-zero dropout expects num_layers greater than 1, but got dropout=0.1 and num_layers=1\n",
            "  \"num_layers={}\".format(dropout, num_layers))\n"
          ]
        }
      ],
      "source": [
        "# Define the model\n",
        "class BiLSTMNetwork(nn.Module):\n",
        "    \"\"\"\n",
        "    Basic BiLSTM network\n",
        "    \"\"\"\n",
        "    def __init__(\n",
        "            self,\n",
        "            #meta_data,\n",
        "            pretrained_embeddings: torch.tensor,\n",
        "            lstm_dim: int,\n",
        "            dropout_prob: float = 0.1,\n",
        "            n_classes: int = 2\n",
        "    ):\n",
        "        \"\"\"\n",
        "        Initializer for basic BiLSTM network\n",
        "        :param pretrained_embeddings: A tensor containing the pretrained BPE embeddings\n",
        "        :param lstm_dim: The dimensionality of the BiLSTM network\n",
        "        :param dropout_prob: Dropout probability\n",
        "        :param n_classes: The number of output classes\n",
        "        \"\"\"\n",
        "\n",
        "        # First thing is to call the superclass initializer\n",
        "        super(BiLSTMNetwork, self).__init__()\n",
        "\n",
        "        # We'll define the network in a ModuleDict, which makes organizing the model a bit nicer\n",
        "        # The components are an embedding layer, a 2 layer BiLSTM, and a feed-forward output layer\n",
        "        self.model = nn.ModuleDict({\n",
        "            'embeddings': nn.Embedding.from_pretrained(pretrained_embeddings, padding_idx=pretrained_embeddings.shape[0] - 1),\n",
        "            'bilstm': nn.LSTM(\n",
        "                pretrained_embeddings.shape[1],\n",
        "                lstm_dim,\n",
        "                1,\n",
        "                batch_first=True,\n",
        "                dropout=dropout_prob,\n",
        "                bidirectional=True),\n",
        "            'cls': nn.Linear(2*lstm_dim + 2, n_classes)\n",
        "        })\n",
        "        self.n_classes = n_classes\n",
        "        self.dropout = nn.Dropout(p=dropout_prob)\n",
        "\n",
        "        # Initialize the weights of the model\n",
        "        self._init_weights()\n",
        "\n",
        "    def _init_weights(self):\n",
        "        all_params = list(self.model['bilstm'].named_parameters()) + \\\n",
        "                     list(self.model['cls'].named_parameters())\n",
        "        for n,p in all_params:\n",
        "            if 'weight' in n:\n",
        "                nn.init.xavier_normal_(p)\n",
        "            elif 'bias' in n:\n",
        "                nn.init.zeros_(p)\n",
        "\n",
        "    def forward(self, inputs, input_lens, labels, meta_input):\n",
        "        \"\"\"\n",
        "        Defines how tensors flow through the model\n",
        "        :param inputs: (b x sl) The IDs into the vocabulary of the input samples\n",
        "        :param input_lens: (b) The length of each input sequence\n",
        "        :param labels: (b) The label of each sample\n",
        "        :return: (loss, logits) if `labels` is not None, otherwise just (logits,)\n",
        "        \"\"\"\n",
        "\n",
        "        # Get embeddings (b x sl x edim)\n",
        "        embeds = self.model['embeddings'](inputs)\n",
        "\n",
        "        # Pack padded: This is necessary for padded batches input to an RNN\n",
        "        lstm_in = nn.utils.rnn.pack_padded_sequence(\n",
        "            embeds,\n",
        "            input_lens.cpu(),\n",
        "            batch_first=True,\n",
        "            enforce_sorted=False\n",
        "        )\n",
        "\n",
        "        # Pass the packed sequence through the BiLSTM\n",
        "        lstm_out, hidden = self.model['bilstm'](lstm_in)\n",
        "\n",
        "        # Unpack the packed sequence --> (b x sl x 2*lstm_dim)\n",
        "        lstm_out,_ = nn.utils.rnn.pad_packed_sequence(lstm_out, batch_first=True)\n",
        "\n",
        "        #cat = (torch.cat((self.meta_input, lstm_out)),)\n",
        "        #print(cat.shape)\n",
        "        #print(lstm_out.shape)\n",
        "        #print(lstm_out)\n",
        "\n",
        "        # Max pool along the last dimension\n",
        "        ff_in = self.dropout(torch.max(lstm_out, 1)[0])\n",
        "        # Some magic to get the last output of the BiLSTM for classification (b x 2*lstm_dim)\n",
        "        #ff_in = lstm_out.gather(1, input_lens.view(-1,1,1).expand(lstm_out.size(0), 1, lstm_out.size(2)) - 1).squeeze()\n",
        "\n",
        "        ff_in = torch.cat((ff_in, meta_input), 1)\n",
        "\n",
        "        # Get logits (b x n_classes)\n",
        "        logits = self.model['cls'](ff_in).view(-1, self.n_classes)\n",
        "        outputs = (logits,)\n",
        "        \n",
        "        if labels is not None:\n",
        "            # Xentropy loss\n",
        "            loss_fn = nn.CrossEntropyLoss()\n",
        "            loss = loss_fn(logits, labels)\n",
        "            outputs = (loss,) + outputs\n",
        "\n",
        "        return outputs\n",
        "\n",
        "\n",
        "# Create the model\n",
        "model = BiLSTMNetwork(\n",
        "    pretrained_embeddings=torch.FloatTensor(pretrained_embeddings), \n",
        "    lstm_dim=lstm_dim, \n",
        "    dropout_prob=0.1, \n",
        "    n_classes=2\n",
        "  ).to(device)"
      ]
    },
    {
      "cell_type": "code",
      "execution_count": null,
      "metadata": {
        "id": "wzwk-oeaxwe5"
      },
      "outputs": [],
      "source": [
        "# Create the optimizer\n",
        "optimizer = Adam(model.parameters(), lr=lr)\n",
        "\n",
        "# Train\n",
        "model, losses = train(model, train_dl, valid_dl, optimizer, n_epochs, device)"
      ]
    },
    {
      "cell_type": "code",
      "execution_count": null,
      "metadata": {
        "colab": {
          "base_uri": "https://localhost:8080/",
          "height": 283
        },
        "id": "lU4kxptY-Z3t",
        "outputId": "15547997-c8dc-4794-ec8c-d0b2aa946f6f"
      },
      "outputs": [
        {
          "output_type": "execute_result",
          "data": {
            "text/plain": [
              "[<matplotlib.lines.Line2D at 0x7f48626f1810>]"
            ]
          },
          "metadata": {},
          "execution_count": 37
        },
        {
          "output_type": "display_data",
          "data": {
            "text/plain": [
              "<Figure size 432x288 with 1 Axes>"
            ],
            "image/png": "[encoded data removed]"
          },
          "metadata": {
            "needs_background": "light"
          }
        }
      ],
      "source": [
        "import matplotlib.pyplot as plt\n",
        "\n",
        "plt.plot(losses)"
      ]
    },
    {
      "cell_type": "code",
      "execution_count": null,
      "metadata": {
        "colab": {
          "base_uri": "https://localhost:8080/",
          "height": 190,
          "referenced_widgets": [
            "279c35b3a1ff47e4b0570c5556fad2bc",
            "a930de6b0ae94e028388039ed1e8a103",
            "c5f595d646854fecb8441984abeda2bb",
            "80e06d3b54fc4e71888c78037b4cda35",
            "4b917349146f4d7e96717dfe41fa2ca3",
            "9df84bb3f7f848eb867f3ce9c5b5f7b6",
            "bf86ea94c8cd41879a99ff3cfea3dc3b",
            "959f18f7d4554ebd86613ca6899e56bb",
            "8089a657587c4c48ad726a80199e0463",
            "b6b8eb562fa242f2a38f3c496d89b382",
            "ec079e384af7468f8631df46de6c5783",
            "df5a4c730b344067bc78310744c5742b",
            "f77cbe80fd8140c38cc619b0b08addaf",
            "1c17b67ca3c543d184cb1c4d40408466",
            "050cb51c9c1946a094947f35eee29fb5",
            "534c97c8e2e9490fbfa074b30bcff7a2",
            "469014aa4b5049b2af1c8bbca7bc7aad",
            "5cbdac156edd4dae86ca95e68101c4a5",
            "0f5897f78ea54e829ff0b6269d83554b",
            "9f644e6b070a4262aa77591f755e0f77",
            "bb520b3bfd1d4a49afd9e3c3279f4a39",
            "601817ac87034ed7813a996b6fc9dc53"
          ]
        },
        "id": "6QMiBvC3x0lq",
        "outputId": "536cf959-ef96-4a93-9e49-de453f3d5021"
      },
      "outputs": [
        {
          "output_type": "stream",
          "name": "stderr",
          "text": [
            "/usr/local/lib/python3.7/dist-packages/ipykernel_launcher.py:16: TqdmDeprecationWarning: This function will be removed in tqdm==5.0.0\n",
            "Please use `tqdm.notebook.tqdm` instead of `tqdm.tqdm_notebook`\n",
            "  app.launch_new_instance()\n"
          ]
        },
        {
          "output_type": "display_data",
          "data": {
            "text/plain": [
              "Evaluation:   0%|          | 0/1 [00:00<?, ?it/s]"
            ],
            "application/vnd.jupyter.widget-view+json": {
              "version_major": 2,
              "version_minor": 0,
              "model_id": "279c35b3a1ff47e4b0570c5556fad2bc"
            }
          },
          "metadata": {}
        },
        {
          "output_type": "display_data",
          "data": {
            "text/plain": [
              "Evaluation:   0%|          | 0/1 [00:00<?, ?it/s]"
            ],
            "application/vnd.jupyter.widget-view+json": {
              "version_major": 2,
              "version_minor": 0,
              "model_id": "df5a4c730b344067bc78310744c5742b"
            }
          },
          "metadata": {}
        },
        {
          "output_type": "stream",
          "name": "stdout",
          "text": [
            "Valiation accuracy: 0.612\n",
            "Test accuracy: 0.5898989898989899\n"
          ]
        }
      ],
      "source": [
        "val_acc,_,_ = evaluate(model, valid_dl)\n",
        "test_acc,labs,logs = evaluate(model, test_dl)\n",
        "print(f\"Valiation accuracy: {val_acc}\")\n",
        "print(f\"Test accuracy: {test_acc}\")"
      ]
    },
    {
      "cell_type": "code",
      "source": [
        "max(test_dataset[0][0])"
      ],
      "metadata": {
        "colab": {
          "base_uri": "https://localhost:8080/"
        },
        "id": "rC22_R7WdB5e",
        "outputId": "dd6b1c8e-9a05-47cb-9443-969a0d57ed01"
      },
      "execution_count": null,
      "outputs": [
        {
          "output_type": "execute_result",
          "data": {
            "text/plain": [
              "18184"
            ]
          },
          "metadata": {},
          "execution_count": 186
        }
      ]
    },
    {
      "cell_type": "code",
      "source": [
        "np.shape(test_dataset[0][0][:768])"
      ],
      "metadata": {
        "colab": {
          "base_uri": "https://localhost:8080/"
        },
        "id": "VsGreiC9dB7i",
        "outputId": "b45f562a-052a-4a12-b3d6-966d2b1764c8"
      },
      "execution_count": null,
      "outputs": [
        {
          "output_type": "execute_result",
          "data": {
            "text/plain": [
              "(1033,)"
            ]
          },
          "metadata": {},
          "execution_count": 185
        }
      ]
    },
    {
      "cell_type": "code",
      "source": [
        "indexx = 3\n",
        "lln = 768"
      ],
      "metadata": {
        "id": "0hfKVw6HdEX0"
      },
      "execution_count": null,
      "outputs": []
    },
    {
      "cell_type": "code",
      "source": [],
      "metadata": {
        "id": "PlM0m2Nlhnwf"
      },
      "execution_count": null,
      "outputs": []
    },
    {
      "cell_type": "code",
      "source": [
        "test_hidden = [ 2.3489e-02, -1.9652e-02, -8.0517e-01,  2.3271e-01, -1.9345e-01,\n",
        "          1.1622e-01,  1.5096e+00,  4.9098e-01, -2.4209e-01,  2.3094e-01,\n",
        "          1.3195e-01,  5.6179e-02, -2.3290e-01, -3.8317e-01,  1.5034e-01,\n",
        "         -1.8757e-01,  3.7449e-02,  5.8295e-02,  2.5460e-01,  3.6911e-01,\n",
        "         -2.7772e-01,  1.4857e-01,  7.9014e-02,  1.3396e-01, -1.5406e-01,\n",
        "         -7.0445e-02, -2.7499e-02,  2.5383e-01, -1.1248e-01,  1.9267e-01,\n",
        "         -1.6625e-01, -3.2235e-01, -6.9699e-02,  1.8866e-01,  1.6515e-02,\n",
        "          3.9781e-03,  2.8571e+01,  2.5125e-01,  1.1481e-01,  4.0320e-01,\n",
        "          9.3653e-02, -1.2727e-01, -8.5746e-02,  8.3466e-02,  3.6566e-01,\n",
        "          3.8953e-02,  1.7120e-01, -8.7254e-02,  2.5525e-01,  4.9299e-01,\n",
        "         -9.8023e-02,  7.1975e-02,  9.5437e-02, -5.8815e-02,  6.5798e-02,\n",
        "          3.0938e-01, -1.6594e-01,  7.4061e-02,  3.3402e-01, -3.8133e-01,\n",
        "         -2.5222e-01, -2.6343e-01,  8.1540e-02,  2.8119e-01, -1.2095e+00,\n",
        "         -1.2616e-01,  8.0924e-02,  1.6842e-01, -7.9190e-02,  1.4932e-03,\n",
        "          2.1756e-01, -4.4241e-01, -2.9740e-01, -2.4704e-02, -2.5889e-02,\n",
        "         -5.0332e-02, -7.0127e-02,  5.1969e-01,  7.3898e-02,  2.0555e-01,\n",
        "          1.3511e-01,  1.4791e-01, -1.0165e-01,  3.0112e-01, -1.6640e-01,\n",
        "          8.9736e-02,  3.8434e-01, -1.1092e+00,  1.1592e-01,  8.0054e-02,\n",
        "          1.8934e-01, -2.2823e-01,  1.0566e-01, -6.6914e-02, -7.3013e-02,\n",
        "          1.3020e-01, -2.5790e-01, -3.1639e-01, -8.1594e-02,  9.3975e-02,\n",
        "          1.8560e-01,  5.4203e-03,  7.2580e-01,  2.1755e-01,  3.0757e-02,\n",
        "          2.0996e-01,  6.5362e-02,  5.8346e-01,  1.7724e-01,  5.9659e-02,\n",
        "          1.2155e-02, -9.7088e-02,  1.3498e-01, -1.4506e-01,  4.6935e-01,\n",
        "         -1.0578e-01, -5.4093e-02,  1.6526e-01,  4.3231e-02, -2.9321e-01,\n",
        "         -1.2292e-01,  3.2157e-01,  4.1756e-02,  3.1897e-01, -2.9672e-01,\n",
        "         -3.5798e-02,  1.1268e-01, -1.6484e-02,  4.5237e-02, -3.3863e-02,\n",
        "         -6.5553e-02,  2.0176e-02,  2.0300e-01, -6.1984e-02,  2.5405e-01,\n",
        "          2.4833e-01, -1.0831e-01,  1.0384e-01,  6.1320e-01,  2.4568e-01,\n",
        "          4.1367e-02,  1.8722e-01,  1.0391e-03, -1.8331e-01,  2.1131e-02,\n",
        "          1.6036e-01, -4.1865e-02, -3.5849e-01,  9.7245e-02, -1.9246e-01,\n",
        "          1.7013e-01,  3.6509e-01, -2.2956e-01, -2.1050e-01,  2.3563e-01,\n",
        "         -3.1667e-01,  4.6011e-01,  1.5401e-01,  1.6196e-01, -2.1306e-01,\n",
        "          8.7860e-01,  1.4556e-01,  1.0811e-03,  8.1441e-02, -5.3469e-02,\n",
        "         -1.4983e-01,  2.8503e-01, -1.0789e+00, -3.0490e-01,  1.0445e-01,\n",
        "          1.0992e-01, -4.8824e-02,  8.9542e-02, -7.8820e-02, -7.4835e-02,\n",
        "          2.0496e-01, -5.7934e-01,  2.0652e-01, -7.2285e-02, -1.0305e-01,\n",
        "         -1.8633e-01,  1.6993e-01,  1.8863e-01, -3.0858e-01,  7.7730e-02,\n",
        "         -2.7276e-01, -9.0328e-02, -2.3153e-01, -8.2389e-03, -3.1919e-01,\n",
        "         -5.8681e-03,  2.5248e-01, -2.9395e-02, -3.3840e-02,  8.8153e-02,\n",
        "          4.0934e-01, -2.6508e-02,  2.2648e-01,  5.3682e-02,  4.5138e-01,\n",
        "          4.5374e-01, -1.5323e-01,  1.7555e-01,  9.3681e-02, -6.4126e-02,\n",
        "         -1.9169e-02,  1.0158e-01,  1.7134e-01,  3.5041e-01, -4.3368e-02,\n",
        "          4.6975e-01, -3.9586e-01, -6.8831e-01, -3.9104e-02, -1.1507e-02,\n",
        "         -5.8384e-03,  2.6384e-01,  5.4111e-02, -2.2815e-01,  4.2014e-02,\n",
        "          2.3474e-01, -2.3914e-01,  2.3444e-01,  3.0477e-01,  5.6069e-02,\n",
        "          1.9682e-01, -1.6047e-01,  2.6414e-01, -7.4207e-02,  3.2905e-02,\n",
        "         -1.8620e-02,  1.1467e-01,  3.5728e-01,  2.0438e-01,  3.0993e-01,\n",
        "          3.7942e-01,  1.4458e-01, -6.9525e-02,  1.3307e-03,  2.0778e-01,\n",
        "         -1.1060e-01,  7.5334e-02,  8.2126e-02,  5.2181e-02, -1.2561e-01,\n",
        "          3.6827e-02, -1.6737e-01,  2.1668e-02, -1.2972e-01,  2.1182e-01,\n",
        "         -1.8073e-02, -1.6736e-01, -2.3879e-02, -3.6062e-01,  3.5836e-01,\n",
        "          3.6073e-01,  4.4964e-01, -9.0228e-02, -2.5312e-01,  2.0940e-01,\n",
        "         -1.6016e-01,  1.2480e-01, -7.3998e-02,  3.1464e-01, -2.6245e-01,\n",
        "         -6.7282e-02, -1.1015e+00, -7.7554e-02,  7.0492e-02, -1.1684e-01,\n",
        "         -2.4447e-01,  9.7843e-02, -6.7041e-02,  3.0963e-01, -7.6513e-02,\n",
        "          6.7542e-02,  4.5795e-02, -2.0284e-01, -1.1203e-01, -1.0879e-02,\n",
        "          1.9501e-01,  1.5807e-01,  1.6082e-01, -9.0979e-02, -1.4008e-01,\n",
        "          3.3529e-01,  2.8747e-01,  7.4856e-02,  5.3770e-01, -4.0959e-01,\n",
        "         -1.1869e-01, -2.5525e-01,  2.3965e-01, -1.5099e-01, -3.3705e-01,\n",
        "         -2.9711e-03,  8.8844e-02, -7.1579e-02, -4.4096e-01,  1.5713e-01,\n",
        "          1.0147e-01,  3.1363e-02,  4.3857e-02,  3.4769e-01,  4.2291e-02,\n",
        "         -7.3859e-02, -2.1072e-01, -2.6550e-01, -1.1597e+00, -4.4543e-03,\n",
        "          1.0658e-01, -1.7351e-01,  2.3705e-01,  6.5626e-02, -1.3599e+01,\n",
        "         -2.7460e-02,  6.6543e-02,  2.2980e-01,  2.1672e-01,  2.0669e-01,\n",
        "         -6.8668e-01,  4.0513e-02, -1.1103e-01, -1.5231e-01,  1.0988e-01,\n",
        "          1.0104e-02,  1.5381e-01,  9.7348e-02, -1.8832e-01, -1.5408e-01,\n",
        "         -3.6147e-02,  1.9039e-01, -2.2552e-02,  1.2736e-01, -4.6667e-02,\n",
        "          2.9557e-01,  2.0613e-01,  3.5710e-01,  1.6937e-01,  5.8277e-03,\n",
        "         -1.8637e-01, -1.0027e-01,  1.8135e-01, -1.4135e-01, -5.4942e-02,\n",
        "         -1.8645e-01,  4.9356e-01, -6.1049e-02,  4.1885e-02, -2.9127e-01,\n",
        "         -1.7565e-01, -2.7679e-01, -1.2245e-01,  1.5870e-02, -1.8204e-01,\n",
        "          3.0044e-02, -4.5881e-01,  1.2017e-01, -3.0850e-01,  1.6871e-01,\n",
        "         -9.0902e-02, -2.0869e-01,  9.0347e-01,  2.1266e-01, -2.0317e-01,\n",
        "         -1.3835e-01, -5.2189e-02, -1.0955e-01, -9.5209e-02,  5.2310e-03,\n",
        "          1.2295e-01, -5.0830e-02, -2.9446e-01, -1.1867e+00, -6.5417e+00,\n",
        "          3.1821e-01, -2.6244e-01,  3.0860e-01,  1.7352e-01, -1.2139e-01,\n",
        "         -2.6425e-01,  1.0248e-01, -1.6553e-01,  3.2554e-02,  5.9940e-02,\n",
        "         -1.2280e-01, -2.6388e-01, -9.6306e-02, -3.2292e-02, -1.6377e-01,\n",
        "         -1.5244e-01, -2.7912e-01, -2.0771e-01,  2.6404e-02,  1.6608e-01,\n",
        "         -1.8599e-01,  2.7388e-01, -2.9756e-01,  6.4693e-02,  2.1539e-01,\n",
        "         -2.1288e-01,  1.1083e-01, -3.3873e-01, -1.5266e-01,  4.4624e-01,\n",
        "         -3.2958e-01, -1.6984e-01, -5.4012e-02,  2.4679e+00,  6.3121e-02,\n",
        "          3.6044e-01,  1.3681e-01,  1.0998e-01, -8.1801e-02,  8.8693e-02,\n",
        "          1.3377e-01, -1.9011e-04,  1.9490e-01,  2.0623e-01, -1.0100e-01,\n",
        "         -2.6262e-01,  2.6824e-02, -2.0414e-01, -1.5220e-01, -2.4321e-01,\n",
        "          5.6777e-02, -3.7991e-01, -5.4583e-02,  1.3053e-01, -4.6118e-02,\n",
        "          3.8873e+01,  1.1164e-01,  1.2362e-01,  3.8051e-02,  3.7093e-02,\n",
        "         -9.5152e-02, -3.4352e-02, -4.1111e-02,  3.8831e-02,  9.7263e-01,\n",
        "         -1.3801e-01, -3.5389e-02, -3.9058e-01,  9.2927e-02,  2.5869e-01,\n",
        "         -1.4897e-01, -1.6344e-01,  1.0757e+00, -1.2521e-01,  2.7719e-02,\n",
        "          8.5694e-02, -3.7067e-01,  5.3378e-02,  3.2250e-01,  1.7700e-01,\n",
        "          7.6312e-01,  1.0376e-01, -9.7875e-02,  1.9347e-01, -2.0028e-02,\n",
        "          5.7270e-02,  1.9937e-01,  1.6348e-01,  3.0150e-02,  1.6001e-02,\n",
        "          9.2969e-02, -1.8197e-01, -3.6467e-01, -1.8254e-02,  1.6426e-01,\n",
        "         -1.0362e-01, -2.8101e-02,  2.2592e-01, -4.9881e-03, -1.4858e-01,\n",
        "         -8.0992e-03,  3.1133e-02,  1.9699e-01, -2.2695e-01, -1.1995e+00,\n",
        "         -9.6329e-01,  1.1861e+00,  1.6605e-01,  1.4565e-01,  3.9657e-01,\n",
        "         -2.4186e-01,  1.5135e-01, -2.4772e-01,  1.7709e-01, -2.8960e-01,\n",
        "          2.2532e-02,  8.2124e-02, -1.5625e-01,  1.3505e-01,  1.1425e-01,\n",
        "          1.4957e-01,  1.1455e+02,  2.0402e-01,  1.7132e-01,  9.4734e-02,\n",
        "         -4.4257e-02, -4.5861e-02, -4.3651e-01,  3.2765e-01,  1.3657e-01,\n",
        "         -1.4658e-01, -5.0870e-02,  1.8158e-01,  1.8751e-02,  6.7941e-03,\n",
        "         -8.1464e-02,  1.1816e-03,  1.9824e-01, -1.6207e-01, -8.7096e-03,\n",
        "         -6.6847e-02,  7.8848e-02, -1.4351e-01, -2.2173e-01, -1.7870e-01,\n",
        "         -1.0545e-01, -1.9878e-01, -6.0969e-02, -8.0919e-03, -3.2356e-01,\n",
        "         -1.8747e-01, -5.1768e-01, -6.6179e-01,  4.3632e-01,  1.0248e-01,\n",
        "          3.3049e-02,  1.0928e-01,  1.4623e-01, -2.5932e-01, -5.8783e-01,\n",
        "          5.6644e-01, -2.2462e-02, -1.1157e-01, -2.3022e-01, -9.4696e-02,\n",
        "          6.6968e-01, -1.0980e-01,  4.8367e-02, -5.6568e-01,  1.2538e-01,\n",
        "          2.0656e-01,  1.5795e-01,  5.8867e-02, -4.8199e-03, -8.2604e-02,\n",
        "         -1.0474e-01,  1.2660e-01,  2.7099e-01, -1.5880e-01, -6.8416e-02,\n",
        "         -2.9390e-01, -1.9033e-01,  1.0577e-01, -1.7381e-01, -1.9858e-01,\n",
        "          8.0753e-02,  3.2924e-01, -1.4797e-01, -2.4967e-02, -1.2309e-01,\n",
        "          2.9394e-02, -1.6955e-01,  4.1727e-03,  7.8247e-03,  9.6256e-02,\n",
        "          2.0871e-01, -1.1504e-01,  4.6845e-02, -1.3055e-01, -1.2326e-01,\n",
        "          3.1730e-01,  5.7930e-02,  1.7446e-01, -5.3452e-02, -1.2383e-01,\n",
        "         -7.5797e-02,  2.4824e-01,  5.0922e-01,  5.4316e-02,  1.8660e-01,\n",
        "          1.9153e-01,  1.6047e-02,  2.4775e-02,  4.0786e-01, -2.3566e-02,\n",
        "          1.4895e-01, -3.5257e-01, -2.6058e-01,  2.4246e-01,  1.3442e-01,\n",
        "          7.3993e-02, -1.2506e-01,  5.7228e-03,  1.8430e-01,  2.8731e-02,\n",
        "         -2.4537e-01,  2.3806e-01, -1.8849e-01,  3.5788e-01, -5.9689e-02,\n",
        "         -9.7543e-02,  1.8465e-01,  7.0805e-02,  2.0505e-01, -1.1602e-02,\n",
        "         -7.6586e-02,  1.3640e-02,  3.0271e-01,  1.6918e-01, -2.2236e-01,\n",
        "         -3.0428e-02,  2.2420e-01, -3.5906e-01, -9.6284e-02, -2.2439e-02,\n",
        "          1.1423e-01, -2.1146e-01,  1.9093e-01, -4.1867e-01,  1.5350e-01,\n",
        "         -7.6160e-02, -1.1343e-01, -1.8467e+00,  1.3854e-01, -1.4253e-01,\n",
        "          9.3831e-02, -2.2055e-02, -1.3783e-02,  7.2149e-03,  1.3280e-02,\n",
        "         -1.5020e-02,  1.8638e-03, -3.6161e-01,  2.0599e-01, -6.6282e-02,\n",
        "          1.4925e-01,  1.6153e-02,  2.4821e-01,  2.2964e-01, -1.2749e-01,\n",
        "         -1.4912e-01,  1.6028e-01,  7.7548e-02,  2.1666e-01,  1.6940e-01,\n",
        "         -2.8006e-01,  1.9254e-01, -1.0075e-01, -3.0373e-01, -7.3292e-02,\n",
        "          8.0496e-01, -1.5350e-02,  2.8247e-01,  5.7768e-02,  2.0798e-01,\n",
        "          1.9062e-01, -1.0989e-01,  1.3720e-01, -9.1895e-02, -1.1903e-01,\n",
        "         -3.2995e-02,  8.5432e-03,  2.3878e-01,  1.0149e-02,  1.6269e-01,\n",
        "          1.5377e-01,  2.5204e-01, -2.3962e-01, -5.9161e-02,  1.1641e-01,\n",
        "         -2.0177e-01, -2.5271e-01,  2.6038e-01,  1.2597e-01,  1.6606e-01,\n",
        "         -3.5147e-01, -5.8224e-03, -7.7188e-02,  1.2802e-01,  4.6625e-01,\n",
        "          2.7790e-02,  9.7279e-02, -1.7118e-01, -2.2453e-01, -3.2012e-02,\n",
        "          8.4098e-02,  1.6177e-01, -8.0838e-02,  2.0472e-01, -2.1674e-01,\n",
        "          6.1952e-03,  8.0960e-02,  9.3077e-03,  1.9649e-01, -3.1202e-02,\n",
        "         -2.7643e-02, -1.8744e-01,  1.7210e-01, -2.0705e-01, -6.4616e-02,\n",
        "          1.3862e-01, -9.0989e-02, -1.7735e-01,  2.1207e-01, -3.4890e-01,\n",
        "          3.0774e-01,  4.5462e-02,  7.5579e-02, -7.4275e-02,  1.4689e-01,\n",
        "         -4.8604e-01,  3.8011e-01,  2.8306e-01,  5.1415e-01,  3.4027e-02,\n",
        "          7.0223e-02, -9.0760e-03, -1.1803e-01, -8.8073e-03,  1.5379e+00,\n",
        "         -2.8089e-01,  3.1044e-04, -5.3999e-02, -1.5286e-01, -2.5751e-02,\n",
        "          2.2382e-02, -2.6417e-01,  1.2743e-01, -3.2202e-02,  2.5596e-02,\n",
        "          6.9237e-02, -1.8815e-03, -4.9363e-01, -3.9728e-01, -1.1255e-02,\n",
        "          1.2100e-01, -2.9197e-01,  1.9266e-01,  4.5936e-01,  1.0694e-01,\n",
        "         -7.2576e-01, -6.8390e-01,  9.6892e-02,  2.1882e-01,  1.1266e-01,\n",
        "         -1.9236e-01,  8.4253e-02, -2.3239e-02,  8.8992e-02, -3.1683e-01,\n",
        "          3.6400e-01, -3.3220e-01,  5.9585e-02,  9.0337e-02,  7.6750e-01,\n",
        "         -3.5554e-03, -4.6610e-02,  2.3494e+00,  2.6617e-01, -4.5256e-03,\n",
        "          2.2635e-01,  9.6396e-02, -2.8655e-01]"
      ],
      "metadata": {
        "id": "YHt6g45Jhn2r"
      },
      "execution_count": null,
      "outputs": []
    },
    {
      "cell_type": "code",
      "source": [
        "from sklearn.preprocessing import MinMaxScaler"
      ],
      "metadata": {
        "id": "YoIFER7LtSe1"
      },
      "execution_count": null,
      "outputs": []
    },
    {
      "cell_type": "code",
      "source": [
        "scaler = MinMaxScaler(feature_range=(0, 10))\n",
        "scaled = scaler.fit_transform([[x] for x in test_hidden])"
      ],
      "metadata": {
        "id": "qOrpsvTBtVTC"
      },
      "execution_count": null,
      "outputs": []
    },
    {
      "cell_type": "code",
      "source": [
        "scaled"
      ],
      "metadata": {
        "colab": {
          "base_uri": "https://localhost:8080/"
        },
        "id": "caVdzErptVVN",
        "outputId": "b05cb8de-87ab-4054-df21-3dabd772ab21"
      },
      "execution_count": null,
      "outputs": [
        {
          "output_type": "execute_result",
          "data": {
            "text/plain": [
              "array([[ 1.06301953],\n",
              "       [ 1.05965306],\n",
              "       [ 0.99835582],\n",
              "       [ 1.07934592],\n",
              "       [ 1.04609088],\n",
              "       [ 1.07025572],\n",
              "       [ 1.17898696],\n",
              "       [ 1.0994998 ],\n",
              "       [ 1.0422953 ],\n",
              "       [ 1.0792078 ],\n",
              "       [ 1.0714832 ],\n",
              "       [ 1.06557047],\n",
              "       [ 1.04301243],\n",
              "       [ 1.03128624],\n",
              "       [ 1.07291824],\n",
              "       [ 1.04654972],\n",
              "       [ 1.06410889],\n",
              "       [ 1.06573559],\n",
              "       [ 1.08105409],\n",
              "       [ 1.08998978],\n",
              "       [ 1.03951494],\n",
              "       [ 1.07278012],\n",
              "       [ 1.06735238],\n",
              "       [ 1.07164004],\n",
              "       [ 1.04916464],\n",
              "       [ 1.05568947],\n",
              "       [ 1.05904073],\n",
              "       [ 1.080994  ],\n",
              "       [ 1.0524093 ],\n",
              "       [ 1.07622143],\n",
              "       [ 1.04821341],\n",
              "       [ 1.03603227],\n",
              "       [ 1.05574768],\n",
              "       [ 1.07590851],\n",
              "       [ 1.06247532],\n",
              "       [ 1.06149702],\n",
              "       [ 3.29070067],\n",
              "       [ 1.08079267],\n",
              "       [ 1.07014569],\n",
              "       [ 1.09264996],\n",
              "       [ 1.06849472],\n",
              "       [ 1.05125518],\n",
              "       [ 1.05449547],\n",
              "       [ 1.06769979],\n",
              "       [ 1.08972056],\n",
              "       [ 1.06422625],\n",
              "       [ 1.07454604],\n",
              "       [ 1.05437779],\n",
              "       [ 1.08110481],\n",
              "       [ 1.09965665],\n",
              "       [ 1.05353744],\n",
              "       [ 1.0668031 ],\n",
              "       [ 1.06863393],\n",
              "       [ 1.05659701],\n",
              "       [ 1.06632108],\n",
              "       [ 1.0853288 ],\n",
              "       [ 1.0482376 ],\n",
              "       [ 1.06696588],\n",
              "       [ 1.08725156],\n",
              "       [ 1.03142982],\n",
              "       [ 1.04150481],\n",
              "       [ 1.04063005],\n",
              "       [ 1.06754949],\n",
              "       [ 1.08312901],\n",
              "       [ 0.96680427],\n",
              "       [ 1.0513418 ],\n",
              "       [ 1.06750142],\n",
              "       [ 1.0743291 ],\n",
              "       [ 1.05500706],\n",
              "       [ 1.06130311],\n",
              "       [ 1.0781637 ],\n",
              "       [ 1.02666349],\n",
              "       [ 1.03797923],\n",
              "       [ 1.05925883],\n",
              "       [ 1.05916636],\n",
              "       [ 1.05725897],\n",
              "       [ 1.05571429],\n",
              "       [ 1.10174016],\n",
              "       [ 1.06695316],\n",
              "       [ 1.07722651],\n",
              "       [ 1.07172978],\n",
              "       [ 1.07272862],\n",
              "       [ 1.05325441],\n",
              "       [ 1.08468423],\n",
              "       [ 1.0482017 ],\n",
              "       [ 1.06818906],\n",
              "       [ 1.09117824],\n",
              "       [ 0.97463109],\n",
              "       [ 1.07023231],\n",
              "       [ 1.06743353],\n",
              "       [ 1.07596158],\n",
              "       [ 1.04337685],\n",
              "       [ 1.06943168],\n",
              "       [ 1.05596501],\n",
              "       [ 1.05548908],\n",
              "       [ 1.07134664],\n",
              "       [ 1.04106158],\n",
              "       [ 1.03649736],\n",
              "       [ 1.05481947],\n",
              "       [ 1.06851985],\n",
              "       [ 1.07566973],\n",
              "       [ 1.06160956],\n",
              "       [ 1.11782378],\n",
              "       [ 1.07816292],\n",
              "       [ 1.06358668],\n",
              "       [ 1.07757064],\n",
              "       [ 1.06628706],\n",
              "       [ 1.1067164 ],\n",
              "       [ 1.07501736],\n",
              "       [ 1.06584203],\n",
              "       [ 1.06213509],\n",
              "       [ 1.05361041],\n",
              "       [ 1.07171964],\n",
              "       [ 1.04986695],\n",
              "       [ 1.09781192],\n",
              "       [ 1.05293213],\n",
              "       [ 1.05696549],\n",
              "       [ 1.07408251],\n",
              "       [ 1.06456008],\n",
              "       [ 1.03830619],\n",
              "       [ 1.05159463],\n",
              "       [ 1.08628003],\n",
              "       [ 1.06444498],\n",
              "       [ 1.08607714],\n",
              "       [ 1.03803229],\n",
              "       [ 1.05839312],\n",
              "       [ 1.06997948],\n",
              "       [ 1.05990027],\n",
              "       [ 1.06471662],\n",
              "       [ 1.05854412],\n",
              "       [ 1.05607121],\n",
              "       [ 1.062761  ],\n",
              "       [ 1.07702752],\n",
              "       [ 1.05634972],\n",
              "       [ 1.08101117],\n",
              "       [ 1.08056481],\n",
              "       [ 1.05273471],\n",
              "       [ 1.06928966],\n",
              "       [ 1.10903714],\n",
              "       [ 1.08035802],\n",
              "       [ 1.06441463],\n",
              "       [ 1.07579614],\n",
              "       [ 1.06126767],\n",
              "       [ 1.04688215],\n",
              "       [ 1.06283553],\n",
              "       [ 1.07370015],\n",
              "       [ 1.05791969],\n",
              "       [ 1.03321212],\n",
              "       [ 1.06877502],\n",
              "       [ 1.04616813],\n",
              "       [ 1.07446254],\n",
              "       [ 1.08967608],\n",
              "       [ 1.04327306],\n",
              "       [ 1.0447604 ],\n",
              "       [ 1.07957378],\n",
              "       [ 1.03647551],\n",
              "       [ 1.09709089],\n",
              "       [ 1.07320463],\n",
              "       [ 1.073825  ],\n",
              "       [ 1.04456063],\n",
              "       [ 1.1297474 ],\n",
              "       [ 1.07254524],\n",
              "       [ 1.06127095],\n",
              "       [ 1.06754177],\n",
              "       [ 1.05701418],\n",
              "       [ 1.04949473],\n",
              "       [ 1.08342867],\n",
              "       [ 0.97699553],\n",
              "       [ 1.03739397],\n",
              "       [ 1.06933726],\n",
              "       [ 1.0697641 ],\n",
              "       [ 1.05737665],\n",
              "       [ 1.06817392],\n",
              "       [ 1.05503593],\n",
              "       [ 1.0553469 ],\n",
              "       [ 1.07718047],\n",
              "       [ 1.01597828],\n",
              "       [ 1.0773022 ],\n",
              "       [ 1.05554589],\n",
              "       [ 1.05314517],\n",
              "       [ 1.04664648],\n",
              "       [ 1.07444693],\n",
              "       [ 1.07590617],\n",
              "       [ 1.03710681],\n",
              "       [ 1.06725218],\n",
              "       [ 1.03990199],\n",
              "       [ 1.05413792],\n",
              "       [ 1.04311934],\n",
              "       [ 1.06054367],\n",
              "       [ 1.03627886],\n",
              "       [ 1.06072868],\n",
              "       [ 1.08088865],\n",
              "       [ 1.05889277],\n",
              "       [ 1.05854591],\n",
              "       [ 1.06806553],\n",
              "       [ 1.09312909],\n",
              "       [ 1.05911806],\n",
              "       [ 1.07885976],\n",
              "       [ 1.06537562],\n",
              "       [ 1.09640965],\n",
              "       [ 1.09659381],\n",
              "       [ 1.04922941],\n",
              "       [ 1.07488548],\n",
              "       [ 1.06849691],\n",
              "       [ 1.05618257],\n",
              "       [ 1.05969075],\n",
              "       [ 1.0691133 ],\n",
              "       [ 1.07455696],\n",
              "       [ 1.08853054],\n",
              "       [ 1.0578024 ],\n",
              "       [ 1.09784314],\n",
              "       [ 1.03029598],\n",
              "       [ 1.00747489],\n",
              "       [ 1.05813514],\n",
              "       [ 1.06028865],\n",
              "       [ 1.06073099],\n",
              "       [ 1.08177512],\n",
              "       [ 1.06540909],\n",
              "       [ 1.04338309],\n",
              "       [ 1.06446511],\n",
              "       [ 1.07950433],\n",
              "       [ 1.0425255 ],\n",
              "       [ 1.07948092],\n",
              "       [ 1.08496906],\n",
              "       [ 1.06556188],\n",
              "       [ 1.07654527],\n",
              "       [ 1.04866445],\n",
              "       [ 1.08179853],\n",
              "       [ 1.05539591],\n",
              "       [ 1.0637543 ],\n",
              "       [ 1.05973359],\n",
              "       [ 1.07013477],\n",
              "       [ 1.08906663],\n",
              "       [ 1.07713521],\n",
              "       [ 1.08537172],\n",
              "       [ 1.09079431],\n",
              "       [ 1.07246877],\n",
              "       [ 1.05576126],\n",
              "       [ 1.06129043],\n",
              "       [ 1.07740053],\n",
              "       [ 1.05255601],\n",
              "       [ 1.06706521],\n",
              "       [ 1.06759522],\n",
              "       [ 1.06525849],\n",
              "       [ 1.05138472],\n",
              "       [ 1.06406035],\n",
              "       [ 1.04812601],\n",
              "       [ 1.06287743],\n",
              "       [ 1.051064  ],\n",
              "       [ 1.07771578],\n",
              "       [ 1.05977628],\n",
              "       [ 1.04812679],\n",
              "       [ 1.05932321],\n",
              "       [ 1.03304591],\n",
              "       [ 1.08915091],\n",
              "       [ 1.08933585],\n",
              "       [ 1.09627387],\n",
              "       [ 1.05414572],\n",
              "       [ 1.04143458],\n",
              "       [ 1.07752694],\n",
              "       [ 1.04868864],\n",
              "       [ 1.07092525],\n",
              "       [ 1.05541222],\n",
              "       [ 1.08573926],\n",
              "       [ 1.04070652],\n",
              "       [ 1.05593629],\n",
              "       [ 0.97523196],\n",
              "       [ 1.05513473],\n",
              "       [ 1.06668737],\n",
              "       [ 1.05206908],\n",
              "       [ 1.04210958],\n",
              "       [ 1.06882168],\n",
              "       [ 1.0559551 ],\n",
              "       [ 1.08534831],\n",
              "       [ 1.05521596],\n",
              "       [ 1.06645717],\n",
              "       [ 1.06476016],\n",
              "       [ 1.04535814],\n",
              "       [ 1.05244442],\n",
              "       [ 1.06033765],\n",
              "       [ 1.07640403],\n",
              "       [ 1.07352145],\n",
              "       [ 1.07373604],\n",
              "       [ 1.05408712],\n",
              "       [ 1.05025556],\n",
              "       [ 1.08735066],\n",
              "       [ 1.08361907],\n",
              "       [ 1.06702791],\n",
              "       [ 1.10314556],\n",
              "       [ 1.02922457],\n",
              "       [ 1.05192471],\n",
              "       [ 1.04126837],\n",
              "       [ 1.07988747],\n",
              "       [ 1.04940421],\n",
              "       [ 1.03488517],\n",
              "       [ 1.06095474],\n",
              "       [ 1.06811945],\n",
              "       [ 1.05560098],\n",
              "       [ 1.02677664],\n",
              "       [ 1.0734481 ],\n",
              "       [ 1.06910471],\n",
              "       [ 1.06363397],\n",
              "       [ 1.06460893],\n",
              "       [ 1.08831829],\n",
              "       [ 1.06448673],\n",
              "       [ 1.05542306],\n",
              "       [ 1.04474323],\n",
              "       [ 1.04046852],\n",
              "       [ 0.97069037],\n",
              "       [ 1.060839  ],\n",
              "       [ 1.06950347],\n",
              "       [ 1.04764688],\n",
              "       [ 1.07968459],\n",
              "       [ 1.06630766],\n",
              "       [ 0.        ],\n",
              "       [ 1.05904377],\n",
              "       [ 1.06637921],\n",
              "       [ 1.07911884],\n",
              "       [ 1.07809815],\n",
              "       [ 1.07731547],\n",
              "       [ 1.00760209],\n",
              "       [ 1.06434799],\n",
              "       [ 1.05252245],\n",
              "       [ 1.0493012 ],\n",
              "       [ 1.06976098],\n",
              "       [ 1.06197504],\n",
              "       [ 1.07318902],\n",
              "       [ 1.06878306],\n",
              "       [ 1.04649119],\n",
              "       [ 1.04916308],\n",
              "       [ 1.05836589],\n",
              "       [ 1.07604351],\n",
              "       [ 1.05942676],\n",
              "       [ 1.07112502],\n",
              "       [ 1.05754497],\n",
              "       [ 1.08425115],\n",
              "       [ 1.07727177],\n",
              "       [ 1.08905259],\n",
              "       [ 1.07440323],\n",
              "       [ 1.06164135],\n",
              "       [ 1.04664336],\n",
              "       [ 1.0533621 ],\n",
              "       [ 1.07533808],\n",
              "       [ 1.05015646],\n",
              "       [ 1.05689923],\n",
              "       [ 1.04663712],\n",
              "       [ 1.09970113],\n",
              "       [ 1.05642268],\n",
              "       [ 1.06445505],\n",
              "       [ 1.03845758],\n",
              "       [ 1.04747989],\n",
              "       [ 1.03958751],\n",
              "       [ 1.0516313 ],\n",
              "       [ 1.06242499],\n",
              "       [ 1.04698125],\n",
              "       [ 1.06353105],\n",
              "       [ 1.02538373],\n",
              "       [ 1.07056395],\n",
              "       [ 1.03711305],\n",
              "       [ 1.07435173],\n",
              "       [ 1.05409313],\n",
              "       [ 1.04490164],\n",
              "       [ 1.13168811],\n",
              "       [ 1.07778133],\n",
              "       [ 1.04533239],\n",
              "       [ 1.05039056],\n",
              "       [ 1.05711406],\n",
              "       [ 1.05263794],\n",
              "       [ 1.05375703],\n",
              "       [ 1.06159478],\n",
              "       [ 1.07078089],\n",
              "       [ 1.05722011],\n",
              "       [ 1.03820865],\n",
              "       [ 0.96858345],\n",
              "       [ 0.5507105 ],\n",
              "       [ 1.08601784],\n",
              "       [ 1.0407073 ],\n",
              "       [ 1.08526793],\n",
              "       [ 1.07472708],\n",
              "       [ 1.05171402],\n",
              "       [ 1.04056606],\n",
              "       [ 1.06918353],\n",
              "       [ 1.04826959],\n",
              "       [ 1.06372691],\n",
              "       [ 1.06586396],\n",
              "       [ 1.05160399],\n",
              "       [ 1.04059493],\n",
              "       [ 1.05367143],\n",
              "       [ 1.05866671],\n",
              "       [ 1.04840693],\n",
              "       [ 1.04929106],\n",
              "       [ 1.03940569],\n",
              "       [ 1.04497811],\n",
              "       [ 1.063247  ],\n",
              "       [ 1.0741465 ],\n",
              "       [ 1.04667301],\n",
              "       [ 1.08255858],\n",
              "       [ 1.03796674],\n",
              "       [ 1.06623485],\n",
              "       [ 1.07799437],\n",
              "       [ 1.04457467],\n",
              "       [ 1.06983511],\n",
              "       [ 1.03475408],\n",
              "       [ 1.04927389],\n",
              "       [ 1.09600855],\n",
              "       [ 1.03546809],\n",
              "       [ 1.04793327],\n",
              "       [ 1.05697181],\n",
              "       [ 1.2537671 ],\n",
              "       [ 1.06611218],\n",
              "       [ 1.08931322],\n",
              "       [ 1.07186244],\n",
              "       [ 1.06976878],\n",
              "       [ 1.05480331],\n",
              "       [ 1.06810767],\n",
              "       [ 1.07162522],\n",
              "       [ 1.06117175],\n",
              "       [ 1.07639545],\n",
              "       [ 1.07727957],\n",
              "       [ 1.05330514],\n",
              "       [ 1.04069326],\n",
              "       [ 1.06327978],\n",
              "       [ 1.04525669],\n",
              "       [ 1.04930979],\n",
              "       [ 1.0422079 ],\n",
              "       [ 1.06561713],\n",
              "       [ 1.03154063],\n",
              "       [ 1.05692725],\n",
              "       [ 1.07137239],\n",
              "       [ 1.05758781],\n",
              "       [ 4.09460862],\n",
              "       [ 1.06989832],\n",
              "       [ 1.07083317],\n",
              "       [ 1.06415587],\n",
              "       [ 1.06408111],\n",
              "       [ 1.05376148],\n",
              "       [ 1.05850596],\n",
              "       [ 1.05797852],\n",
              "       [ 1.06421673],\n",
              "       [ 1.13708496],\n",
              "       [ 1.05041709],\n",
              "       [ 1.05842504],\n",
              "       [ 1.030708  ],\n",
              "       [ 1.06843807],\n",
              "       [ 1.08137325],\n",
              "       [ 1.04956184],\n",
              "       [ 1.04843268],\n",
              "       [ 1.14512794],\n",
              "       [ 1.05141593],\n",
              "       [ 1.06334962],\n",
              "       [ 1.06787365],\n",
              "       [ 1.03226166],\n",
              "       [ 1.0653519 ],\n",
              "       [ 1.08635261],\n",
              "       [ 1.07499863],\n",
              "       [ 1.12073602],\n",
              "       [ 1.06928341],\n",
              "       [ 1.05354899],\n",
              "       [ 1.07628386],\n",
              "       [ 1.05962372],\n",
              "       [ 1.0656556 ],\n",
              "       [ 1.07674426],\n",
              "       [ 1.07394361],\n",
              "       [ 1.06353932],\n",
              "       [ 1.06243521],\n",
              "       [ 1.06844135],\n",
              "       [ 1.04698671],\n",
              "       [ 1.03272987],\n",
              "       [ 1.05976215],\n",
              "       [ 1.07400448],\n",
              "       [ 1.05310069],\n",
              "       [ 1.05899375],\n",
              "       [ 1.07881607],\n",
              "       [ 1.06079735],\n",
              "       [ 1.04959227],\n",
              "       [ 1.06055457],\n",
              "       [ 1.06361603],\n",
              "       [ 1.07655854],\n",
              "       [ 1.04347673],\n",
              "       [ 0.96758461],\n",
              "       [ 0.98601706],\n",
              "       [ 1.15374291],\n",
              "       [ 1.07414416],\n",
              "       [ 1.07255226],\n",
              "       [ 1.0921326 ],\n",
              "       [ 1.04231324],\n",
              "       [ 1.07299706],\n",
              "       [ 1.04185596],\n",
              "       [ 1.07500566],\n",
              "       [ 1.03858789],\n",
              "       [ 1.06294485],\n",
              "       [ 1.06759507],\n",
              "       [ 1.04899375],\n",
              "       [ 1.0717251 ],\n",
              "       [ 1.07010199],\n",
              "       [ 1.07285816],\n",
              "       [10.        ],\n",
              "       [ 1.07710712],\n",
              "       [ 1.0745554 ],\n",
              "       [ 1.06857908],\n",
              "       [ 1.05773303],\n",
              "       [ 1.05760786],\n",
              "       [ 1.02712389],\n",
              "       [ 1.08675448],\n",
              "       [ 1.07184371],\n",
              "       [ 1.04974834],\n",
              "       [ 1.05721699],\n",
              "       [ 1.07535603],\n",
              "       [ 1.06264981],\n",
              "       [ 1.06171676],\n",
              "       [ 1.05482961],\n",
              "       [ 1.06127879],\n",
              "       [ 1.07665608],\n",
              "       [ 1.04853959],\n",
              "       [ 1.06050694],\n",
              "       [ 1.05597024],\n",
              "       [ 1.06733943],\n",
              "       [ 1.0499879 ],\n",
              "       [ 1.04388407],\n",
              "       [ 1.04724188],\n",
              "       [ 1.05295788],\n",
              "       [ 1.04567496],\n",
              "       [ 1.05642892],\n",
              "       [ 1.06055514],\n",
              "       [ 1.03593785],\n",
              "       [ 1.04655752],\n",
              "       [ 1.02078986],\n",
              "       [ 1.00954436],\n",
              "       [ 1.09523445],\n",
              "       [ 1.06918353],\n",
              "       [ 1.06376554],\n",
              "       [ 1.06971416],\n",
              "       [ 1.07259752],\n",
              "       [ 1.04095077],\n",
              "       [ 1.01531577],\n",
              "       [ 1.10538826],\n",
              "       [ 1.05943378],\n",
              "       [ 1.05248032],\n",
              "       [ 1.04322156],\n",
              "       [ 1.05379706],\n",
              "       [ 1.11344451],\n",
              "       [ 1.05261844],\n",
              "       [ 1.06496087],\n",
              "       [ 1.01704422],\n",
              "       [ 1.07097051],\n",
              "       [ 1.07730532],\n",
              "       [ 1.07351208],\n",
              "       [ 1.06578022],\n",
              "       [ 1.06081047],\n",
              "       [ 1.05474065],\n",
              "       [ 1.05301329],\n",
              "       [ 1.07106571],\n",
              "       [ 1.08233307],\n",
              "       [ 1.04879476],\n",
              "       [ 1.0558478 ],\n",
              "       [ 1.03825235],\n",
              "       [ 1.04633435],\n",
              "       [ 1.06944026],\n",
              "       [ 1.04762347],\n",
              "       [ 1.04569056],\n",
              "       [ 1.06748808],\n",
              "       [ 1.08687856],\n",
              "       [ 1.04963987],\n",
              "       [ 1.05923831],\n",
              "       [ 1.05158136],\n",
              "       [ 1.06348032],\n",
              "       [ 1.0479559 ],\n",
              "       [ 1.0615122 ],\n",
              "       [ 1.06179718],\n",
              "       [ 1.06869784],\n",
              "       [ 1.0774731 ],\n",
              "       [ 1.05220954],\n",
              "       [ 1.0648421 ],\n",
              "       [ 1.05099923],\n",
              "       [ 1.0515681 ],\n",
              "       [ 1.08594683],\n",
              "       [ 1.06570711],\n",
              "       [ 1.07480043],\n",
              "       [ 1.05701551],\n",
              "       [ 1.05152362],\n",
              "       [ 1.05527183],\n",
              "       [ 1.08055779],\n",
              "       [ 1.10092314],\n",
              "       [ 1.06542509],\n",
              "       [ 1.07574776],\n",
              "       [ 1.07613247],\n",
              "       [ 1.0624388 ],\n",
              "       [ 1.06311988],\n",
              "       [ 1.0930136 ],\n",
              "       [ 1.05934763],\n",
              "       [ 1.07280978],\n",
              "       [ 1.03367408],\n",
              "       [ 1.04085245],\n",
              "       [ 1.08010675],\n",
              "       [ 1.07167594],\n",
              "       [ 1.06696057],\n",
              "       [ 1.05142764],\n",
              "       [ 1.06163316],\n",
              "       [ 1.07556828],\n",
              "       [ 1.06342859],\n",
              "       [ 1.04203934],\n",
              "       [ 1.0797634 ],\n",
              "       [ 1.04647793],\n",
              "       [ 1.08911345],\n",
              "       [ 1.05652881],\n",
              "       [ 1.0535749 ],\n",
              "       [ 1.0755956 ],\n",
              "       [ 1.0667118 ],\n",
              "       [ 1.07718749],\n",
              "       [ 1.06028124],\n",
              "       [ 1.05521026],\n",
              "       [ 1.06225097],\n",
              "       [ 1.08480831],\n",
              "       [ 1.07438841],\n",
              "       [ 1.04383491],\n",
              "       [ 1.05881216],\n",
              "       [ 1.07868185],\n",
              "       [ 1.03316764],\n",
              "       [ 1.05367315],\n",
              "       [ 1.05943558],\n",
              "       [ 1.07010043],\n",
              "       [ 1.04468548],\n",
              "       [ 1.07608565],\n",
              "       [ 1.02851602],\n",
              "       [ 1.07316483],\n",
              "       [ 1.05524351],\n",
              "       [ 1.05233517],\n",
              "       [ 0.9170809 ],\n",
              "       [ 1.07199744],\n",
              "       [ 1.05006438],\n",
              "       [ 1.06850861],\n",
              "       [ 1.05946554],\n",
              "       [ 1.06011104],\n",
              "       [ 1.0617496 ],\n",
              "       [ 1.06222288],\n",
              "       [ 1.06001451],\n",
              "       [ 1.06133203],\n",
              "       [ 1.03296865],\n",
              "       [ 1.07726084],\n",
              "       [ 1.05601433],\n",
              "       [ 1.07283319],\n",
              "       [ 1.06244707],\n",
              "       [ 1.08055545],\n",
              "       [ 1.07910635],\n",
              "       [ 1.05123801],\n",
              "       [ 1.04955013],\n",
              "       [ 1.0736939 ],\n",
              "       [ 1.06723798],\n",
              "       [ 1.07809347],\n",
              "       [ 1.07440557],\n",
              "       [ 1.03933234],\n",
              "       [ 1.07621129],\n",
              "       [ 1.05332465],\n",
              "       [ 1.03748527],\n",
              "       [ 1.05546731],\n",
              "       [ 1.12400097],\n",
              "       [ 1.05998876],\n",
              "       [ 1.0832289 ],\n",
              "       [ 1.06569447],\n",
              "       [ 1.07741613],\n",
              "       [ 1.07606146],\n",
              "       [ 1.05261141],\n",
              "       [ 1.07189287],\n",
              "       [ 1.05401564],\n",
              "       [ 1.05189818],\n",
              "       [ 1.05861185],\n",
              "       [ 1.06185325],\n",
              "       [ 1.07981959],\n",
              "       [ 1.06197856],\n",
              "       [ 1.07388197],\n",
              "       [ 1.0731859 ],\n",
              "       [ 1.08085432],\n",
              "       [ 1.04248804],\n",
              "       [ 1.05657001],\n",
              "       [ 1.07027054],\n",
              "       [ 1.04544163],\n",
              "       [ 1.04146657],\n",
              "       [ 1.08150512],\n",
              "       [ 1.07101655],\n",
              "       [ 1.07414494],\n",
              "       [ 1.03375992],\n",
              "       [ 1.06073224],\n",
              "       [ 1.05516329],\n",
              "       [ 1.07117652],\n",
              "       [ 1.09757002],\n",
              "       [ 1.06335516],\n",
              "       [ 1.06877767],\n",
              "       [ 1.0478287 ],\n",
              "       [ 1.04366558],\n",
              "       [ 1.05868856],\n",
              "       [ 1.0677491 ],\n",
              "       [ 1.07381017],\n",
              "       [ 1.05487846],\n",
              "       [ 1.07716174],\n",
              "       [ 1.04427346],\n",
              "       [ 1.06167002],\n",
              "       [ 1.06750423],\n",
              "       [ 1.06191291],\n",
              "       [ 1.07651952],\n",
              "       [ 1.05875177],\n",
              "       [ 1.05902949],\n",
              "       [ 1.04655986],\n",
              "       [ 1.07461627],\n",
              "       [ 1.04502961],\n",
              "       [ 1.05614433],\n",
              "       [ 1.07200368],\n",
              "       [ 1.05408634],\n",
              "       [ 1.04734723],\n",
              "       [ 1.07773529],\n",
              "       [ 1.03396047],\n",
              "       [ 1.08520082],\n",
              "       [ 1.06473418],\n",
              "       [ 1.06708433],\n",
              "       [ 1.0553906 ],\n",
              "       [ 1.07264903],\n",
              "       [ 1.02325886],\n",
              "       [ 1.09084815],\n",
              "       [ 1.08327494],\n",
              "       [ 1.10130785],\n",
              "       [ 1.06384186],\n",
              "       [ 1.06666638],\n",
              "       [ 1.06047835],\n",
              "       [ 1.05197622],\n",
              "       [ 1.06049932],\n",
              "       [ 1.18119533],\n",
              "       [ 1.03926757],\n",
              "       [ 1.06121081],\n",
              "       [ 1.05697282],\n",
              "       [ 1.04925829],\n",
              "       [ 1.05917713],\n",
              "       [ 1.06293315],\n",
              "       [ 1.0405723 ],\n",
              "       [ 1.07113048],\n",
              "       [ 1.05867373],\n",
              "       [ 1.06318395],\n",
              "       [ 1.06658944],\n",
              "       [ 1.06103977],\n",
              "       [ 1.02266658],\n",
              "       [ 1.03018518],\n",
              "       [ 1.06030831],\n",
              "       [ 1.07062872],\n",
              "       [ 1.03840295],\n",
              "       [ 1.07622065],\n",
              "       [ 1.09703236],\n",
              "       [ 1.06953156],\n",
              "       [ 1.00455251],\n",
              "       [ 1.00781902],\n",
              "       [ 1.06874747],\n",
              "       [ 1.07826202],\n",
              "       [ 1.06997792],\n",
              "       [ 1.04617594],\n",
              "       [ 1.0677612 ],\n",
              "       [ 1.05937315],\n",
              "       [ 1.068131  ],\n",
              "       [ 1.03646302],\n",
              "       [ 1.08959102],\n",
              "       [ 1.03526364],\n",
              "       [ 1.06583625],\n",
              "       [ 1.06823596],\n",
              "       [ 1.12107781],\n",
              "       [ 1.06090914],\n",
              "       [ 1.05754942],\n",
              "       [ 1.24452005],\n",
              "       [ 1.08195694],\n",
              "       [ 1.06083344],\n",
              "       [ 1.07884962],\n",
              "       [ 1.06870877],\n",
              "       [ 1.0388259 ]])"
            ]
          },
          "metadata": {},
          "execution_count": 201
        }
      ]
    },
    {
      "cell_type": "code",
      "source": [
        "type(test_dataset[0][indexx][:lln])"
      ],
      "metadata": {
        "colab": {
          "base_uri": "https://localhost:8080/"
        },
        "id": "5w6GRBaQh1uo",
        "outputId": "1551b538-1964-4563-8467-afb7e3fdc9f5"
      },
      "execution_count": null,
      "outputs": [
        {
          "output_type": "execute_result",
          "data": {
            "text/plain": [
              "list"
            ]
          },
          "metadata": {},
          "execution_count": 169
        }
      ]
    },
    {
      "cell_type": "code",
      "execution_count": null,
      "metadata": {
        "id": "IniCaZy8itkf"
      },
      "outputs": [],
      "source": [
        "test_dataset_single = (test_hidden,test_dataset[1][indexx],test_dataset[2][indexx],test_dataset[3][indexx])"
      ]
    },
    {
      "cell_type": "code",
      "source": [
        "def collate_batch_bilstm_test_single(data):\n",
        "    #return torch.tensor(train_dataset[0]), torch.tensor(train_dataset[1]), torch.tensor(train_dataset[2])\n",
        "    return torch.tensor([test_dataset_single[0]]).long(), torch.tensor([test_dataset_single[1]]), torch.tensor([test_dataset_single[2]]), torch.tensor([test_dataset_single[3]]).float()\n",
        "\n",
        "test_dl_single = DataLoader(test_dataset_single, batch_size=1, collate_fn=collate_batch_bilstm_test_single, num_workers=8)"
      ],
      "metadata": {
        "colab": {
          "base_uri": "https://localhost:8080/"
        },
        "id": "Zw_yjom9UxIm",
        "outputId": "12909a07-0671-45d7-b822-1fa5a71e968e"
      },
      "execution_count": null,
      "outputs": [
        {
          "output_type": "stream",
          "name": "stderr",
          "text": [
            "/usr/local/lib/python3.7/dist-packages/torch/utils/data/dataloader.py:566: UserWarning: This DataLoader will create 8 worker processes in total. Our suggested max number of worker in current system is 2, which is smaller than what this DataLoader is going to create. Please be aware that excessive worker creation might get DataLoader running slow or even freeze, lower the worker number to avoid potential slowness/freeze if necessary.\n",
            "  cpuset_checked))\n"
          ]
        }
      ]
    },
    {
      "cell_type": "code",
      "source": [
        "test_acc_single,labs_single,logs_single = evaluate(model, test_dl_single)"
      ],
      "metadata": {
        "colab": {
          "base_uri": "https://localhost:8080/",
          "height": 459,
          "referenced_widgets": [
            "b3c31b8eec7b43989987baf929817fe6",
            "d77db6bfd3ff4e4eb91438c2f7fb3907",
            "ced15de55c5e484fbafb6bd5f5cd23c1",
            "5447eea2e7d74fb4a2812945ec4d3f39",
            "ff74bf3ca2fc4335a962fe377680fdd3",
            "620bf172e2004259b6753c650b978e5d",
            "b329181ccc7844ab973fb56088555321",
            "2e75cf4a62c947e7992a3a164ffd17ce",
            "4a945a05ff5644c78e425a35ac90d1ec",
            "a2c0ddd037dc4615b0eb150fb1d6f6e0",
            "1b643ad60b5e43f4a1b121198da47b82"
          ]
        },
        "id": "X0ThAaqXbGXz",
        "outputId": "897f593c-412a-420c-9796-3d0b773fc17f"
      },
      "execution_count": null,
      "outputs": [
        {
          "output_type": "stream",
          "name": "stderr",
          "text": [
            "/usr/local/lib/python3.7/dist-packages/ipykernel_launcher.py:16: TqdmDeprecationWarning: This function will be removed in tqdm==5.0.0\n",
            "Please use `tqdm.notebook.tqdm` instead of `tqdm.tqdm_notebook`\n",
            "  app.launch_new_instance()\n"
          ]
        },
        {
          "output_type": "display_data",
          "data": {
            "text/plain": [
              "Evaluation:   0%|          | 0/4 [00:00<?, ?it/s]"
            ],
            "application/vnd.jupyter.widget-view+json": {
              "version_major": 2,
              "version_minor": 0,
              "model_id": "b3c31b8eec7b43989987baf929817fe6"
            }
          },
          "metadata": {}
        },
        {
          "output_type": "error",
          "ename": "RuntimeError",
          "evalue": "ignored",
          "traceback": [
            "\u001b[0;31m---------------------------------------------------------------------------\u001b[0m",
            "\u001b[0;31mRuntimeError\u001b[0m                              Traceback (most recent call last)",
            "\u001b[0;32m<ipython-input-184-9838c0a559ce>\u001b[0m in \u001b[0;36m<module>\u001b[0;34m\u001b[0m\n\u001b[0;32m----> 1\u001b[0;31m \u001b[0mtest_acc_single\u001b[0m\u001b[0;34m,\u001b[0m\u001b[0mlabs_single\u001b[0m\u001b[0;34m,\u001b[0m\u001b[0mlogs_single\u001b[0m \u001b[0;34m=\u001b[0m \u001b[0mevaluate\u001b[0m\u001b[0;34m(\u001b[0m\u001b[0mmodel\u001b[0m\u001b[0;34m,\u001b[0m \u001b[0mtest_dl_single\u001b[0m\u001b[0;34m)\u001b[0m\u001b[0;34m\u001b[0m\u001b[0;34m\u001b[0m\u001b[0m\n\u001b[0m",
            "\u001b[0;32m<ipython-input-17-5bdf98b3fc1d>\u001b[0m in \u001b[0;36mevaluate\u001b[0;34m(model, valid_dl)\u001b[0m\n\u001b[1;32m     15\u001b[0m   \u001b[0;32mwith\u001b[0m \u001b[0mtorch\u001b[0m\u001b[0;34m.\u001b[0m\u001b[0mno_grad\u001b[0m\u001b[0;34m(\u001b[0m\u001b[0;34m)\u001b[0m\u001b[0;34m:\u001b[0m\u001b[0;34m\u001b[0m\u001b[0;34m\u001b[0m\u001b[0m\n\u001b[1;32m     16\u001b[0m     \u001b[0;32mfor\u001b[0m \u001b[0mbatch\u001b[0m \u001b[0;32min\u001b[0m \u001b[0mtqdm\u001b[0m\u001b[0;34m(\u001b[0m\u001b[0mvalid_dl\u001b[0m\u001b[0;34m,\u001b[0m \u001b[0mdesc\u001b[0m\u001b[0;34m=\u001b[0m\u001b[0;34m'Evaluation'\u001b[0m\u001b[0;34m)\u001b[0m\u001b[0;34m:\u001b[0m\u001b[0;34m\u001b[0m\u001b[0;34m\u001b[0m\u001b[0m\n\u001b[0;32m---> 17\u001b[0;31m       \u001b[0mbatch\u001b[0m \u001b[0;34m=\u001b[0m \u001b[0mtuple\u001b[0m\u001b[0;34m(\u001b[0m\u001b[0mt\u001b[0m\u001b[0;34m.\u001b[0m\u001b[0mto\u001b[0m\u001b[0;34m(\u001b[0m\u001b[0mdevice\u001b[0m\u001b[0;34m)\u001b[0m \u001b[0;32mfor\u001b[0m \u001b[0mt\u001b[0m \u001b[0;32min\u001b[0m \u001b[0mbatch\u001b[0m\u001b[0;34m)\u001b[0m\u001b[0;34m\u001b[0m\u001b[0;34m\u001b[0m\u001b[0m\n\u001b[0m\u001b[1;32m     18\u001b[0m       \u001b[0minput_ids\u001b[0m \u001b[0;34m=\u001b[0m \u001b[0mbatch\u001b[0m\u001b[0;34m[\u001b[0m\u001b[0;36m0\u001b[0m\u001b[0;34m]\u001b[0m\u001b[0;34m\u001b[0m\u001b[0;34m\u001b[0m\u001b[0m\n\u001b[1;32m     19\u001b[0m       \u001b[0mseq_lens\u001b[0m \u001b[0;34m=\u001b[0m \u001b[0mbatch\u001b[0m\u001b[0;34m[\u001b[0m\u001b[0;36m1\u001b[0m\u001b[0;34m]\u001b[0m\u001b[0;34m\u001b[0m\u001b[0;34m\u001b[0m\u001b[0m\n",
            "\u001b[0;32m<ipython-input-17-5bdf98b3fc1d>\u001b[0m in \u001b[0;36m<genexpr>\u001b[0;34m(.0)\u001b[0m\n\u001b[1;32m     15\u001b[0m   \u001b[0;32mwith\u001b[0m \u001b[0mtorch\u001b[0m\u001b[0;34m.\u001b[0m\u001b[0mno_grad\u001b[0m\u001b[0;34m(\u001b[0m\u001b[0;34m)\u001b[0m\u001b[0;34m:\u001b[0m\u001b[0;34m\u001b[0m\u001b[0;34m\u001b[0m\u001b[0m\n\u001b[1;32m     16\u001b[0m     \u001b[0;32mfor\u001b[0m \u001b[0mbatch\u001b[0m \u001b[0;32min\u001b[0m \u001b[0mtqdm\u001b[0m\u001b[0;34m(\u001b[0m\u001b[0mvalid_dl\u001b[0m\u001b[0;34m,\u001b[0m \u001b[0mdesc\u001b[0m\u001b[0;34m=\u001b[0m\u001b[0;34m'Evaluation'\u001b[0m\u001b[0;34m)\u001b[0m\u001b[0;34m:\u001b[0m\u001b[0;34m\u001b[0m\u001b[0;34m\u001b[0m\u001b[0m\n\u001b[0;32m---> 17\u001b[0;31m       \u001b[0mbatch\u001b[0m \u001b[0;34m=\u001b[0m \u001b[0mtuple\u001b[0m\u001b[0;34m(\u001b[0m\u001b[0mt\u001b[0m\u001b[0;34m.\u001b[0m\u001b[0mto\u001b[0m\u001b[0;34m(\u001b[0m\u001b[0mdevice\u001b[0m\u001b[0;34m)\u001b[0m \u001b[0;32mfor\u001b[0m \u001b[0mt\u001b[0m \u001b[0;32min\u001b[0m \u001b[0mbatch\u001b[0m\u001b[0;34m)\u001b[0m\u001b[0;34m\u001b[0m\u001b[0;34m\u001b[0m\u001b[0m\n\u001b[0m\u001b[1;32m     18\u001b[0m       \u001b[0minput_ids\u001b[0m \u001b[0;34m=\u001b[0m \u001b[0mbatch\u001b[0m\u001b[0;34m[\u001b[0m\u001b[0;36m0\u001b[0m\u001b[0;34m]\u001b[0m\u001b[0;34m\u001b[0m\u001b[0;34m\u001b[0m\u001b[0m\n\u001b[1;32m     19\u001b[0m       \u001b[0mseq_lens\u001b[0m \u001b[0;34m=\u001b[0m \u001b[0mbatch\u001b[0m\u001b[0;34m[\u001b[0m\u001b[0;36m1\u001b[0m\u001b[0;34m]\u001b[0m\u001b[0;34m\u001b[0m\u001b[0;34m\u001b[0m\u001b[0m\n",
            "\u001b[0;31mRuntimeError\u001b[0m: CUDA error: device-side assert triggered\nCUDA kernel errors might be asynchronously reported at some other API call,so the stacktrace below might be incorrect.\nFor debugging consider passing CUDA_LAUNCH_BLOCKING=1."
          ]
        }
      ]
    },
    {
      "cell_type": "code",
      "source": [
        "test_acc_single"
      ],
      "metadata": {
        "colab": {
          "base_uri": "https://localhost:8080/"
        },
        "id": "gq6vY8nGb82k",
        "outputId": "da771c95-4a6e-4cac-9be7-e356fe3ab49a"
      },
      "execution_count": null,
      "outputs": [
        {
          "output_type": "execute_result",
          "data": {
            "text/plain": [
              "1.0"
            ]
          },
          "metadata": {},
          "execution_count": 183
        }
      ]
    },
    {
      "cell_type": "code",
      "source": [
        "#torch.save(model,\"2-2model\")"
      ],
      "metadata": {
        "id": "iWhtfzPpcALx"
      },
      "execution_count": null,
      "outputs": []
    },
    {
      "cell_type": "code",
      "source": [
        "'''\n",
        "the_model = torch.load(\"2-2model\")\n",
        "\n",
        "\n",
        "\n",
        "'''"
      ],
      "metadata": {
        "id": "v1zzfOGCfkZ6"
      },
      "execution_count": null,
      "outputs": []
    },
    {
      "cell_type": "code",
      "source": [],
      "metadata": {
        "id": "LkrBUo5Eflte"
      },
      "execution_count": null,
      "outputs": []
    }
  ],
  "metadata": {
    "colab": {
      "collapsed_sections": [],
      "provenance": []
    },
    "kernelspec": {
      "display_name": "Python 3.10.6 ('venv': venv)",
      "language": "python",
      "name": "python3"
    },
    "language_info": {
      "codemirror_mode": {
        "name": "ipython",
        "version": 3
      },
      "file_extension": ".py",
      "mimetype": "text/x-python",
      "name": "python",
      "nbconvert_exporter": "python",
      "pygments_lexer": "ipython3",
      "version": "3.10.6"
    },
    "vscode": {
      "interpreter": {
        "hash": "962a7dd07f2ed9e1b57b96ee9c6defc8592f1a66c3054bde378394e0c30efb85"
      }
    },
    "widgets": {
      "application/vnd.jupyter.widget-state+json": {
        "279c35b3a1ff47e4b0570c5556fad2bc": {
          "model_module": "@jupyter-widgets/controls",
          "model_name": "HBoxModel",
          "model_module_version": "1.5.0",
          "state": {
            "_dom_classes": [],
            "_model_module": "@jupyter-widgets/controls",
            "_model_module_version": "1.5.0",
            "_model_name": "HBoxModel",
            "_view_count": null,
            "_view_module": "@jupyter-widgets/controls",
            "_view_module_version": "1.5.0",
            "_view_name": "HBoxView",
            "box_style": "",
            "children": [
              "IPY_MODEL_a930de6b0ae94e028388039ed1e8a103",
              "IPY_MODEL_c5f595d646854fecb8441984abeda2bb",
              "IPY_MODEL_80e06d3b54fc4e71888c78037b4cda35"
            ],
            "layout": "IPY_MODEL_4b917349146f4d7e96717dfe41fa2ca3"
          }
        },
        "a930de6b0ae94e028388039ed1e8a103": {
          "model_module": "@jupyter-widgets/controls",
          "model_name": "HTMLModel",
          "model_module_version": "1.5.0",
          "state": {
            "_dom_classes": [],
            "_model_module": "@jupyter-widgets/controls",
            "_model_module_version": "1.5.0",
            "_model_name": "HTMLModel",
            "_view_count": null,
            "_view_module": "@jupyter-widgets/controls",
            "_view_module_version": "1.5.0",
            "_view_name": "HTMLView",
            "description": "",
            "description_tooltip": null,
            "layout": "IPY_MODEL_9df84bb3f7f848eb867f3ce9c5b5f7b6",
            "placeholder": "​",
            "style": "IPY_MODEL_bf86ea94c8cd41879a99ff3cfea3dc3b",
            "value": "Evaluation: 100%"
          }
        },
        "c5f595d646854fecb8441984abeda2bb": {
          "model_module": "@jupyter-widgets/controls",
          "model_name": "FloatProgressModel",
          "model_module_version": "1.5.0",
          "state": {
            "_dom_classes": [],
            "_model_module": "@jupyter-widgets/controls",
            "_model_module_version": "1.5.0",
            "_model_name": "FloatProgressModel",
            "_view_count": null,
            "_view_module": "@jupyter-widgets/controls",
            "_view_module_version": "1.5.0",
            "_view_name": "ProgressView",
            "bar_style": "success",
            "description": "",
            "description_tooltip": null,
            "layout": "IPY_MODEL_959f18f7d4554ebd86613ca6899e56bb",
            "max": 1,
            "min": 0,
            "orientation": "horizontal",
            "style": "IPY_MODEL_8089a657587c4c48ad726a80199e0463",
            "value": 1
          }
        },
        "80e06d3b54fc4e71888c78037b4cda35": {
          "model_module": "@jupyter-widgets/controls",
          "model_name": "HTMLModel",
          "model_module_version": "1.5.0",
          "state": {
            "_dom_classes": [],
            "_model_module": "@jupyter-widgets/controls",
            "_model_module_version": "1.5.0",
            "_model_name": "HTMLModel",
            "_view_count": null,
            "_view_module": "@jupyter-widgets/controls",
            "_view_module_version": "1.5.0",
            "_view_name": "HTMLView",
            "description": "",
            "description_tooltip": null,
            "layout": "IPY_MODEL_b6b8eb562fa242f2a38f3c496d89b382",
            "placeholder": "​",
            "style": "IPY_MODEL_ec079e384af7468f8631df46de6c5783",
            "value": " 1/1 [00:01&lt;00:00,  1.27it/s]"
          }
        },
        "4b917349146f4d7e96717dfe41fa2ca3": {
          "model_module": "@jupyter-widgets/base",
          "model_name": "LayoutModel",
          "model_module_version": "1.2.0",
          "state": {
            "_model_module": "@jupyter-widgets/base",
            "_model_module_version": "1.2.0",
            "_model_name": "LayoutModel",
            "_view_count": null,
            "_view_module": "@jupyter-widgets/base",
            "_view_module_version": "1.2.0",
            "_view_name": "LayoutView",
            "align_content": null,
            "align_items": null,
            "align_self": null,
            "border": null,
            "bottom": null,
            "display": null,
            "flex": null,
            "flex_flow": null,
            "grid_area": null,
            "grid_auto_columns": null,
            "grid_auto_flow": null,
            "grid_auto_rows": null,
            "grid_column": null,
            "grid_gap": null,
            "grid_row": null,
            "grid_template_areas": null,
            "grid_template_columns": null,
            "grid_template_rows": null,
            "height": null,
            "justify_content": null,
            "justify_items": null,
            "left": null,
            "margin": null,
            "max_height": null,
            "max_width": null,
            "min_height": null,
            "min_width": null,
            "object_fit": null,
            "object_position": null,
            "order": null,
            "overflow": null,
            "overflow_x": null,
            "overflow_y": null,
            "padding": null,
            "right": null,
            "top": null,
            "visibility": null,
            "width": null
          }
        },
        "9df84bb3f7f848eb867f3ce9c5b5f7b6": {
          "model_module": "@jupyter-widgets/base",
          "model_name": "LayoutModel",
          "model_module_version": "1.2.0",
          "state": {
            "_model_module": "@jupyter-widgets/base",
            "_model_module_version": "1.2.0",
            "_model_name": "LayoutModel",
            "_view_count": null,
            "_view_module": "@jupyter-widgets/base",
            "_view_module_version": "1.2.0",
            "_view_name": "LayoutView",
            "align_content": null,
            "align_items": null,
            "align_self": null,
            "border": null,
            "bottom": null,
            "display": null,
            "flex": null,
            "flex_flow": null,
            "grid_area": null,
            "grid_auto_columns": null,
            "grid_auto_flow": null,
            "grid_auto_rows": null,
            "grid_column": null,
            "grid_gap": null,
            "grid_row": null,
            "grid_template_areas": null,
            "grid_template_columns": null,
            "grid_template_rows": null,
            "height": null,
            "justify_content": null,
            "justify_items": null,
            "left": null,
            "margin": null,
            "max_height": null,
            "max_width": null,
            "min_height": null,
            "min_width": null,
            "object_fit": null,
            "object_position": null,
            "order": null,
            "overflow": null,
            "overflow_x": null,
            "overflow_y": null,
            "padding": null,
            "right": null,
            "top": null,
            "visibility": null,
            "width": null
          }
        },
        "bf86ea94c8cd41879a99ff3cfea3dc3b": {
          "model_module": "@jupyter-widgets/controls",
          "model_name": "DescriptionStyleModel",
          "model_module_version": "1.5.0",
          "state": {
            "_model_module": "@jupyter-widgets/controls",
            "_model_module_version": "1.5.0",
            "_model_name": "DescriptionStyleModel",
            "_view_count": null,
            "_view_module": "@jupyter-widgets/base",
            "_view_module_version": "1.2.0",
            "_view_name": "StyleView",
            "description_width": ""
          }
        },
        "959f18f7d4554ebd86613ca6899e56bb": {
          "model_module": "@jupyter-widgets/base",
          "model_name": "LayoutModel",
          "model_module_version": "1.2.0",
          "state": {
            "_model_module": "@jupyter-widgets/base",
            "_model_module_version": "1.2.0",
            "_model_name": "LayoutModel",
            "_view_count": null,
            "_view_module": "@jupyter-widgets/base",
            "_view_module_version": "1.2.0",
            "_view_name": "LayoutView",
            "align_content": null,
            "align_items": null,
            "align_self": null,
            "border": null,
            "bottom": null,
            "display": null,
            "flex": null,
            "flex_flow": null,
            "grid_area": null,
            "grid_auto_columns": null,
            "grid_auto_flow": null,
            "grid_auto_rows": null,
            "grid_column": null,
            "grid_gap": null,
            "grid_row": null,
            "grid_template_areas": null,
            "grid_template_columns": null,
            "grid_template_rows": null,
            "height": null,
            "justify_content": null,
            "justify_items": null,
            "left": null,
            "margin": null,
            "max_height": null,
            "max_width": null,
            "min_height": null,
            "min_width": null,
            "object_fit": null,
            "object_position": null,
            "order": null,
            "overflow": null,
            "overflow_x": null,
            "overflow_y": null,
            "padding": null,
            "right": null,
            "top": null,
            "visibility": null,
            "width": null
          }
        },
        "8089a657587c4c48ad726a80199e0463": {
          "model_module": "@jupyter-widgets/controls",
          "model_name": "ProgressStyleModel",
          "model_module_version": "1.5.0",
          "state": {
            "_model_module": "@jupyter-widgets/controls",
            "_model_module_version": "1.5.0",
            "_model_name": "ProgressStyleModel",
            "_view_count": null,
            "_view_module": "@jupyter-widgets/base",
            "_view_module_version": "1.2.0",
            "_view_name": "StyleView",
            "bar_color": null,
            "description_width": ""
          }
        },
        "b6b8eb562fa242f2a38f3c496d89b382": {
          "model_module": "@jupyter-widgets/base",
          "model_name": "LayoutModel",
          "model_module_version": "1.2.0",
          "state": {
            "_model_module": "@jupyter-widgets/base",
            "_model_module_version": "1.2.0",
            "_model_name": "LayoutModel",
            "_view_count": null,
            "_view_module": "@jupyter-widgets/base",
            "_view_module_version": "1.2.0",
            "_view_name": "LayoutView",
            "align_content": null,
            "align_items": null,
            "align_self": null,
            "border": null,
            "bottom": null,
            "display": null,
            "flex": null,
            "flex_flow": null,
            "grid_area": null,
            "grid_auto_columns": null,
            "grid_auto_flow": null,
            "grid_auto_rows": null,
            "grid_column": null,
            "grid_gap": null,
            "grid_row": null,
            "grid_template_areas": null,
            "grid_template_columns": null,
            "grid_template_rows": null,
            "height": null,
            "justify_content": null,
            "justify_items": null,
            "left": null,
            "margin": null,
            "max_height": null,
            "max_width": null,
            "min_height": null,
            "min_width": null,
            "object_fit": null,
            "object_position": null,
            "order": null,
            "overflow": null,
            "overflow_x": null,
            "overflow_y": null,
            "padding": null,
            "right": null,
            "top": null,
            "visibility": null,
            "width": null
          }
        },
        "ec079e384af7468f8631df46de6c5783": {
          "model_module": "@jupyter-widgets/controls",
          "model_name": "DescriptionStyleModel",
          "model_module_version": "1.5.0",
          "state": {
            "_model_module": "@jupyter-widgets/controls",
            "_model_module_version": "1.5.0",
            "_model_name": "DescriptionStyleModel",
            "_view_count": null,
            "_view_module": "@jupyter-widgets/base",
            "_view_module_version": "1.2.0",
            "_view_name": "StyleView",
            "description_width": ""
          }
        },
        "df5a4c730b344067bc78310744c5742b": {
          "model_module": "@jupyter-widgets/controls",
          "model_name": "HBoxModel",
          "model_module_version": "1.5.0",
          "state": {
            "_dom_classes": [],
            "_model_module": "@jupyter-widgets/controls",
            "_model_module_version": "1.5.0",
            "_model_name": "HBoxModel",
            "_view_count": null,
            "_view_module": "@jupyter-widgets/controls",
            "_view_module_version": "1.5.0",
            "_view_name": "HBoxView",
            "box_style": "",
            "children": [
              "IPY_MODEL_f77cbe80fd8140c38cc619b0b08addaf",
              "IPY_MODEL_1c17b67ca3c543d184cb1c4d40408466",
              "IPY_MODEL_050cb51c9c1946a094947f35eee29fb5"
            ],
            "layout": "IPY_MODEL_534c97c8e2e9490fbfa074b30bcff7a2"
          }
        },
        "f77cbe80fd8140c38cc619b0b08addaf": {
          "model_module": "@jupyter-widgets/controls",
          "model_name": "HTMLModel",
          "model_module_version": "1.5.0",
          "state": {
            "_dom_classes": [],
            "_model_module": "@jupyter-widgets/controls",
            "_model_module_version": "1.5.0",
            "_model_name": "HTMLModel",
            "_view_count": null,
            "_view_module": "@jupyter-widgets/controls",
            "_view_module_version": "1.5.0",
            "_view_name": "HTMLView",
            "description": "",
            "description_tooltip": null,
            "layout": "IPY_MODEL_469014aa4b5049b2af1c8bbca7bc7aad",
            "placeholder": "​",
            "style": "IPY_MODEL_5cbdac156edd4dae86ca95e68101c4a5",
            "value": "Evaluation: 100%"
          }
        },
        "1c17b67ca3c543d184cb1c4d40408466": {
          "model_module": "@jupyter-widgets/controls",
          "model_name": "FloatProgressModel",
          "model_module_version": "1.5.0",
          "state": {
            "_dom_classes": [],
            "_model_module": "@jupyter-widgets/controls",
            "_model_module_version": "1.5.0",
            "_model_name": "FloatProgressModel",
            "_view_count": null,
            "_view_module": "@jupyter-widgets/controls",
            "_view_module_version": "1.5.0",
            "_view_name": "ProgressView",
            "bar_style": "success",
            "description": "",
            "description_tooltip": null,
            "layout": "IPY_MODEL_0f5897f78ea54e829ff0b6269d83554b",
            "max": 1,
            "min": 0,
            "orientation": "horizontal",
            "style": "IPY_MODEL_9f644e6b070a4262aa77591f755e0f77",
            "value": 1
          }
        },
        "050cb51c9c1946a094947f35eee29fb5": {
          "model_module": "@jupyter-widgets/controls",
          "model_name": "HTMLModel",
          "model_module_version": "1.5.0",
          "state": {
            "_dom_classes": [],
            "_model_module": "@jupyter-widgets/controls",
            "_model_module_version": "1.5.0",
            "_model_name": "HTMLModel",
            "_view_count": null,
            "_view_module": "@jupyter-widgets/controls",
            "_view_module_version": "1.5.0",
            "_view_name": "HTMLView",
            "description": "",
            "description_tooltip": null,
            "layout": "IPY_MODEL_bb520b3bfd1d4a49afd9e3c3279f4a39",
            "placeholder": "​",
            "style": "IPY_MODEL_601817ac87034ed7813a996b6fc9dc53",
            "value": " 1/1 [00:01&lt;00:00,  1.37it/s]"
          }
        },
        "534c97c8e2e9490fbfa074b30bcff7a2": {
          "model_module": "@jupyter-widgets/base",
          "model_name": "LayoutModel",
          "model_module_version": "1.2.0",
          "state": {
            "_model_module": "@jupyter-widgets/base",
            "_model_module_version": "1.2.0",
            "_model_name": "LayoutModel",
            "_view_count": null,
            "_view_module": "@jupyter-widgets/base",
            "_view_module_version": "1.2.0",
            "_view_name": "LayoutView",
            "align_content": null,
            "align_items": null,
            "align_self": null,
            "border": null,
            "bottom": null,
            "display": null,
            "flex": null,
            "flex_flow": null,
            "grid_area": null,
            "grid_auto_columns": null,
            "grid_auto_flow": null,
            "grid_auto_rows": null,
            "grid_column": null,
            "grid_gap": null,
            "grid_row": null,
            "grid_template_areas": null,
            "grid_template_columns": null,
            "grid_template_rows": null,
            "height": null,
            "justify_content": null,
            "justify_items": null,
            "left": null,
            "margin": null,
            "max_height": null,
            "max_width": null,
            "min_height": null,
            "min_width": null,
            "object_fit": null,
            "object_position": null,
            "order": null,
            "overflow": null,
            "overflow_x": null,
            "overflow_y": null,
            "padding": null,
            "right": null,
            "top": null,
            "visibility": null,
            "width": null
          }
        },
        "469014aa4b5049b2af1c8bbca7bc7aad": {
          "model_module": "@jupyter-widgets/base",
          "model_name": "LayoutModel",
          "model_module_version": "1.2.0",
          "state": {
            "_model_module": "@jupyter-widgets/base",
            "_model_module_version": "1.2.0",
            "_model_name": "LayoutModel",
            "_view_count": null,
            "_view_module": "@jupyter-widgets/base",
            "_view_module_version": "1.2.0",
            "_view_name": "LayoutView",
            "align_content": null,
            "align_items": null,
            "align_self": null,
            "border": null,
            "bottom": null,
            "display": null,
            "flex": null,
            "flex_flow": null,
            "grid_area": null,
            "grid_auto_columns": null,
            "grid_auto_flow": null,
            "grid_auto_rows": null,
            "grid_column": null,
            "grid_gap": null,
            "grid_row": null,
            "grid_template_areas": null,
            "grid_template_columns": null,
            "grid_template_rows": null,
            "height": null,
            "justify_content": null,
            "justify_items": null,
            "left": null,
            "margin": null,
            "max_height": null,
            "max_width": null,
            "min_height": null,
            "min_width": null,
            "object_fit": null,
            "object_position": null,
            "order": null,
            "overflow": null,
            "overflow_x": null,
            "overflow_y": null,
            "padding": null,
            "right": null,
            "top": null,
            "visibility": null,
            "width": null
          }
        },
        "5cbdac156edd4dae86ca95e68101c4a5": {
          "model_module": "@jupyter-widgets/controls",
          "model_name": "DescriptionStyleModel",
          "model_module_version": "1.5.0",
          "state": {
            "_model_module": "@jupyter-widgets/controls",
            "_model_module_version": "1.5.0",
            "_model_name": "DescriptionStyleModel",
            "_view_count": null,
            "_view_module": "@jupyter-widgets/base",
            "_view_module_version": "1.2.0",
            "_view_name": "StyleView",
            "description_width": ""
          }
        },
        "0f5897f78ea54e829ff0b6269d83554b": {
          "model_module": "@jupyter-widgets/base",
          "model_name": "LayoutModel",
          "model_module_version": "1.2.0",
          "state": {
            "_model_module": "@jupyter-widgets/base",
            "_model_module_version": "1.2.0",
            "_model_name": "LayoutModel",
            "_view_count": null,
            "_view_module": "@jupyter-widgets/base",
            "_view_module_version": "1.2.0",
            "_view_name": "LayoutView",
            "align_content": null,
            "align_items": null,
            "align_self": null,
            "border": null,
            "bottom": null,
            "display": null,
            "flex": null,
            "flex_flow": null,
            "grid_area": null,
            "grid_auto_columns": null,
            "grid_auto_flow": null,
            "grid_auto_rows": null,
            "grid_column": null,
            "grid_gap": null,
            "grid_row": null,
            "grid_template_areas": null,
            "grid_template_columns": null,
            "grid_template_rows": null,
            "height": null,
            "justify_content": null,
            "justify_items": null,
            "left": null,
            "margin": null,
            "max_height": null,
            "max_width": null,
            "min_height": null,
            "min_width": null,
            "object_fit": null,
            "object_position": null,
            "order": null,
            "overflow": null,
            "overflow_x": null,
            "overflow_y": null,
            "padding": null,
            "right": null,
            "top": null,
            "visibility": null,
            "width": null
          }
        },
        "9f644e6b070a4262aa77591f755e0f77": {
          "model_module": "@jupyter-widgets/controls",
          "model_name": "ProgressStyleModel",
          "model_module_version": "1.5.0",
          "state": {
            "_model_module": "@jupyter-widgets/controls",
            "_model_module_version": "1.5.0",
            "_model_name": "ProgressStyleModel",
            "_view_count": null,
            "_view_module": "@jupyter-widgets/base",
            "_view_module_version": "1.2.0",
            "_view_name": "StyleView",
            "bar_color": null,
            "description_width": ""
          }
        },
        "bb520b3bfd1d4a49afd9e3c3279f4a39": {
          "model_module": "@jupyter-widgets/base",
          "model_name": "LayoutModel",
          "model_module_version": "1.2.0",
          "state": {
            "_model_module": "@jupyter-widgets/base",
            "_model_module_version": "1.2.0",
            "_model_name": "LayoutModel",
            "_view_count": null,
            "_view_module": "@jupyter-widgets/base",
            "_view_module_version": "1.2.0",
            "_view_name": "LayoutView",
            "align_content": null,
            "align_items": null,
            "align_self": null,
            "border": null,
            "bottom": null,
            "display": null,
            "flex": null,
            "flex_flow": null,
            "grid_area": null,
            "grid_auto_columns": null,
            "grid_auto_flow": null,
            "grid_auto_rows": null,
            "grid_column": null,
            "grid_gap": null,
            "grid_row": null,
            "grid_template_areas": null,
            "grid_template_columns": null,
            "grid_template_rows": null,
            "height": null,
            "justify_content": null,
            "justify_items": null,
            "left": null,
            "margin": null,
            "max_height": null,
            "max_width": null,
            "min_height": null,
            "min_width": null,
            "object_fit": null,
            "object_position": null,
            "order": null,
            "overflow": null,
            "overflow_x": null,
            "overflow_y": null,
            "padding": null,
            "right": null,
            "top": null,
            "visibility": null,
            "width": null
          }
        },
        "601817ac87034ed7813a996b6fc9dc53": {
          "model_module": "@jupyter-widgets/controls",
          "model_name": "DescriptionStyleModel",
          "model_module_version": "1.5.0",
          "state": {
            "_model_module": "@jupyter-widgets/controls",
            "_model_module_version": "1.5.0",
            "_model_name": "DescriptionStyleModel",
            "_view_count": null,
            "_view_module": "@jupyter-widgets/base",
            "_view_module_version": "1.2.0",
            "_view_name": "StyleView",
            "description_width": ""
          }
        },
        "b3c31b8eec7b43989987baf929817fe6": {
          "model_module": "@jupyter-widgets/controls",
          "model_name": "HBoxModel",
          "model_module_version": "1.5.0",
          "state": {
            "_dom_classes": [],
            "_model_module": "@jupyter-widgets/controls",
            "_model_module_version": "1.5.0",
            "_model_name": "HBoxModel",
            "_view_count": null,
            "_view_module": "@jupyter-widgets/controls",
            "_view_module_version": "1.5.0",
            "_view_name": "HBoxView",
            "box_style": "",
            "children": [
              "IPY_MODEL_d77db6bfd3ff4e4eb91438c2f7fb3907",
              "IPY_MODEL_ced15de55c5e484fbafb6bd5f5cd23c1",
              "IPY_MODEL_5447eea2e7d74fb4a2812945ec4d3f39"
            ],
            "layout": "IPY_MODEL_ff74bf3ca2fc4335a962fe377680fdd3"
          }
        },
        "d77db6bfd3ff4e4eb91438c2f7fb3907": {
          "model_module": "@jupyter-widgets/controls",
          "model_name": "HTMLModel",
          "model_module_version": "1.5.0",
          "state": {
            "_dom_classes": [],
            "_model_module": "@jupyter-widgets/controls",
            "_model_module_version": "1.5.0",
            "_model_name": "HTMLModel",
            "_view_count": null,
            "_view_module": "@jupyter-widgets/controls",
            "_view_module_version": "1.5.0",
            "_view_name": "HTMLView",
            "description": "",
            "description_tooltip": null,
            "layout": "IPY_MODEL_620bf172e2004259b6753c650b978e5d",
            "placeholder": "​",
            "style": "IPY_MODEL_b329181ccc7844ab973fb56088555321",
            "value": "Evaluation:   0%"
          }
        },
        "ced15de55c5e484fbafb6bd5f5cd23c1": {
          "model_module": "@jupyter-widgets/controls",
          "model_name": "FloatProgressModel",
          "model_module_version": "1.5.0",
          "state": {
            "_dom_classes": [],
            "_model_module": "@jupyter-widgets/controls",
            "_model_module_version": "1.5.0",
            "_model_name": "FloatProgressModel",
            "_view_count": null,
            "_view_module": "@jupyter-widgets/controls",
            "_view_module_version": "1.5.0",
            "_view_name": "ProgressView",
            "bar_style": "danger",
            "description": "",
            "description_tooltip": null,
            "layout": "IPY_MODEL_2e75cf4a62c947e7992a3a164ffd17ce",
            "max": 4,
            "min": 0,
            "orientation": "horizontal",
            "style": "IPY_MODEL_4a945a05ff5644c78e425a35ac90d1ec",
            "value": 0
          }
        },
        "5447eea2e7d74fb4a2812945ec4d3f39": {
          "model_module": "@jupyter-widgets/controls",
          "model_name": "HTMLModel",
          "model_module_version": "1.5.0",
          "state": {
            "_dom_classes": [],
            "_model_module": "@jupyter-widgets/controls",
            "_model_module_version": "1.5.0",
            "_model_name": "HTMLModel",
            "_view_count": null,
            "_view_module": "@jupyter-widgets/controls",
            "_view_module_version": "1.5.0",
            "_view_name": "HTMLView",
            "description": "",
            "description_tooltip": null,
            "layout": "IPY_MODEL_a2c0ddd037dc4615b0eb150fb1d6f6e0",
            "placeholder": "​",
            "style": "IPY_MODEL_1b643ad60b5e43f4a1b121198da47b82",
            "value": " 0/4 [00:01&lt;?, ?it/s]"
          }
        },
        "ff74bf3ca2fc4335a962fe377680fdd3": {
          "model_module": "@jupyter-widgets/base",
          "model_name": "LayoutModel",
          "model_module_version": "1.2.0",
          "state": {
            "_model_module": "@jupyter-widgets/base",
            "_model_module_version": "1.2.0",
            "_model_name": "LayoutModel",
            "_view_count": null,
            "_view_module": "@jupyter-widgets/base",
            "_view_module_version": "1.2.0",
            "_view_name": "LayoutView",
            "align_content": null,
            "align_items": null,
            "align_self": null,
            "border": null,
            "bottom": null,
            "display": null,
            "flex": null,
            "flex_flow": null,
            "grid_area": null,
            "grid_auto_columns": null,
            "grid_auto_flow": null,
            "grid_auto_rows": null,
            "grid_column": null,
            "grid_gap": null,
            "grid_row": null,
            "grid_template_areas": null,
            "grid_template_columns": null,
            "grid_template_rows": null,
            "height": null,
            "justify_content": null,
            "justify_items": null,
            "left": null,
            "margin": null,
            "max_height": null,
            "max_width": null,
            "min_height": null,
            "min_width": null,
            "object_fit": null,
            "object_position": null,
            "order": null,
            "overflow": null,
            "overflow_x": null,
            "overflow_y": null,
            "padding": null,
            "right": null,
            "top": null,
            "visibility": null,
            "width": null
          }
        },
        "620bf172e2004259b6753c650b978e5d": {
          "model_module": "@jupyter-widgets/base",
          "model_name": "LayoutModel",
          "model_module_version": "1.2.0",
          "state": {
            "_model_module": "@jupyter-widgets/base",
            "_model_module_version": "1.2.0",
            "_model_name": "LayoutModel",
            "_view_count": null,
            "_view_module": "@jupyter-widgets/base",
            "_view_module_version": "1.2.0",
            "_view_name": "LayoutView",
            "align_content": null,
            "align_items": null,
            "align_self": null,
            "border": null,
            "bottom": null,
            "display": null,
            "flex": null,
            "flex_flow": null,
            "grid_area": null,
            "grid_auto_columns": null,
            "grid_auto_flow": null,
            "grid_auto_rows": null,
            "grid_column": null,
            "grid_gap": null,
            "grid_row": null,
            "grid_template_areas": null,
            "grid_template_columns": null,
            "grid_template_rows": null,
            "height": null,
            "justify_content": null,
            "justify_items": null,
            "left": null,
            "margin": null,
            "max_height": null,
            "max_width": null,
            "min_height": null,
            "min_width": null,
            "object_fit": null,
            "object_position": null,
            "order": null,
            "overflow": null,
            "overflow_x": null,
            "overflow_y": null,
            "padding": null,
            "right": null,
            "top": null,
            "visibility": null,
            "width": null
          }
        },
        "b329181ccc7844ab973fb56088555321": {
          "model_module": "@jupyter-widgets/controls",
          "model_name": "DescriptionStyleModel",
          "model_module_version": "1.5.0",
          "state": {
            "_model_module": "@jupyter-widgets/controls",
            "_model_module_version": "1.5.0",
            "_model_name": "DescriptionStyleModel",
            "_view_count": null,
            "_view_module": "@jupyter-widgets/base",
            "_view_module_version": "1.2.0",
            "_view_name": "StyleView",
            "description_width": ""
          }
        },
        "2e75cf4a62c947e7992a3a164ffd17ce": {
          "model_module": "@jupyter-widgets/base",
          "model_name": "LayoutModel",
          "model_module_version": "1.2.0",
          "state": {
            "_model_module": "@jupyter-widgets/base",
            "_model_module_version": "1.2.0",
            "_model_name": "LayoutModel",
            "_view_count": null,
            "_view_module": "@jupyter-widgets/base",
            "_view_module_version": "1.2.0",
            "_view_name": "LayoutView",
            "align_content": null,
            "align_items": null,
            "align_self": null,
            "border": null,
            "bottom": null,
            "display": null,
            "flex": null,
            "flex_flow": null,
            "grid_area": null,
            "grid_auto_columns": null,
            "grid_auto_flow": null,
            "grid_auto_rows": null,
            "grid_column": null,
            "grid_gap": null,
            "grid_row": null,
            "grid_template_areas": null,
            "grid_template_columns": null,
            "grid_template_rows": null,
            "height": null,
            "justify_content": null,
            "justify_items": null,
            "left": null,
            "margin": null,
            "max_height": null,
            "max_width": null,
            "min_height": null,
            "min_width": null,
            "object_fit": null,
            "object_position": null,
            "order": null,
            "overflow": null,
            "overflow_x": null,
            "overflow_y": null,
            "padding": null,
            "right": null,
            "top": null,
            "visibility": null,
            "width": null
          }
        },
        "4a945a05ff5644c78e425a35ac90d1ec": {
          "model_module": "@jupyter-widgets/controls",
          "model_name": "ProgressStyleModel",
          "model_module_version": "1.5.0",
          "state": {
            "_model_module": "@jupyter-widgets/controls",
            "_model_module_version": "1.5.0",
            "_model_name": "ProgressStyleModel",
            "_view_count": null,
            "_view_module": "@jupyter-widgets/base",
            "_view_module_version": "1.2.0",
            "_view_name": "StyleView",
            "bar_color": null,
            "description_width": ""
          }
        },
        "a2c0ddd037dc4615b0eb150fb1d6f6e0": {
          "model_module": "@jupyter-widgets/base",
          "model_name": "LayoutModel",
          "model_module_version": "1.2.0",
          "state": {
            "_model_module": "@jupyter-widgets/base",
            "_model_module_version": "1.2.0",
            "_model_name": "LayoutModel",
            "_view_count": null,
            "_view_module": "@jupyter-widgets/base",
            "_view_module_version": "1.2.0",
            "_view_name": "LayoutView",
            "align_content": null,
            "align_items": null,
            "align_self": null,
            "border": null,
            "bottom": null,
            "display": null,
            "flex": null,
            "flex_flow": null,
            "grid_area": null,
            "grid_auto_columns": null,
            "grid_auto_flow": null,
            "grid_auto_rows": null,
            "grid_column": null,
            "grid_gap": null,
            "grid_row": null,
            "grid_template_areas": null,
            "grid_template_columns": null,
            "grid_template_rows": null,
            "height": null,
            "justify_content": null,
            "justify_items": null,
            "left": null,
            "margin": null,
            "max_height": null,
            "max_width": null,
            "min_height": null,
            "min_width": null,
            "object_fit": null,
            "object_position": null,
            "order": null,
            "overflow": null,
            "overflow_x": null,
            "overflow_y": null,
            "padding": null,
            "right": null,
            "top": null,
            "visibility": null,
            "width": null
          }
        },
        "1b643ad60b5e43f4a1b121198da47b82": {
          "model_module": "@jupyter-widgets/controls",
          "model_name": "DescriptionStyleModel",
          "model_module_version": "1.5.0",
          "state": {
            "_model_module": "@jupyter-widgets/controls",
            "_model_module_version": "1.5.0",
            "_model_name": "DescriptionStyleModel",
            "_view_count": null,
            "_view_module": "@jupyter-widgets/base",
            "_view_module_version": "1.2.0",
            "_view_name": "StyleView",
            "description_width": ""
          }
        }
      }
    },
    "accelerator": "GPU"
  },
  "nbformat": 4,
  "nbformat_minor": 0
}