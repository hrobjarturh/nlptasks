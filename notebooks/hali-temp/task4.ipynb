{
 "cells": [
  {
   "cell_type": "code",
   "execution_count": 134,
   "metadata": {},
   "outputs": [],
   "source": [
    "#Error analysis and Explainaibility\n",
    "import pandas as pd\n",
    "import numpy as np\n",
    "import torch\n",
    "import random\n",
    "import numpy as np\n",
    "\n",
    "from transformers import AutoTokenizer, BertForMaskedLM \n",
    "from datasets import load_dataset, Dataset, DatasetDict\n",
    "from matplotlib import pyplot as plt"
   ]
  },
  {
   "cell_type": "code",
   "execution_count": 2,
   "metadata": {},
   "outputs": [],
   "source": [
    "def enforce_reproducibility(seed=42):\n",
    "    # Sets seed manually for both CPU and CUDA\n",
    "    torch.manual_seed(seed)\n",
    "    torch.cuda.manual_seed_all(seed)\n",
    "    # For atomic operations there is currently \n",
    "    # no simple way to enforce determinism, as\n",
    "    # the order of parallel operations is not known.\n",
    "    # CUDNN\n",
    "    torch.backends.cudnn.deterministic = True\n",
    "    torch.backends.cudnn.benchmark = False\n",
    "    # System based\n",
    "    random.seed(seed)\n",
    "    np.random.seed(seed)\n",
    "enforce_reproducibility()"
   ]
  },
  {
   "cell_type": "code",
   "execution_count": 3,
   "metadata": {},
   "outputs": [
    {
     "name": "stderr",
     "output_type": "stream",
     "text": [
      "c:\\Users\\Hallgrimur\\anaconda3\\lib\\site-packages\\torch\\cuda\\__init__.py:83: UserWarning: CUDA initialization: CUDA driver initialization failed, you might not have a CUDA gpu. (Triggered internally at  C:\\cb\\pytorch_1000000000000\\work\\c10\\cuda\\CUDAFunctions.cpp:109.)\n",
      "  return torch._C._cuda_getDeviceCount() > 0\n"
     ]
    },
    {
     "data": {
      "text/plain": [
       "device(type='cpu')"
      ]
     },
     "execution_count": 3,
     "metadata": {},
     "output_type": "execute_result"
    }
   ],
   "source": [
    "device = torch.device(\"cpu\")\n",
    "if torch.cuda.is_available():\n",
    "    device = torch.device(\"cuda\")\n",
    "device"
   ]
  },
  {
   "cell_type": "code",
   "execution_count": 4,
   "metadata": {},
   "outputs": [
    {
     "name": "stderr",
     "output_type": "stream",
     "text": [
      "Some weights of the model checkpoint at bert-base-cased were not used when initializing BertForMaskedLM: ['cls.seq_relationship.weight', 'cls.seq_relationship.bias']\n",
      "- This IS expected if you are initializing BertForMaskedLM from the checkpoint of a model trained on another task or with another architecture (e.g. initializing a BertForSequenceClassification model from a BertForPreTraining model).\n",
      "- This IS NOT expected if you are initializing BertForMaskedLM from the checkpoint of a model that you expect to be exactly identical (initializing a BertForSequenceClassification model from a BertForSequenceClassification model).\n"
     ]
    }
   ],
   "source": [
    "tokenizer = AutoTokenizer.from_pretrained(\"bert-base-cased\")\n",
    "bert = BertForMaskedLM.from_pretrained(\"bert-base-cased\")\n",
    "\n",
    "def get_probs(sentence, word_idx):\n",
    "    input_ids = tokenizer.encode(sentence)\n",
    "    input_ids = torch.tensor([input_ids])\n",
    "    logits = bert(input_ids)[0][0]\n",
    "    sorted_probs = logits[word_idx].sort(descending=True)\n",
    "\n",
    "    return sorted_probs"
   ]
  },
  {
   "cell_type": "code",
   "execution_count": 23,
   "metadata": {},
   "outputs": [
    {
     "name": "stdout",
     "output_type": "stream",
     "text": [
      "sleep: 8.72309684753418\n",
      "hell: 8.661072731018066\n",
      "school: 8.478260040283203\n",
      "bed: 8.44270133972168\n",
      "work: 8.12966251373291\n",
      "heaven: 8.072664260864258\n",
      "church: 8.049494743347168\n",
      "college: 7.654543399810791\n",
      "Italy: 7.634222030639648\n",
      "her: 7.583528518676758\n"
     ]
    }
   ],
   "source": [
    "sentence = f\"We want to go to {tokenizer.mask_token}.\"\n",
    "sorted_probs = get_probs(sentence, 6)\n",
    "for i in range(10):\n",
    "    token = tokenizer._convert_id_to_token(sorted_probs.indices[i].numpy().tolist())\n",
    "    conf = sorted_probs.values[i].detach().numpy().tolist()\n",
    "    print(f\"{token}: {conf}\")"
   ]
  },
  {
   "cell_type": "code",
   "execution_count": 129,
   "metadata": {},
   "outputs": [],
   "source": [
    "import spacy\n",
    "from sklearn.linear_model import LogisticRegression\n",
    "from sklearn.feature_extraction.text import CountVectorizer\n",
    "from sklearn.feature_extraction.text import TfidfVectorizer\n",
    "from sklearn.model_selection import RandomizedSearchCV\n",
    "from sklearn.metrics import classification_report, confusion_matrix\n"
   ]
  },
  {
   "cell_type": "code",
   "execution_count": 107,
   "metadata": {},
   "outputs": [
    {
     "name": "stderr",
     "output_type": "stream",
     "text": [
      "Using custom data configuration copenlu--nlp_course_tydiqa-cceecfb5416d988a\n",
      "Found cached dataset parquet (C:/Users/Hallgrimur/.cache/huggingface/datasets/copenlu___parquet/copenlu--nlp_course_tydiqa-cceecfb5416d988a/0.0.0/2a3b91fbd88a2c90d1dbbb32b460cf621d31bd5b05b934492fdef7d8d6f236ec)\n"
     ]
    },
    {
     "data": {
      "application/vnd.jupyter.widget-view+json": {
       "model_id": "ad17714db9c54830b46e47875aae9b94",
       "version_major": 2,
       "version_minor": 0
      },
      "text/plain": [
       "  0%|          | 0/2 [00:00<?, ?it/s]"
      ]
     },
     "metadata": {},
     "output_type": "display_data"
    }
   ],
   "source": [
    "dataset = load_dataset(\"copenlu/answerable_tydiqa\")\n",
    "\n",
    "#split data \n",
    "train_set = dataset[\"train\"]\n",
    "validation_set = dataset[\"validation\"]\n",
    "\n",
    "train_set = train_set.to_pandas()\n",
    "validation_set = validation_set.to_pandas()\n",
    "\n",
    "#preprocess data\n",
    "\n",
    "eng_train_set = train_set[train_set['language'] == 'english']\n",
    "fin_train_set = train_set[train_set['language'] == 'finnish']\n",
    "jap_train_set = train_set[train_set['language'] == 'japanese']\n",
    "\n",
    "eng_validation_set = validation_set[validation_set['language'] == 'english']\n",
    "fin_validation_set = validation_set[validation_set['language'] == 'finnish']\n",
    "jap_validation_set = validation_set[validation_set['language'] == 'japanese']\n"
   ]
  },
  {
   "cell_type": "code",
   "execution_count": 109,
   "metadata": {},
   "outputs": [
    {
     "name": "stderr",
     "output_type": "stream",
     "text": [
      "C:\\Users\\Hallgrimur\\AppData\\Local\\Temp\\ipykernel_16764\\3288686915.py:11: SettingWithCopyWarning: \n",
      "A value is trying to be set on a copy of a slice from a DataFrame.\n",
      "Try using .loc[row_indexer,col_indexer] = value instead\n",
      "\n",
      "See the caveats in the documentation: https://pandas.pydata.org/pandas-docs/stable/user_guide/indexing.html#returning-a-view-versus-a-copy\n",
      "  eng_train_set['answerable'] = get_answerability(eng_train_set['annotations'].tolist())\n",
      "C:\\Users\\Hallgrimur\\AppData\\Local\\Temp\\ipykernel_16764\\3288686915.py:12: SettingWithCopyWarning: \n",
      "A value is trying to be set on a copy of a slice from a DataFrame.\n",
      "Try using .loc[row_indexer,col_indexer] = value instead\n",
      "\n",
      "See the caveats in the documentation: https://pandas.pydata.org/pandas-docs/stable/user_guide/indexing.html#returning-a-view-versus-a-copy\n",
      "  fin_train_set['answerable'] = get_answerability(fin_train_set['annotations'].tolist())\n",
      "C:\\Users\\Hallgrimur\\AppData\\Local\\Temp\\ipykernel_16764\\3288686915.py:13: SettingWithCopyWarning: \n",
      "A value is trying to be set on a copy of a slice from a DataFrame.\n",
      "Try using .loc[row_indexer,col_indexer] = value instead\n",
      "\n",
      "See the caveats in the documentation: https://pandas.pydata.org/pandas-docs/stable/user_guide/indexing.html#returning-a-view-versus-a-copy\n",
      "  jap_train_set['answerable'] = get_answerability(jap_train_set['annotations'].tolist())\n",
      "C:\\Users\\Hallgrimur\\AppData\\Local\\Temp\\ipykernel_16764\\3288686915.py:15: SettingWithCopyWarning: \n",
      "A value is trying to be set on a copy of a slice from a DataFrame.\n",
      "Try using .loc[row_indexer,col_indexer] = value instead\n",
      "\n",
      "See the caveats in the documentation: https://pandas.pydata.org/pandas-docs/stable/user_guide/indexing.html#returning-a-view-versus-a-copy\n",
      "  eng_validation_set['answerable'] = get_answerability(eng_validation_set['annotations'].tolist())\n",
      "C:\\Users\\Hallgrimur\\AppData\\Local\\Temp\\ipykernel_16764\\3288686915.py:16: SettingWithCopyWarning: \n",
      "A value is trying to be set on a copy of a slice from a DataFrame.\n",
      "Try using .loc[row_indexer,col_indexer] = value instead\n",
      "\n",
      "See the caveats in the documentation: https://pandas.pydata.org/pandas-docs/stable/user_guide/indexing.html#returning-a-view-versus-a-copy\n",
      "  fin_validation_set['answerable'] = get_answerability(fin_validation_set['annotations'].tolist())\n",
      "C:\\Users\\Hallgrimur\\AppData\\Local\\Temp\\ipykernel_16764\\3288686915.py:17: SettingWithCopyWarning: \n",
      "A value is trying to be set on a copy of a slice from a DataFrame.\n",
      "Try using .loc[row_indexer,col_indexer] = value instead\n",
      "\n",
      "See the caveats in the documentation: https://pandas.pydata.org/pandas-docs/stable/user_guide/indexing.html#returning-a-view-versus-a-copy\n",
      "  jap_validation_set['answerable'] = get_answerability(jap_validation_set['annotations'].tolist())\n"
     ]
    },
    {
     "data": {
      "text/plain": [
       "Index(['question_text', 'document_title', 'language', 'annotations',\n",
       "       'document_plaintext', 'document_url', 'answerable'],\n",
       "      dtype='object')"
      ]
     },
     "execution_count": 109,
     "metadata": {},
     "output_type": "execute_result"
    }
   ],
   "source": [
    "def get_answerability(annotations):\n",
    "    answerable = []\n",
    "    for annot in annotations:\n",
    "        if -1 in annot['answer_start']:\n",
    "            answerable.append(0)\n",
    "        else:\n",
    "            answerable.append(1)\n",
    "    return answerable\n",
    "\n",
    "\n",
    "eng_train_set['answerable'] = get_answerability(eng_train_set['annotations'].tolist())\n",
    "fin_train_set['answerable'] = get_answerability(fin_train_set['annotations'].tolist())\n",
    "jap_train_set['answerable'] = get_answerability(jap_train_set['annotations'].tolist())\n",
    "\n",
    "eng_validation_set['answerable'] = get_answerability(eng_validation_set['annotations'].tolist())\n",
    "fin_validation_set['answerable'] = get_answerability(fin_validation_set['annotations'].tolist())\n",
    "jap_validation_set['answerable'] = get_answerability(jap_validation_set['annotations'].tolist())\n",
    "\n",
    "jap_train_set.columns"
   ]
  },
  {
   "cell_type": "code",
   "execution_count": 114,
   "metadata": {},
   "outputs": [
    {
     "data": {
      "text/plain": [
       "DatasetDict({\n",
       "    train: Dataset({\n",
       "        features: ['text', 'labels'],\n",
       "        num_rows: 7389\n",
       "    })\n",
       "    valid: Dataset({\n",
       "        features: ['text', 'labels'],\n",
       "        num_rows: 990\n",
       "    })\n",
       "})"
      ]
     },
     "execution_count": 114,
     "metadata": {},
     "output_type": "execute_result"
    }
   ],
   "source": [
    "def question_parag_combine(questions, paragraphs):\n",
    "    \"\"\"\n",
    "    This function combines the questions and paragraphs into a single text\n",
    "    Args:\n",
    "        questions: list of questions\n",
    "        paragraphs: list of paragraphs\n",
    "    Returns:\n",
    "        list of combined questions and paragraphs\n",
    "    \"\"\"\n",
    "    training_data = []\n",
    "    for index in range(len(questions)):\n",
    "        training_data += [questions[index] + \"\\n\" + paragraphs[index]]\n",
    "        \n",
    "    return training_data\n",
    "\n",
    "def make_df(train_set, validation_set):\n",
    "  d_q = train_set['question_text'].tolist()\n",
    "  d_p = train_set['document_plaintext'].tolist()\n",
    "  training_data = question_parag_combine(d_q,d_p)\n",
    "  training_labels = train_set['answerable'].tolist()\n",
    "\n",
    "  d_q = validation_set['question_text'].tolist()\n",
    "  d_p = validation_set['document_plaintext'].tolist()\n",
    "  validation_data = question_parag_combine(d_q,d_p)\n",
    "  validation_labels = validation_set['answerable'].tolist()\n",
    "\n",
    "\n",
    "\n",
    "  data_set = {}\n",
    "  sets = [['train',training_data, training_labels], ['val', validation_data, validation_labels]]\n",
    "  for meta in sets:\n",
    "      data_set[meta[0]] = {}\n",
    "      data_set[meta[0]]['text'] = []\n",
    "      data_set[meta[0]]['labels'] = []\n",
    "      \n",
    "      for ind, text in enumerate(meta[1]):\n",
    "          data_set[meta[0]]['text'].append(text)\n",
    "          data_set[meta[0]]['labels'].append(meta[2][ind])\n",
    "\n",
    "          \n",
    "\n",
    "          \n",
    "  data_set = DatasetDict({'train':Dataset.from_dict(data_set['train']),\n",
    "                          'valid':Dataset.from_dict(data_set['val'])\\\n",
    "                        })\n",
    "  return data_set\n",
    "\n",
    "eng_set = make_df(eng_train_set, eng_validation_set)\n",
    "fin_set = make_df(fin_train_set, fin_validation_set)\n",
    "jap_set = make_df(jap_train_set, jap_validation_set)\n",
    "\n",
    "eng_set"
   ]
  },
  {
   "cell_type": "code",
   "execution_count": 115,
   "metadata": {},
   "outputs": [],
   "source": [
    "train_set = eng_set['train']\n",
    "val_set = eng_set['valid']"
   ]
  },
  {
   "cell_type": "code",
   "execution_count": 116,
   "metadata": {},
   "outputs": [
    {
     "name": "stderr",
     "output_type": "stream",
     "text": [
      "c:\\Users\\Hallgrimur\\anaconda3\\lib\\site-packages\\sklearn\\utils\\deprecation.py:87: FutureWarning: Function get_feature_names is deprecated; get_feature_names is deprecated in 1.0 and will be removed in 1.2. Please use get_feature_names_out instead.\n",
      "  warnings.warn(msg, category=FutureWarning)\n"
     ]
    },
    {
     "name": "stdout",
     "output_type": "stream",
     "text": [
      "['recall' 'mayor']\n",
      "['papal' '00']\n"
     ]
    }
   ],
   "source": [
    "n = 100\n",
    "\n",
    "#print(dft_eng['document_plaintext'].values)\n",
    "vectorizer = TfidfVectorizer(max_features=10000)\n",
    "features = vectorizer.fit_transform(train_set['text'])\n",
    "# the raw/textual n-grams the vectorizer is using\n",
    "feature_array = np.array(vectorizer.get_feature_names())\n",
    "# TF-IDF scores of the words in each instance of the input datasets\n",
    "tfidf_sorting = np.argsort(features.toarray()).flatten()[::-1]\n",
    "\n",
    "# With a TF-IDF Vecotrizer, we can already tell the words that have high TF-IDF scores\n",
    "# Even before feeding them to the model:\n",
    "# Look-up of the top-n words at the indices with 1) highest and 2) lowest scores \n",
    "print(feature_array[tfidf_sorting][:2])\n",
    "print(feature_array[tfidf_sorting][-2:])"
   ]
  },
  {
   "cell_type": "code",
   "execution_count": 117,
   "metadata": {},
   "outputs": [
    {
     "data": {
      "text/plain": [
       "LogisticRegression(max_iter=1000, multi_class='multinomial')"
      ]
     },
     "execution_count": 117,
     "metadata": {},
     "output_type": "execute_result"
    }
   ],
   "source": [
    "vectorizer = TfidfVectorizer(ngram_range=(1,2), max_features=1000)\n",
    "features = vectorizer.fit_transform(train_set['text'])\n",
    "# training a linear model, which is interpretable by design\n",
    "lr = LogisticRegression(penalty='l2', max_iter=1000, multi_class='multinomial')\n",
    "lr.fit(features, train_set['labels'])"
   ]
  },
  {
   "cell_type": "code",
   "execution_count": 74,
   "metadata": {},
   "outputs": [],
   "source": [
    "#features_test = vectorizer.fit_transform(dfv_eng.values[:, 0])\n",
    "#preds_tfidf = lr.predict(features_test)"
   ]
  },
  {
   "cell_type": "code",
   "execution_count": 118,
   "metadata": {},
   "outputs": [],
   "source": [
    "features_valid = vectorizer.transform(val_set['text'])\n",
    "preds_valid_tfidf = lr.predict(features_valid)"
   ]
  },
  {
   "cell_type": "code",
   "execution_count": 119,
   "metadata": {},
   "outputs": [],
   "source": [
    "from tqdm import tqdm\n",
    "import nltk"
   ]
  },
  {
   "cell_type": "code",
   "execution_count": 120,
   "metadata": {},
   "outputs": [],
   "source": [
    "from bpemb import BPEmb\n",
    "\n",
    "# Load english model with 25k word-pieces\n",
    "bpemb_en = BPEmb(lang='en', dim=100, vs=25000)"
   ]
  },
  {
   "cell_type": "code",
   "execution_count": 121,
   "metadata": {},
   "outputs": [],
   "source": [
    "def get_bpemb_features(dataset, bpemb):\n",
    "  # With bpemb we can tokenize and embed an entire document using .embed(x)\n",
    "  X = [bpemb.embed(x).mean(0) for x in tqdm(dataset['text'])]\n",
    "  y = dataset['labels']\n",
    " \n",
    "  return X,y"
   ]
  },
  {
   "cell_type": "code",
   "execution_count": 123,
   "metadata": {},
   "outputs": [
    {
     "name": "stderr",
     "output_type": "stream",
     "text": [
      "100%|██████████| 7389/7389 [00:16<00:00, 442.70it/s]\n",
      "100%|██████████| 990/990 [00:01<00:00, 613.78it/s]\n"
     ]
    },
    {
     "data": {
      "text/plain": [
       "LogisticRegression(max_iter=1000, multi_class='multinomial')"
      ]
     },
     "execution_count": 123,
     "metadata": {},
     "output_type": "execute_result"
    }
   ],
   "source": [
    "X_train,y_train = get_bpemb_features(train_set, bpemb_en)\n",
    "X_valid,y_valid = get_bpemb_features(val_set, bpemb_en)\n",
    "lr_bpemb = LogisticRegression(penalty='l2', max_iter=1000, multi_class='multinomial')\n",
    "lr_bpemb.fit(X_train, y_train)"
   ]
  },
  {
   "cell_type": "code",
   "execution_count": 124,
   "metadata": {},
   "outputs": [
    {
     "data": {
      "text/plain": [
       "array([0, 1, 1, 0, 0, 1, 1, 1, 1, 1, 0, 1, 1, 1, 1, 1, 0, 1, 0, 0, 1, 1,\n",
       "       1, 0, 1, 1, 0, 1, 0, 0, 1, 1, 1, 1, 1, 1, 0, 1, 0, 1, 1, 1, 1, 0,\n",
       "       1, 1, 1, 1, 0, 0, 1, 1, 1, 1, 0, 1, 0, 0, 1, 1, 1, 1, 1, 1, 1, 0,\n",
       "       1, 1, 1, 1, 0, 1, 1, 1, 0, 1, 0, 1, 0, 1, 1, 1, 0, 0, 0, 1, 1, 1,\n",
       "       1, 1, 1, 0, 1, 0, 1, 1, 0, 1, 0, 1, 1, 0, 1, 1, 0, 1, 0, 1, 1, 1,\n",
       "       1, 1, 0, 1, 1, 1, 0, 1, 1, 1, 1, 1, 1, 1, 0, 1, 0, 1, 1, 1, 1, 1,\n",
       "       0, 0, 1, 1, 1, 1, 1, 1, 1, 1, 1, 1, 0, 1, 0, 1, 1, 1, 0, 1, 1, 1,\n",
       "       1, 1, 0, 1, 1, 1, 1, 1, 1, 1, 0, 0, 1, 1, 0, 1, 1, 1, 1, 1, 1, 0,\n",
       "       1, 0, 0, 1, 0, 1, 1, 1, 1, 1, 1, 0, 0, 1, 1, 0, 1, 1, 1, 0, 1, 1,\n",
       "       1, 1, 0, 1, 0, 1, 1, 1, 1, 0, 1, 1, 1, 0, 1, 1, 1, 1, 1, 0, 0, 0,\n",
       "       0, 0, 1, 1, 0, 1, 1, 1, 0, 0, 0, 1, 0, 1, 0, 1, 1, 0, 0, 0, 0, 1,\n",
       "       1, 1, 0, 1, 1, 1, 1, 1, 1, 1, 1, 0, 1, 0, 1, 1, 1, 0, 1, 0, 1, 1,\n",
       "       1, 1, 1, 1, 1, 1, 1, 1, 1, 1, 1, 1, 1, 1, 0, 1, 0, 1, 1, 1, 0, 0,\n",
       "       1, 1, 1, 1, 0, 1, 1, 1, 1, 1, 1, 1, 0, 0, 1, 0, 1, 0, 1, 1, 0, 0,\n",
       "       0, 0, 0, 0, 1, 1, 0, 1, 1, 1, 0, 1, 1, 1, 1, 1, 1, 1, 0, 1, 1, 0,\n",
       "       1, 0, 1, 1, 1, 1, 1, 1, 1, 1, 1, 1, 1, 1, 1, 1, 1, 0, 1, 1, 1, 1,\n",
       "       1, 1, 1, 0, 1, 1, 0, 0, 0, 1, 1, 0, 1, 0, 1, 0, 1, 1, 1, 1, 0, 1,\n",
       "       1, 1, 1, 1, 1, 1, 0, 1, 1, 1, 1, 0, 1, 1, 1, 0, 1, 0, 1, 0, 1, 1,\n",
       "       1, 0, 1, 1, 1, 1, 0, 1, 0, 0, 0, 1, 1, 1, 0, 0, 1, 1, 1, 1, 1, 0,\n",
       "       0, 1, 0, 1, 1, 1, 1, 1, 0, 1, 0, 1, 0, 1, 1, 1, 1, 1, 1, 1, 1, 1,\n",
       "       1, 1, 1, 1, 1, 1, 1, 0, 1, 1, 0, 1, 0, 1, 1, 1, 1, 1, 1, 1, 1, 0,\n",
       "       1, 0, 1, 1, 0, 1, 0, 1, 1, 1, 1, 1, 1, 1, 0, 0, 0, 1, 1, 0, 1, 1,\n",
       "       1, 1, 1, 0, 0, 1, 1, 1, 0, 0, 1, 0, 1, 1, 0, 1, 0, 0, 1, 1, 0, 0,\n",
       "       1, 0, 1, 0, 1, 0, 1, 1, 0, 1, 1, 0, 0, 0, 0, 0, 1, 0, 0, 1, 1, 1,\n",
       "       0, 1, 1, 0, 0, 1, 0, 1, 1, 1, 0, 0, 0, 1, 0, 0, 0, 0, 0, 1, 0, 0,\n",
       "       1, 0, 0, 0, 1, 0, 1, 1, 0, 1, 1, 1, 1, 1, 0, 0, 0, 0, 0, 0, 0, 0,\n",
       "       1, 0, 0, 0, 0, 0, 0, 1, 1, 0, 0, 1, 0, 0, 0, 1, 0, 0, 0, 0, 1, 0,\n",
       "       0, 0, 0, 0, 1, 0, 1, 0, 0, 0, 0, 0, 0, 0, 1, 0, 1, 0, 1, 0, 0, 1,\n",
       "       0, 1, 1, 0, 1, 0, 0, 0, 1, 1, 0, 0, 0, 1, 0, 1, 1, 0, 1, 0, 0, 0,\n",
       "       0, 0, 0, 0, 0, 0, 0, 1, 0, 1, 0, 1, 1, 0, 1, 0, 1, 1, 0, 1, 0, 0,\n",
       "       0, 0, 0, 1, 1, 1, 0, 0, 0, 0, 0, 1, 1, 1, 0, 0, 0, 0, 0, 1, 0, 1,\n",
       "       1, 0, 0, 0, 0, 1, 0, 1, 0, 0, 1, 0, 0, 0, 0, 1, 0, 0, 1, 1, 0, 1,\n",
       "       0, 0, 0, 1, 1, 0, 0, 1, 0, 0, 1, 0, 0, 0, 0, 0, 0, 0, 0, 0, 0, 0,\n",
       "       1, 0, 1, 1, 1, 1, 1, 0, 0, 0, 0, 1, 0, 0, 0, 1, 0, 0, 1, 1, 1, 0,\n",
       "       0, 1, 0, 0, 1, 0, 0, 0, 1, 0, 1, 0, 0, 0, 0, 1, 1, 1, 1, 1, 1, 1,\n",
       "       0, 0, 1, 0, 1, 0, 1, 0, 1, 1, 0, 0, 1, 0, 1, 0, 0, 1, 1, 1, 0, 1,\n",
       "       0, 0, 0, 0, 1, 0, 1, 0, 0, 0, 0, 1, 1, 1, 0, 0, 0, 0, 0, 0, 0, 0,\n",
       "       0, 1, 0, 0, 1, 0, 1, 0, 0, 0, 0, 0, 0, 0, 0, 0, 1, 0, 1, 0, 0, 0,\n",
       "       0, 0, 0, 0, 1, 1, 0, 0, 0, 0, 0, 0, 1, 1, 0, 1, 0, 1, 1, 0, 0, 1,\n",
       "       0, 1, 0, 0, 0, 1, 1, 1, 1, 0, 0, 0, 0, 1, 0, 0, 0, 0, 0, 1, 0, 1,\n",
       "       0, 0, 0, 0, 0, 0, 0, 0, 0, 0, 1, 0, 1, 0, 1, 1, 1, 0, 0, 0, 1, 0,\n",
       "       1, 1, 0, 0, 0, 0, 1, 1, 0, 0, 0, 0, 0, 0, 1, 1, 0, 0, 1, 0, 0, 0,\n",
       "       0, 0, 0, 0, 1, 1, 0, 0, 0, 0, 1, 0, 1, 0, 0, 1, 0, 1, 1, 1, 1, 0,\n",
       "       0, 0, 1, 0, 0, 0, 0, 0, 0, 1, 0, 0, 0, 0, 0, 0, 0, 0, 0, 0, 1, 0,\n",
       "       0, 0, 0, 0, 0, 0, 1, 0, 0, 0, 1, 1, 0, 0, 1, 0, 1, 0, 0, 1, 0, 0])"
      ]
     },
     "execution_count": 124,
     "metadata": {},
     "output_type": "execute_result"
    }
   ],
   "source": [
    "#preds_bpemb = lr_bpemb.predict(X_test)\n",
    "preds_valid_bpemb = lr_bpemb.predict(X_valid)\n",
    "preds_valid_bpemb"
   ]
  },
  {
   "cell_type": "code",
   "execution_count": 126,
   "metadata": {},
   "outputs": [
    {
     "data": {
      "text/html": [
       "<div>\n",
       "<style scoped>\n",
       "    .dataframe tbody tr th:only-of-type {\n",
       "        vertical-align: middle;\n",
       "    }\n",
       "\n",
       "    .dataframe tbody tr th {\n",
       "        vertical-align: top;\n",
       "    }\n",
       "\n",
       "    .dataframe thead th {\n",
       "        text-align: right;\n",
       "    }\n",
       "</style>\n",
       "<table border=\"1\" class=\"dataframe\">\n",
       "  <thead>\n",
       "    <tr style=\"text-align: right;\">\n",
       "      <th></th>\n",
       "      <th>precision</th>\n",
       "      <th>recall</th>\n",
       "      <th>f1-score</th>\n",
       "      <th>support</th>\n",
       "    </tr>\n",
       "  </thead>\n",
       "  <tbody>\n",
       "    <tr>\n",
       "      <th>0</th>\n",
       "      <td>0.737395</td>\n",
       "      <td>0.709091</td>\n",
       "      <td>0.722966</td>\n",
       "      <td>495.000000</td>\n",
       "    </tr>\n",
       "    <tr>\n",
       "      <th>1</th>\n",
       "      <td>0.719844</td>\n",
       "      <td>0.747475</td>\n",
       "      <td>0.733399</td>\n",
       "      <td>495.000000</td>\n",
       "    </tr>\n",
       "    <tr>\n",
       "      <th>accuracy</th>\n",
       "      <td>0.728283</td>\n",
       "      <td>0.728283</td>\n",
       "      <td>0.728283</td>\n",
       "      <td>0.728283</td>\n",
       "    </tr>\n",
       "    <tr>\n",
       "      <th>macro avg</th>\n",
       "      <td>0.728620</td>\n",
       "      <td>0.728283</td>\n",
       "      <td>0.728183</td>\n",
       "      <td>990.000000</td>\n",
       "    </tr>\n",
       "    <tr>\n",
       "      <th>weighted avg</th>\n",
       "      <td>0.728620</td>\n",
       "      <td>0.728283</td>\n",
       "      <td>0.728183</td>\n",
       "      <td>990.000000</td>\n",
       "    </tr>\n",
       "  </tbody>\n",
       "</table>\n",
       "</div>"
      ],
      "text/plain": [
       "              precision    recall  f1-score     support\n",
       "0              0.737395  0.709091  0.722966  495.000000\n",
       "1              0.719844  0.747475  0.733399  495.000000\n",
       "accuracy       0.728283  0.728283  0.728283    0.728283\n",
       "macro avg      0.728620  0.728283  0.728183  990.000000\n",
       "weighted avg   0.728620  0.728283  0.728183  990.000000"
      ]
     },
     "execution_count": 126,
     "metadata": {},
     "output_type": "execute_result"
    }
   ],
   "source": [
    "# TF-IDF model \n",
    "y_valid = val_set['labels']\n",
    "report = classification_report(y_valid, preds_valid_tfidf, output_dict=True)\n",
    "pd.DataFrame(report).transpose()"
   ]
  },
  {
   "cell_type": "code",
   "execution_count": 127,
   "metadata": {},
   "outputs": [
    {
     "data": {
      "text/html": [
       "<div>\n",
       "<style scoped>\n",
       "    .dataframe tbody tr th:only-of-type {\n",
       "        vertical-align: middle;\n",
       "    }\n",
       "\n",
       "    .dataframe tbody tr th {\n",
       "        vertical-align: top;\n",
       "    }\n",
       "\n",
       "    .dataframe thead th {\n",
       "        text-align: right;\n",
       "    }\n",
       "</style>\n",
       "<table border=\"1\" class=\"dataframe\">\n",
       "  <thead>\n",
       "    <tr style=\"text-align: right;\">\n",
       "      <th></th>\n",
       "      <th>precision</th>\n",
       "      <th>recall</th>\n",
       "      <th>f1-score</th>\n",
       "      <th>support</th>\n",
       "    </tr>\n",
       "  </thead>\n",
       "  <tbody>\n",
       "    <tr>\n",
       "      <th>0</th>\n",
       "      <td>0.696121</td>\n",
       "      <td>0.652525</td>\n",
       "      <td>0.673618</td>\n",
       "      <td>495.000000</td>\n",
       "    </tr>\n",
       "    <tr>\n",
       "      <th>1</th>\n",
       "      <td>0.673004</td>\n",
       "      <td>0.715152</td>\n",
       "      <td>0.693438</td>\n",
       "      <td>495.000000</td>\n",
       "    </tr>\n",
       "    <tr>\n",
       "      <th>accuracy</th>\n",
       "      <td>0.683838</td>\n",
       "      <td>0.683838</td>\n",
       "      <td>0.683838</td>\n",
       "      <td>0.683838</td>\n",
       "    </tr>\n",
       "    <tr>\n",
       "      <th>macro avg</th>\n",
       "      <td>0.684562</td>\n",
       "      <td>0.683838</td>\n",
       "      <td>0.683528</td>\n",
       "      <td>990.000000</td>\n",
       "    </tr>\n",
       "    <tr>\n",
       "      <th>weighted avg</th>\n",
       "      <td>0.684562</td>\n",
       "      <td>0.683838</td>\n",
       "      <td>0.683528</td>\n",
       "      <td>990.000000</td>\n",
       "    </tr>\n",
       "  </tbody>\n",
       "</table>\n",
       "</div>"
      ],
      "text/plain": [
       "              precision    recall  f1-score     support\n",
       "0              0.696121  0.652525  0.673618  495.000000\n",
       "1              0.673004  0.715152  0.693438  495.000000\n",
       "accuracy       0.683838  0.683838  0.683838    0.683838\n",
       "macro avg      0.684562  0.683838  0.683528  990.000000\n",
       "weighted avg   0.684562  0.683838  0.683528  990.000000"
      ]
     },
     "execution_count": 127,
     "metadata": {},
     "output_type": "execute_result"
    }
   ],
   "source": [
    "# BPEmb model \n",
    "report = classification_report(y_valid, preds_valid_bpemb, output_dict=True)\n",
    "pd.DataFrame(report).transpose()"
   ]
  },
  {
   "cell_type": "code",
   "execution_count": 130,
   "metadata": {},
   "outputs": [
    {
     "data": {
      "text/plain": [
       "array([[351, 144],\n",
       "       [125, 370]], dtype=int64)"
      ]
     },
     "execution_count": 130,
     "metadata": {},
     "output_type": "execute_result"
    }
   ],
   "source": [
    "confusion_matrix(val_set['labels'], preds_valid_tfidf)\n"
   ]
  },
  {
   "cell_type": "code",
   "execution_count": 132,
   "metadata": {},
   "outputs": [
    {
     "data": {
      "text/plain": [
       "array([[323, 172],\n",
       "       [141, 354]], dtype=int64)"
      ]
     },
     "execution_count": 132,
     "metadata": {},
     "output_type": "execute_result"
    }
   ],
   "source": [
    "confusion_matrix(val_set['labels'], preds_valid_bpemb)"
   ]
  },
  {
   "cell_type": "code",
   "execution_count": 139,
   "metadata": {},
   "outputs": [
    {
     "name": "stdout",
     "output_type": "stream",
     "text": [
      "0\n"
     ]
    },
    {
     "data": {
      "image/png": "[encoded data removed]",
      "text/plain": [
       "<Figure size 1080x360 with 1 Axes>"
      ]
     },
     "metadata": {
      "needs_background": "light"
     },
     "output_type": "display_data"
    },
    {
     "name": "stdout",
     "output_type": "stream",
     "text": [
      "1\n"
     ]
    },
    {
     "ename": "IndexError",
     "evalue": "index 1 is out of bounds for axis 0 with size 1",
     "output_type": "error",
     "traceback": [
      "\u001b[1;31m---------------------------------------------------------------------------\u001b[0m",
      "\u001b[1;31mIndexError\u001b[0m                                Traceback (most recent call last)",
      "\u001b[1;32mc:\\Users\\Hallgrimur\\Desktop\\KU\\NLP\\nlptasks\\notebooks\\hali-temp\\Untitled-1.ipynb Cell 24\u001b[0m in \u001b[0;36m<cell line: 5>\u001b[1;34m()\u001b[0m\n\u001b[0;32m      <a href='vscode-notebook-cell:/c%3A/Users/Hallgrimur/Desktop/KU/NLP/nlptasks/notebooks/hali-temp/Untitled-1.ipynb#X34sZmlsZQ%3D%3D?line=5'>6</a>\u001b[0m \u001b[39mprint\u001b[39m(\u001b[39mcls\u001b[39m)\n\u001b[0;32m      <a href='vscode-notebook-cell:/c%3A/Users/Hallgrimur/Desktop/KU/NLP/nlptasks/notebooks/hali-temp/Untitled-1.ipynb#X34sZmlsZQ%3D%3D?line=6'>7</a>\u001b[0m \u001b[39m# get the weights for the class\u001b[39;00m\n\u001b[1;32m----> <a href='vscode-notebook-cell:/c%3A/Users/Hallgrimur/Desktop/KU/NLP/nlptasks/notebooks/hali-temp/Untitled-1.ipynb#X34sZmlsZQ%3D%3D?line=7'>8</a>\u001b[0m coef \u001b[39m=\u001b[39m all_class_coef[i]\n\u001b[0;32m      <a href='vscode-notebook-cell:/c%3A/Users/Hallgrimur/Desktop/KU/NLP/nlptasks/notebooks/hali-temp/Untitled-1.ipynb#X34sZmlsZQ%3D%3D?line=8'>9</a>\u001b[0m \u001b[39m# find the top negative and positive features for the class\u001b[39;00m\n\u001b[0;32m     <a href='vscode-notebook-cell:/c%3A/Users/Hallgrimur/Desktop/KU/NLP/nlptasks/notebooks/hali-temp/Untitled-1.ipynb#X34sZmlsZQ%3D%3D?line=9'>10</a>\u001b[0m top_positive_coefficients \u001b[39m=\u001b[39m np\u001b[39m.\u001b[39margsort(coef)[\u001b[39m-\u001b[39mtop_features:]\n",
      "\u001b[1;31mIndexError\u001b[0m: index 1 is out of bounds for axis 0 with size 1"
     ]
    }
   ],
   "source": [
    "top_features = 10\n",
    "# get the model's weights: n_classes x n_features - (? , ?)\n",
    "all_class_coef = lr.coef_\n",
    "\n",
    "for i, cls in enumerate(lr.classes_): # for each of the classes\n",
    "  print(cls)\n",
    "  # get the weights for the class\n",
    "  coef = all_class_coef[i]\n",
    "  # find the top negative and positive features for the class\n",
    "  top_positive_coefficients = np.argsort(coef)[-top_features:]\n",
    "  top_negative_coefficients = np.argsort(coef)[:top_features]\n",
    "  # combine them in one array\n",
    "  top_coefficients = np.hstack([top_negative_coefficients, top_positive_coefficients])\n",
    "  # create plot - humans tend to understand better plot visualizations\n",
    "  feature_names = vectorizer.get_feature_names()\n",
    "  plt.figure(figsize=(15, 5))\n",
    "  colors = ['red' if c < 0 else 'blue' for c in coef[top_coefficients]]\n",
    "  plt.bar(np.arange(2 * top_features), coef[top_coefficients], color=colors)\n",
    "  feature_names = np.array(feature_names)\n",
    "  plt.xticks(np.arange(1, 1 + 2 * top_features), feature_names[top_coefficients], rotation=60, ha='right')\n",
    "  plt.show()"
   ]
  },
  {
   "cell_type": "code",
   "execution_count": 140,
   "metadata": {},
   "outputs": [
    {
     "data": {
      "text/plain": [
       "array([0, 1])"
      ]
     },
     "execution_count": 140,
     "metadata": {},
     "output_type": "execute_result"
    }
   ],
   "source": [
    "lr.classes_"
   ]
  }
 ],
 "metadata": {
  "kernelspec": {
   "display_name": "Python 3.9.12 ('base')",
   "language": "python",
   "name": "python3"
  },
  "language_info": {
   "codemirror_mode": {
    "name": "ipython",
    "version": 3
   },
   "file_extension": ".py",
   "mimetype": "text/x-python",
   "name": "python",
   "nbconvert_exporter": "python",
   "pygments_lexer": "ipython3",
   "version": "3.9.12"
  },
  "orig_nbformat": 4,
  "vscode": {
   "interpreter": {
    "hash": "85ac075dbf107ca10f05bcc388d88f275addd2a735b233d21443c8ee15d0b537"
   }
  }
 },
 "nbformat": 4,
 "nbformat_minor": 2
}
