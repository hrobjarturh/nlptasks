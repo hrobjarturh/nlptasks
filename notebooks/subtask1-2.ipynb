{
 "cells": [
  {
   "cell_type": "code",
   "execution_count": null,
   "metadata": {},
   "outputs": [],
   "source": [
    "import pandas as pd\n",
    "import numpy as np\n",
    "from sklearn.metrics import accuracy_score\n",
    "from sklearn.linear_model import LogisticRegression\n",
    "from collections import Counter\n",
    "from sklearn.feature_extraction.text import CountVectorizer, TfidfVectorizer\n",
    "import pickle\n"
   ]
  },
  {
   "cell_type": "code",
   "execution_count": null,
   "metadata": {},
   "outputs": [],
   "source": [
    "avilable_languages = ['eng','fin','jap']\n",
    "current_language = 'fin'"
   ]
  },
  {
   "cell_type": "code",
   "execution_count": null,
   "metadata": {},
   "outputs": [],
   "source": [
    "# import training data\n",
    "dft = pd.read_csv('../data/dft_'+current_language+'.csv')\n",
    "\n",
    "# import validation data\n",
    "dfv = pd.read_csv('../data/dfv_'+current_language+'.csv')"
   ]
  },
  {
   "cell_type": "code",
   "execution_count": null,
   "metadata": {},
   "outputs": [],
   "source": [
    "dft"
   ]
  },
  {
   "cell_type": "markdown",
   "metadata": {},
   "source": [
    "## Bag of Words"
   ]
  },
  {
   "cell_type": "markdown",
   "metadata": {},
   "source": [
    "### Functions to create BoW vectors"
   ]
  },
  {
   "cell_type": "code",
   "execution_count": null,
   "metadata": {},
   "outputs": [],
   "source": [
    "def make_bow_vector(sentence, countt):\n",
    "    vec = np.zeros(len(countt))\n",
    "    for word in sentence:\n",
    "        vec[countt[word]] += 1\n",
    "    return vec\n",
    "\n",
    "def ans_freq(que, doc):\n",
    "\n",
    "    freq = [x for x in que if x in doc]\n",
    "    freq = len(freq)/len(que)\n",
    "    return freq\n",
    "\n",
    "def freq_words_in_text (df_t,df_v):\n",
    "    for df in [df_t,df_v]:\n",
    "        frequency = []\n",
    "        for question, answer in zip(df['question_text_tokenized'], df['document_plaintext_tokenized']):\n",
    "            frequency.append(ans_freq(eval(question), eval(answer)))\n",
    "\n",
    "        df['word_frequency_score'] = frequency"
   ]
  },
  {
   "cell_type": "markdown",
   "metadata": {},
   "source": [
    "### Combine and flatten"
   ]
  },
  {
   "cell_type": "code",
   "execution_count": null,
   "metadata": {},
   "outputs": [],
   "source": [
    "t_comb2 = [str(que)+ \" \"+ str(doc) for que, doc in zip(dft[\"question_text\"],dft[\"document_plaintext\"])]\n",
    "v_comb2 = [str(que)+ \" \"+ str(doc) for que, doc in zip(dfv[\"question_text\"],dfv[\"document_plaintext\"])]"
   ]
  },
  {
   "cell_type": "code",
   "execution_count": null,
   "metadata": {},
   "outputs": [],
   "source": [
    "t_comb2.extend(v_comb2)"
   ]
  },
  {
   "cell_type": "code",
   "execution_count": null,
   "metadata": {},
   "outputs": [],
   "source": [
    "CountVec = CountVectorizer(ngram_range=(1,1))\n",
    "Count_data = CountVec.fit_transform(t_comb2)"
   ]
  },
  {
   "cell_type": "code",
   "execution_count": null,
   "metadata": {},
   "outputs": [],
   "source": [
    "freq_words_in_text(dft,dfv)"
   ]
  },
  {
   "cell_type": "code",
   "execution_count": null,
   "metadata": {},
   "outputs": [],
   "source": [
    "ct = Count_data.toarray()[:len(dft)]\n",
    "cv = Count_data.toarray()[len(dft):]"
   ]
  },
  {
   "cell_type": "code",
   "execution_count": null,
   "metadata": {},
   "outputs": [],
   "source": [
    "ct = [l.tolist() for l in Count_data.toarray()[:len(dft)]]"
   ]
  },
  {
   "cell_type": "code",
   "execution_count": null,
   "metadata": {},
   "outputs": [],
   "source": [
    "cv = [l.tolist() for l in Count_data.toarray()[len(dft):]]"
   ]
  },
  {
   "cell_type": "code",
   "execution_count": null,
   "metadata": {},
   "outputs": [],
   "source": [
    "t_wf = dft['word_frequency_score'].values\n",
    "v_wf = dfv['word_frequency_score'].values"
   ]
  },
  {
   "cell_type": "code",
   "execution_count": null,
   "metadata": {},
   "outputs": [],
   "source": [
    "xt = []\n",
    "for index in range(len(dft)):\n",
    "    xt.append(np.append(t_wf[index],ct[index]))\n",
    "    \n",
    "xv = []\n",
    "for index in range(len(dfv)):\n",
    "    xv.append(np.append(v_wf[index],cv[index]))"
   ]
  },
  {
   "cell_type": "code",
   "execution_count": null,
   "metadata": {},
   "outputs": [],
   "source": [
    "X_train = np.array(xt)\n",
    "X_val = np.array(xv)\n",
    "y_train = dft.label.values\n",
    "y_val = dfv.label.values"
   ]
  },
  {
   "cell_type": "code",
   "execution_count": null,
   "metadata": {},
   "outputs": [],
   "source": [
    "clf = LogisticRegression(C=1000, penalty='l1', random_state=1, solver='liblinear').fit(X_train, y_train)"
   ]
  },
  {
   "cell_type": "code",
   "execution_count": null,
   "metadata": {},
   "outputs": [],
   "source": [
    "val_pred = clf.predict(X_val)\n",
    "accuracy_score(val_pred, y_val)"
   ]
  },
  {
   "cell_type": "code",
   "execution_count": null,
   "metadata": {},
   "outputs": [],
   "source": [
    "train_pred = clf.predict(X_train)\n",
    "accuracy_score(train_pred, y_train)"
   ]
  },
  {
   "cell_type": "code",
   "execution_count": null,
   "metadata": {},
   "outputs": [],
   "source": [
    "#filename = '../../models/logres_model_'+current_language+'.sav'\n",
    "#pickle.dump(clf, open(filename, 'wb'))"
   ]
  },
  {
   "cell_type": "code",
   "execution_count": null,
   "metadata": {},
   "outputs": [],
   "source": [
    "len(val_pred)"
   ]
  },
  {
   "cell_type": "code",
   "execution_count": null,
   "metadata": {},
   "outputs": [],
   "source": [
    "dft['logres_pred']=train_pred\n",
    "dfv['logres_pred']=val_pred\n"
   ]
  },
  {
   "cell_type": "code",
   "execution_count": null,
   "metadata": {},
   "outputs": [],
   "source": [
    "dft"
   ]
  },
  {
   "cell_type": "code",
   "execution_count": null,
   "metadata": {},
   "outputs": [],
   "source": [
    "dft.to_csv('../data/dft_'+current_language+'.csv',index=False) "
   ]
  },
  {
   "cell_type": "code",
   "execution_count": null,
   "metadata": {},
   "outputs": [],
   "source": [
    "dfv.to_csv('../data/dfv_'+current_language+'.csv',index=False) "
   ]
  },
  {
   "cell_type": "code",
   "execution_count": null,
   "metadata": {},
   "outputs": [],
   "source": []
  }
 ],
 "metadata": {
  "kernelspec": {
   "display_name": "Python 3.10.6 64-bit",
   "language": "python",
   "name": "python3"
  },
  "language_info": {
   "codemirror_mode": {
    "name": "ipython",
    "version": 3
   },
   "file_extension": ".py",
   "mimetype": "text/x-python",
   "name": "python",
   "nbconvert_exporter": "python",
   "pygments_lexer": "ipython3",
   "version": "3.10.6"
  },
  "vscode": {
   "interpreter": {
    "hash": "aee8b7b246df8f9039afb4144a1f6fd8d2ca17a180786b69acc140d282b71a49"
   }
  }
 },
 "nbformat": 4,
 "nbformat_minor": 2
}
