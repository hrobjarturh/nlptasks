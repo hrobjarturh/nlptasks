{
  "nbformat": 4,
  "nbformat_minor": 0,
  "metadata": {
    "colab": {
      "provenance": [],
      "collapsed_sections": []
    },
    "kernelspec": {
      "name": "python3",
      "display_name": "Python 3"
    },
    "language_info": {
      "name": "python"
    }
  },
  "cells": [
    {
      "cell_type": "code",
      "execution_count": null,
      "metadata": {
        "id": "mlE0Kx8k60cc"
      },
      "outputs": [],
      "source": [
        "import pandas as pd\n",
        "import numpy as np\n",
        "import random\n",
        "from torch import nn\n",
        "import torch\n",
        "import transformers"
      ]
    },
    {
      "cell_type": "code",
      "source": [
        "!pip install transformers\n",
        "!git clone https://github.com/hrobjarturh/nlptasks.git"
      ],
      "metadata": {
        "colab": {
          "base_uri": "https://localhost:8080/"
        },
        "id": "wE8aO2f17RXo",
        "outputId": "4c4d639c-eb2e-4d90-8082-6219feae55e7"
      },
      "execution_count": null,
      "outputs": [
        {
          "output_type": "stream",
          "name": "stdout",
          "text": [
            "Looking in indexes: https://pypi.org/simple, https://us-python.pkg.dev/colab-wheels/public/simple/\n",
            "Requirement already satisfied: transformers in /usr/local/lib/python3.7/dist-packages (4.24.0)\n",
            "Requirement already satisfied: pyyaml>=5.1 in /usr/local/lib/python3.7/dist-packages (from transformers) (6.0)\n",
            "Requirement already satisfied: tqdm>=4.27 in /usr/local/lib/python3.7/dist-packages (from transformers) (4.64.1)\n",
            "Requirement already satisfied: filelock in /usr/local/lib/python3.7/dist-packages (from transformers) (3.8.0)\n",
            "Requirement already satisfied: packaging>=20.0 in /usr/local/lib/python3.7/dist-packages (from transformers) (21.3)\n",
            "Requirement already satisfied: regex!=2019.12.17 in /usr/local/lib/python3.7/dist-packages (from transformers) (2022.6.2)\n",
            "Requirement already satisfied: tokenizers!=0.11.3,<0.14,>=0.11.1 in /usr/local/lib/python3.7/dist-packages (from transformers) (0.13.1)\n",
            "Requirement already satisfied: numpy>=1.17 in /usr/local/lib/python3.7/dist-packages (from transformers) (1.21.6)\n",
            "Requirement already satisfied: importlib-metadata in /usr/local/lib/python3.7/dist-packages (from transformers) (4.13.0)\n",
            "Requirement already satisfied: huggingface-hub<1.0,>=0.10.0 in /usr/local/lib/python3.7/dist-packages (from transformers) (0.10.1)\n",
            "Requirement already satisfied: requests in /usr/local/lib/python3.7/dist-packages (from transformers) (2.23.0)\n",
            "Requirement already satisfied: typing-extensions>=3.7.4.3 in /usr/local/lib/python3.7/dist-packages (from huggingface-hub<1.0,>=0.10.0->transformers) (4.1.1)\n",
            "Requirement already satisfied: pyparsing!=3.0.5,>=2.0.2 in /usr/local/lib/python3.7/dist-packages (from packaging>=20.0->transformers) (3.0.9)\n",
            "Requirement already satisfied: zipp>=0.5 in /usr/local/lib/python3.7/dist-packages (from importlib-metadata->transformers) (3.10.0)\n",
            "Requirement already satisfied: certifi>=2017.4.17 in /usr/local/lib/python3.7/dist-packages (from requests->transformers) (2022.9.24)\n",
            "Requirement already satisfied: chardet<4,>=3.0.2 in /usr/local/lib/python3.7/dist-packages (from requests->transformers) (3.0.4)\n",
            "Requirement already satisfied: urllib3!=1.25.0,!=1.25.1,<1.26,>=1.21.1 in /usr/local/lib/python3.7/dist-packages (from requests->transformers) (1.24.3)\n",
            "Requirement already satisfied: idna<3,>=2.5 in /usr/local/lib/python3.7/dist-packages (from requests->transformers) (2.10)\n",
            "Cloning into 'nlptasks'...\n",
            "remote: Enumerating objects: 384, done.\u001b[K\n",
            "remote: Counting objects: 100% (49/49), done.\u001b[K\n",
            "remote: Compressing objects: 100% (37/37), done.\u001b[K\n",
            "remote: Total 384 (delta 15), reused 36 (delta 12), pack-reused 335\u001b[K\n",
            "Receiving objects: 100% (384/384), 357.39 MiB | 10.15 MiB/s, done.\n",
            "Resolving deltas: 100% (201/201), done.\n",
            "Checking out files: 100% (56/56), done.\n"
          ]
        }
      ]
    },
    {
      "cell_type": "code",
      "source": [
        "from google.colab import drive\n",
        "drive.mount('/content/drive')\n",
        "%cd /content/drive/MyDrive/nlptasks/"
      ],
      "metadata": {
        "colab": {
          "base_uri": "https://localhost:8080/"
        },
        "id": "LHeIa9Rq65qh",
        "outputId": "afd9f318-0d64-45b1-a432-306dc1f3e189"
      },
      "execution_count": null,
      "outputs": [
        {
          "output_type": "stream",
          "name": "stdout",
          "text": [
            "Drive already mounted at /content/drive; to attempt to forcibly remount, call drive.mount(\"/content/drive\", force_remount=True).\n",
            "[Errno 2] No such file or directory: '/content/drive/MyDrive/nlptasks/'\n",
            "/content\n"
          ]
        }
      ]
    },
    {
      "cell_type": "code",
      "source": [
        "jap_model = torch.load('drive/MyDrive/jap_model.pth',map_location ='cpu')\n",
        "fin_model = torch.load('drive/MyDrive/fin_model.pth',map_location ='cpu')\n",
        "eng_model = torch.load('drive/MyDrive/eng_model.pth',map_location ='cpu')"
      ],
      "metadata": {
        "id": "UlF8QTzj7FiY"
      },
      "execution_count": null,
      "outputs": []
    },
    {
      "cell_type": "code",
      "source": [
        "from transformers import TrainingArguments, Trainer, T5Tokenizer, GPT2Tokenizer, AutoTokenizer\n",
        "%pip install SentencePiece \n",
        "\n",
        "#import tokenizers\n",
        "eng_tokenizer = AutoTokenizer.from_pretrained('distilgpt2')\n",
        "\n",
        "jap_tokenizer = T5Tokenizer.from_pretrained(\"rinna/japanese-gpt2-medium\")\n",
        "jap_tokenizer.do_lower_case = True\n",
        "\n",
        "fin_tokenizer = AutoTokenizer.from_pretrained('Finnish-NLP/gpt2-finnish'\n",
        ")\n",
        "\n"
      ],
      "metadata": {
        "colab": {
          "base_uri": "https://localhost:8080/"
        },
        "id": "EZMXscFY7Flm",
        "outputId": "a088ca91-6e6f-4781-ba56-1cdf66351475"
      },
      "execution_count": null,
      "outputs": [
        {
          "output_type": "stream",
          "name": "stdout",
          "text": [
            "Looking in indexes: https://pypi.org/simple, https://us-python.pkg.dev/colab-wheels/public/simple/\n",
            "Requirement already satisfied: SentencePiece in /usr/local/lib/python3.7/dist-packages (0.1.97)\n"
          ]
        }
      ]
    },
    {
      "cell_type": "code",
      "source": [
        "#generate text \n",
        "def get_sample(input, model, tokenizer):\n",
        "  input_ids = tokenizer.encode(input, return_tensors='pt')\n",
        "\n",
        "  greedy_output = model.generate(input_ids, max_length=50, do_sample=True, top_k=50)\n",
        "  return (tokenizer.decode(greedy_output[0], skip_special_tokens=True, do_sample=True))\n",
        "\n"
      ],
      "metadata": {
        "id": "RTAo2e9P7FoR"
      },
      "execution_count": null,
      "outputs": []
    },
    {
      "cell_type": "code",
      "source": [
        "%cd drive/MyDrive/"
      ],
      "metadata": {
        "colab": {
          "base_uri": "https://localhost:8080/"
        },
        "id": "KgKtH5o3Zxf2",
        "outputId": "4c29b837-ae30-4f64-8828-cc939fcc473c"
      },
      "execution_count": null,
      "outputs": [
        {
          "output_type": "stream",
          "name": "stdout",
          "text": [
            "/content/drive/MyDrive\n"
          ]
        }
      ]
    },
    {
      "cell_type": "code",
      "source": [
        "# import training data\n",
        "dfte = pd.read_csv('nlptasks/data/dft_eng.csv')\n",
        "dftj = pd.read_csv('nlptasks/data/dft_jap.csv')\n",
        "dftf = pd.read_csv('nlptasks/data/dft_fin.csv')\n",
        "\n",
        "\n",
        "# import validation data\n",
        "dfve = pd.read_csv('nlptasks/data/dfv_eng.csv')\n",
        "dfvj = pd.read_csv('nlptasks/data/dfv_jap.csv')\n",
        "dfvf = pd.read_csv('nlptasks/data/dfv_fin.csv')"
      ],
      "metadata": {
        "id": "tGUcNhiq7Fqy"
      },
      "execution_count": null,
      "outputs": []
    },
    {
      "cell_type": "code",
      "source": [
        "eng_samples = [get_sample((x), eng_model, eng_tokenizer) for x in dfte.question_text[0:10]]\n",
        "fin_samples = [get_sample((x), fin_model, fin_tokenizer) for x in dftf.question_text[0:10]]\n",
        "jap_samples = [get_sample((x), jap_model, jap_tokenizer) for x in dftj.question_text[0:10]]"
      ],
      "metadata": {
        "colab": {
          "base_uri": "https://localhost:8080/"
        },
        "id": "CvbojYUK7FtH",
        "outputId": "b8e31b2e-9745-4bd1-c00a-40c4833f795d"
      },
      "execution_count": null,
      "outputs": [
        {
          "output_type": "stream",
          "name": "stderr",
          "text": [
            "The attention mask and the pad token id were not set. As a consequence, you may observe unexpected behavior. Please pass your input's `attention_mask` to obtain reliable results.\n",
            "Setting `pad_token_id` to `eos_token_id`:50256 for open-end generation.\n",
            "The attention mask and the pad token id were not set. As a consequence, you may observe unexpected behavior. Please pass your input's `attention_mask` to obtain reliable results.\n",
            "Setting `pad_token_id` to `eos_token_id`:50256 for open-end generation.\n",
            "The attention mask and the pad token id were not set. As a consequence, you may observe unexpected behavior. Please pass your input's `attention_mask` to obtain reliable results.\n",
            "Setting `pad_token_id` to `eos_token_id`:50256 for open-end generation.\n",
            "The attention mask and the pad token id were not set. As a consequence, you may observe unexpected behavior. Please pass your input's `attention_mask` to obtain reliable results.\n",
            "Setting `pad_token_id` to `eos_token_id`:50256 for open-end generation.\n",
            "The attention mask and the pad token id were not set. As a consequence, you may observe unexpected behavior. Please pass your input's `attention_mask` to obtain reliable results.\n",
            "Setting `pad_token_id` to `eos_token_id`:50256 for open-end generation.\n",
            "The attention mask and the pad token id were not set. As a consequence, you may observe unexpected behavior. Please pass your input's `attention_mask` to obtain reliable results.\n",
            "Setting `pad_token_id` to `eos_token_id`:50256 for open-end generation.\n",
            "The attention mask and the pad token id were not set. As a consequence, you may observe unexpected behavior. Please pass your input's `attention_mask` to obtain reliable results.\n",
            "Setting `pad_token_id` to `eos_token_id`:50256 for open-end generation.\n",
            "The attention mask and the pad token id were not set. As a consequence, you may observe unexpected behavior. Please pass your input's `attention_mask` to obtain reliable results.\n",
            "Setting `pad_token_id` to `eos_token_id`:50256 for open-end generation.\n",
            "The attention mask and the pad token id were not set. As a consequence, you may observe unexpected behavior. Please pass your input's `attention_mask` to obtain reliable results.\n",
            "Setting `pad_token_id` to `eos_token_id`:50256 for open-end generation.\n",
            "The attention mask and the pad token id were not set. As a consequence, you may observe unexpected behavior. Please pass your input's `attention_mask` to obtain reliable results.\n",
            "Setting `pad_token_id` to `eos_token_id`:50256 for open-end generation.\n",
            "The attention mask and the pad token id were not set. As a consequence, you may observe unexpected behavior. Please pass your input's `attention_mask` to obtain reliable results.\n",
            "Setting `pad_token_id` to `eos_token_id`:50256 for open-end generation.\n",
            "The attention mask and the pad token id were not set. As a consequence, you may observe unexpected behavior. Please pass your input's `attention_mask` to obtain reliable results.\n",
            "Setting `pad_token_id` to `eos_token_id`:50256 for open-end generation.\n",
            "The attention mask and the pad token id were not set. As a consequence, you may observe unexpected behavior. Please pass your input's `attention_mask` to obtain reliable results.\n",
            "Setting `pad_token_id` to `eos_token_id`:50256 for open-end generation.\n",
            "The attention mask and the pad token id were not set. As a consequence, you may observe unexpected behavior. Please pass your input's `attention_mask` to obtain reliable results.\n",
            "Setting `pad_token_id` to `eos_token_id`:50256 for open-end generation.\n",
            "The attention mask and the pad token id were not set. As a consequence, you may observe unexpected behavior. Please pass your input's `attention_mask` to obtain reliable results.\n",
            "Setting `pad_token_id` to `eos_token_id`:50256 for open-end generation.\n",
            "The attention mask and the pad token id were not set. As a consequence, you may observe unexpected behavior. Please pass your input's `attention_mask` to obtain reliable results.\n",
            "Setting `pad_token_id` to `eos_token_id`:50256 for open-end generation.\n",
            "The attention mask and the pad token id were not set. As a consequence, you may observe unexpected behavior. Please pass your input's `attention_mask` to obtain reliable results.\n",
            "Setting `pad_token_id` to `eos_token_id`:50256 for open-end generation.\n",
            "The attention mask and the pad token id were not set. As a consequence, you may observe unexpected behavior. Please pass your input's `attention_mask` to obtain reliable results.\n",
            "Setting `pad_token_id` to `eos_token_id`:50256 for open-end generation.\n",
            "The attention mask and the pad token id were not set. As a consequence, you may observe unexpected behavior. Please pass your input's `attention_mask` to obtain reliable results.\n",
            "Setting `pad_token_id` to `eos_token_id`:50256 for open-end generation.\n",
            "The attention mask and the pad token id were not set. As a consequence, you may observe unexpected behavior. Please pass your input's `attention_mask` to obtain reliable results.\n",
            "Setting `pad_token_id` to `eos_token_id`:50256 for open-end generation.\n",
            "The attention mask and the pad token id were not set. As a consequence, you may observe unexpected behavior. Please pass your input's `attention_mask` to obtain reliable results.\n",
            "Setting `pad_token_id` to `eos_token_id`:2 for open-end generation.\n",
            "A decoder-only architecture is being used, but right-padding was detected! For correct generation results, please set `padding_side='left'` when initializing the tokenizer.\n",
            "The attention mask and the pad token id were not set. As a consequence, you may observe unexpected behavior. Please pass your input's `attention_mask` to obtain reliable results.\n",
            "Setting `pad_token_id` to `eos_token_id`:2 for open-end generation.\n",
            "A decoder-only architecture is being used, but right-padding was detected! For correct generation results, please set `padding_side='left'` when initializing the tokenizer.\n",
            "The attention mask and the pad token id were not set. As a consequence, you may observe unexpected behavior. Please pass your input's `attention_mask` to obtain reliable results.\n",
            "Setting `pad_token_id` to `eos_token_id`:2 for open-end generation.\n",
            "A decoder-only architecture is being used, but right-padding was detected! For correct generation results, please set `padding_side='left'` when initializing the tokenizer.\n",
            "The attention mask and the pad token id were not set. As a consequence, you may observe unexpected behavior. Please pass your input's `attention_mask` to obtain reliable results.\n",
            "Setting `pad_token_id` to `eos_token_id`:2 for open-end generation.\n",
            "A decoder-only architecture is being used, but right-padding was detected! For correct generation results, please set `padding_side='left'` when initializing the tokenizer.\n",
            "The attention mask and the pad token id were not set. As a consequence, you may observe unexpected behavior. Please pass your input's `attention_mask` to obtain reliable results.\n",
            "Setting `pad_token_id` to `eos_token_id`:2 for open-end generation.\n",
            "A decoder-only architecture is being used, but right-padding was detected! For correct generation results, please set `padding_side='left'` when initializing the tokenizer.\n",
            "The attention mask and the pad token id were not set. As a consequence, you may observe unexpected behavior. Please pass your input's `attention_mask` to obtain reliable results.\n",
            "Setting `pad_token_id` to `eos_token_id`:2 for open-end generation.\n",
            "A decoder-only architecture is being used, but right-padding was detected! For correct generation results, please set `padding_side='left'` when initializing the tokenizer.\n",
            "The attention mask and the pad token id were not set. As a consequence, you may observe unexpected behavior. Please pass your input's `attention_mask` to obtain reliable results.\n",
            "Setting `pad_token_id` to `eos_token_id`:2 for open-end generation.\n",
            "A decoder-only architecture is being used, but right-padding was detected! For correct generation results, please set `padding_side='left'` when initializing the tokenizer.\n",
            "The attention mask and the pad token id were not set. As a consequence, you may observe unexpected behavior. Please pass your input's `attention_mask` to obtain reliable results.\n",
            "Setting `pad_token_id` to `eos_token_id`:2 for open-end generation.\n",
            "A decoder-only architecture is being used, but right-padding was detected! For correct generation results, please set `padding_side='left'` when initializing the tokenizer.\n",
            "The attention mask and the pad token id were not set. As a consequence, you may observe unexpected behavior. Please pass your input's `attention_mask` to obtain reliable results.\n",
            "Setting `pad_token_id` to `eos_token_id`:2 for open-end generation.\n",
            "A decoder-only architecture is being used, but right-padding was detected! For correct generation results, please set `padding_side='left'` when initializing the tokenizer.\n",
            "The attention mask and the pad token id were not set. As a consequence, you may observe unexpected behavior. Please pass your input's `attention_mask` to obtain reliable results.\n",
            "Setting `pad_token_id` to `eos_token_id`:2 for open-end generation.\n",
            "A decoder-only architecture is being used, but right-padding was detected! For correct generation results, please set `padding_side='left'` when initializing the tokenizer.\n"
          ]
        }
      ]
    },
    {
      "cell_type": "code",
      "source": [
        "eng_samples"
      ],
      "metadata": {
        "colab": {
          "base_uri": "https://localhost:8080/"
        },
        "id": "qU1Rw3mn7Fvv",
        "outputId": "73df0cdf-25ad-4e3f-9ec6-3b2a45093964"
      },
      "execution_count": null,
      "outputs": [
        {
          "output_type": "execute_result",
          "data": {
            "text/plain": [
              "['When was quantum field theory developed?\\nQuantum gravity was first described when the theory was first applied for general relativity in 1968, when physicist John von Meier published the first \"Quantum Lagrangian\" theory (also known as the \"G',\n",
              " 'Who was the first Nobel prize winner for Literature?\\nOn October 22 1990, Nobel Prize Winning Professor John Travolta and fellow Nobel Prize-nominee Rene Van der Kees stated that it was possible that Nobel Prize winning authors such',\n",
              " 'When is the dialectical method used?\\nIn the modern era, dialectics has become extremely widely used by practitioners of this discipline, including the Anglican and Anglican Dialectic School. In a 2009 study, one in eight dialectic students',\n",
              " 'Who invented Hangul?\\nShangul has been identified in three books: the book Hui Shāyū (The Man and Woman), \"Gangul: A History and History of Gansu\",[2] and the first',\n",
              " 'What do Grasshoppers eat?\\nAs in the European Red Cross,[2] the organization serves a diverse range of people - from children to elderly and their families.How many people live in New York City?\\n[9] the median income',\n",
              " 'How large is the Kerman province of southeastern Iran?\\nThe Kerman is a province of Iran that was previously a Soviet republic. Since then, it has been established by Soviet leaders. A few years ago the Kerman was annexed to a part',\n",
              " 'When was Guitar Hero Live first released?\\nGrand Hero Live (1989) is a band composed of four members from a band called Metal Gear Solid: The Phantom Pain (1998–99 and later) that includes two members from each band. It was',\n",
              " 'When were bluebonnets named the state flower of Texas?\\nAt first, many varieties of bluebonnets were developed, but they remained relatively unchanged from 1910 to 1914. In recent years, many redbonnets have been adopted as well as by',\n",
              " 'Who created the series Clannad?\\nClannad aired over two decades of programming on the Fox 30 series. The first episode was an episode, followed closely by an introduction and an introduction.[1] The second episode featured a short episode,',\n",
              " 'When was the USS Taylor built?\\nTaylor was commissioned on August 3, 1904. On April 11, 1907, the USS Swift was christened a \"Starliner\" for the USS Taylor.[2] It later featured two new vessels: the USS']"
            ]
          },
          "metadata": {},
          "execution_count": 42
        }
      ]
    },
    {
      "cell_type": "code",
      "source": [
        "jap_samples"
      ],
      "metadata": {
        "colab": {
          "base_uri": "https://localhost:8080/"
        },
        "id": "4R6kzZqX7F1O",
        "outputId": "3bf65f32-a8a0-489c-9af0-c2bd2293780c"
      },
      "execution_count": null,
      "outputs": [
        {
          "output_type": "execute_result",
          "data": {
            "text/plain": [
              "['“ダン” ダニエル・ジャドソン・キャラハンの出身はどこ 日本で流通している「赤福」はどこから発祥した? 赤福 - 餅米・白飯・もこ皮が使われ、餡の色',\n",
              " 'サー・マイケル・フィリップ・ジャガーの出身は? ウィリアム・スミス・クラークは19世紀初頭に何で生まれましたか? トマス・ジェファーソンは1831年12月24日にアラバマ州モービルで生まれた。アラバマ州モービル高校に1',\n",
              " 'ラオス王国の王族の名前はなんですか? イスラエル・パレスチナ両政府の国境検問所をどこに設けるべきですか? イスラエルと、パレスチナ双方が監視し、双方からそれぞれ1名の検問官が派遣された。パレスチナ側は、',\n",
              " '日本テレビ系列『zip!』の初代の司会は誰ですか? フランスの政党には何がありますか? なお、フランスは、フランス共産党 (ps) を中心とする野党が圧倒的な勢力を有しており、野党第3党と議会(下院)の全',\n",
              " '西村眞悟弁護士法違反事件で西村が受けた罰則は何? 世界初の人工内耳の開発に成功するのはいつ 1930年代の始め、アメリカのオハイオ州コロンバスにあるシンシナティ・ヒルマン・クリニックでアニー・オコナーとテッド・オコ',\n",
              " 'ミンデン=リュベッケ郡で最古の風車は何? カール・フリードリヒ・ヴィルヘルム2世はいつ生まれた? 2人の兄弟(カールとフリードリヒ)は7歳で夭折した。 フリードリヒ2世の兄(カールとフリードリヒ)',\n",
              " '森上亜希子の出身はどこ 漫画『ドラえもん』はいつ頃から始まった? ドラえもん のび太のしっぽ ドラえもん のび太の人食いニンジン ドラえもん のび太と緑の巨人伝 ドラえもん のび太 のび太の',\n",
              " '相模原線が開通したのはいつ ニュージャパンプロレスはいつ誕生した? 新日本で初代王者になったのは橋本真也。',\n",
              " 'ロジャー・フェデラーはいつ生まれた リチャード・ブラッドリー・ラッセルの出身はどこ リチャード・ブラッドリー・ラッセル(richard bradley russell, 1766年5月14日 - 1818年4',\n",
              " 'ジョージ・ローレンス・マイカンはいつ生まれた? フランスの天文学者は誰ですか? ピエール・ベルジェは1786年にフランスのパリを出発した[1]。この時点において、彼はフランス天文学の発展のほとんどを主導していたばかり']"
            ]
          },
          "metadata": {},
          "execution_count": 44
        }
      ]
    },
    {
      "cell_type": "code",
      "source": [
        "fin_samples"
      ],
      "metadata": {
        "colab": {
          "base_uri": "https://localhost:8080/"
        },
        "id": "u0mU1jXv7F4E",
        "outputId": "6da91233-5f25-4000-955b-819ae32b69df"
      },
      "execution_count": null,
      "outputs": [
        {
          "output_type": "execute_result",
          "data": {
            "text/plain": [
              "['Milloin Charles Fort syntyi?\\nLucy Marie Franklin, 1766\\n\\n� (2. joulukuuta 1807 Lyon, Ranska) olisi yhdysvaltalainen matemaatikko ja matemaatikko. Hänen nimeään ei myöskään tunneta tarkasti. Hän opiskeli matemati',\n",
              " 'Mitä on altruismi?\\n\\nAmeriikan tutkimuksen kannalta altruismi on luonteeltaan luonteeltaan poliittinen käsite, joka viittaa maailmankatsomukselliseen suuntaukseen eli näkemykseen, jossa ei ole mitään uskonnollista tai ideologista, mutta joka kuitenkin mahdollistaa uskon',\n",
              " 'Mikä oli Wilhelm Wagner viimeinen sävellys?\\nLike: The Hymnstone of the Hymnstone of the Hymnstone of the Hymnstone of the Hymnstone of the Hymnstone of',\n",
              " 'Missä Harz sijaitsee?\\nKeväällä 2015 valmistui Harzin viides tuotantokausi. Sarja jatkuu neljällä kaudella, johon sisältyi kaksi neljäsosaa. Sarjan kuudennen kaudella on jälleen vuorossa uusi jakso nimeltään Our year and year. Tällä kertaa vuorossa olevat kausi toisensa',\n",
              " 'Miten paljon täysikasvuinen ahma painaa?\\n]�\\nSuuri ahma on 6,6 kilogrammaa pitkäikäisen eli yli 15 senttimetrin pituisen aikuisen ja aikuisen hirven jälkeläinen. Ahman ruumiinmitta on 10{�{',\n",
              " 'Milloin Leonid Brežnev kuoli?\\nMikä oli ensimmäinen siirtomaa?\\n�[Taistelun jälkeinen rauha perustettiin 1421. Neuvosto-Venäjä kukisti sen neljä vuotta kestäneen rauhansopimuksen mukaisesti. Neuvostoliitto valtasi Krimin vuonna 830. Neuvosto',\n",
              " 'Kuka keksi releen?\\n\\nJeanne Hess, suomalainen fyysikko, joka toimi matematiikan professorina. Hänellä on huomattava rooli fysiikan ja kemian tieteen alalla.]Pian myös fysiikan professori Martti Kosanen, yksi Suomen tunnetuimpia suomalaisia tutkijoita.',\n",
              " 'Kuka Frank Mir on?\\nMilloin Joseph Collins syntyi?\\n�Hetken aikaa myöhemmin Collins syntyi yhdessä veljensä kanssa. Hänen isänsä oli runoilija ja kirjailija Arthur Collins.Kuka on kirjoittanut Atena Kustannus Oy:n kirjan',\n",
              " 'Montako kuuta Saturnuksella on?\\nAlus on lähes yhtä pitkä kuin Saturnuksen kappale ja sillä on myös keula. Kuun pinnalla on kuitenkin vielä hyvin pieni vaikutus siihen, milloin Saturnus on tullut esiin. Vuonna 2016 aluksen keulaosa',\n",
              " 'Mikä maa antoi naisille ensimmäiseksi äänioikeuden?\\nHans Dafoe (1850�]�]� 1850-1900) oli saksalaissyntyinen matemaatikko, joka kannatti naisten äänioikeutta. Dafoe kuoli syöpään vuonna 18']"
            ]
          },
          "metadata": {},
          "execution_count": 45
        }
      ]
    },
    {
      "cell_type": "code",
      "source": [],
      "metadata": {
        "id": "8olMHC3Bccn1"
      },
      "execution_count": null,
      "outputs": []
    }
  ]
}